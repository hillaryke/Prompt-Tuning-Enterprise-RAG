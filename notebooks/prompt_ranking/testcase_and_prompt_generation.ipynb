{
 "cells": [
  {
   "cell_type": "markdown",
   "metadata": {},
   "source": [
    "# Start from scratch"
   ]
  },
  {
   "cell_type": "code",
   "execution_count": 258,
   "metadata": {},
   "outputs": [],
   "source": [
    "task_description = \"Explain the concept of few-shot learning.\""
   ]
  },
  {
   "cell_type": "code",
   "execution_count": 130,
   "metadata": {},
   "outputs": [],
   "source": [
    "from langchain.chat_models import ChatOpenAI  # Assuming you're using OpenAI's models\n",
    "\n",
    "\n",
    "class TestCase:\n",
    "    def __init__(self, prompt, expected_output=None, id=None):\n",
    "        self.prompt = prompt\n",
    "        self.expected_output = expected_output\n",
    "        self.id = id"
   ]
  },
  {
   "cell_type": "markdown",
   "metadata": {},
   "source": [
    "## Generate test cases using chatgpt"
   ]
  },
  {
   "cell_type": "code",
   "execution_count": 153,
   "metadata": {},
   "outputs": [
    {
     "name": "stdout",
     "output_type": "stream",
     "text": [
      "\n",
      "Test Case #1:\n",
      "  Scenario: A student is researching on machine learning and comes across the term few-shot learning for the first time.\n",
      "  Expected Output: The system should explain that few-shot learning is a type of machine learning where a model can learn from very limited training data, usually only a few examples per class, in order to make precise predictions for new unseen data. It should also mention techniques such as meta-learning and transfer learning that are commonly used in few-shot learning approaches.\n",
      "\n",
      "Test Case #2:\n",
      "  Scenario: A software engineer working on developing an image recognition algorithm wants to understand how few-shot learning works.\n",
      "  Expected Output: The system should provide a detailed explanation that in few-shot learning, the model is trained with a very small dataset compared to traditional machine learning models. It utilizes transfer learning, meta-learning, or other techniques to learn from few examples in order to quickly adapt to new information and classification tasks.\n",
      "\n",
      "Test Case #3:\n",
      "  Scenario: A business executive is interested in exploring how few-shot learning can improve their company's customer service chatbot capabilities.\n",
      "  Expected Output: The system should explain how few-shot learning can enhance the chatbot's ability to quickly learn new information or conversation styles with just a few examples, making it easier to tailor the responses to specific customer queries or trends. It should outline potential benefits such as improved customer satisfaction and reduced response time.\n"
     ]
    }
   ],
   "source": [
    "from langchain.chat_models import ChatOpenAI\n",
    "from langchain.schema import HumanMessage\n",
    "\n",
    "class TestCase:\n",
    "    def __init__(self, scenario, expected_output=None, id=None):\n",
    "        self.scenario = scenario\n",
    "        self.expected_output = expected_output\n",
    "        self.id = id\n",
    "        \n",
    "def generate_test_cases(task_description, amount=3):\n",
    "    \"\"\"Generates test cases using a language model based on the task description.\"\"\"\n",
    "\n",
    "    prompt_template = \"\"\"\n",
    "    You are a helpful AI assistant. Please generate {amount} diverse test cases for the following task:\n",
    "\n",
    "    Task: {description}\n",
    "\n",
    "    Each test case should include:\n",
    "    * Scenario: A clear description of the situation or input to be tested.\n",
    "    * Expected output: The ideal or expected output from the system.\n",
    "\n",
    "    Format each test case like this:\n",
    "    Scenario: [Scenario description]\n",
    "    Expected output: [Expected output]\n",
    "    \"\"\"\n",
    "\n",
    "    model = ChatOpenAI(model_name=\"gpt-3.5-turbo\", temperature=1.5)\n",
    "\n",
    "    messages = [\n",
    "        HumanMessage(\n",
    "            content=prompt_template.format(amount=amount, description=task_description)\n",
    "        )\n",
    "    ]\n",
    "\n",
    "    response = model(messages)\n",
    "    generated_text = response.content\n",
    "\n",
    "    test_cases = []\n",
    "    for case_str in generated_text.split(\"Scenario:\"):\n",
    "        case_str = case_str.strip() # Ensure that there are no spaces \n",
    "        if not case_str:\n",
    "            continue\n",
    "        try:\n",
    "            scenario, expected_output = case_str.split(\"Expected output:\", 1)\n",
    "            test_cases.append(\n",
    "                TestCase(scenario.strip(), expected_output.strip())\n",
    "            )\n",
    "        except ValueError:\n",
    "            print(f\"Skipping malformed test case: {case_str}\")  # Handle cases where \"Expected output:\" is missing\n",
    "\n",
    "    return test_cases\n",
    "\n",
    "\n",
    "# Example usage\n",
    "task_description = \"Explain the concept of few-shot learning.\"\n",
    "generated_test_cases = generate_test_cases(task_description)\n",
    "for i, test_case in enumerate(generated_test_cases):\n",
    "    print(f\"\\nTest Case #{i + 1}:\")\n",
    "    print(f\"  Scenario: {test_case.scenario}\")\n",
    "    print(f\"  Expected Output: {test_case.expected_output}\")\n"
   ]
  },
  {
   "cell_type": "markdown",
   "metadata": {},
   "source": [
    "## Generation of prompt candidates"
   ]
  },
  {
   "cell_type": "code",
   "execution_count": 10,
   "metadata": {},
   "outputs": [],
   "source": [
    "from langchain.chat_models import ChatOpenAI\n"
   ]
  },
  {
   "cell_type": "code",
   "execution_count": 11,
   "metadata": {},
   "outputs": [],
   "source": [
    "test_cases = generated_test_cases"
   ]
  },
  {
   "cell_type": "code",
   "execution_count": 12,
   "metadata": {},
   "outputs": [],
   "source": [
    "prompt_generation_model = \"gpt-3.5-turbo\"  # Or another suitable model\n",
    "temperature = 1.0  # Adjust for creativity (higher values = more creative)\n",
    "num_prompt_candidates = 3  # Number of prompts to generate\n",
    "\n",
    "# This emulates the system messages from the JavaScript code\n",
    "system_messages = [\n",
    "    \"You are an AI assistant skilled at creating prompts for retrieving relevant documents.\",\n",
    "    \"Generate a concise and effective prompt to guide document retrieval.\",\n",
    "    \"Craft a prompt that focuses on extracting specific information from documents.\"\n",
    "]"
   ]
  },
  {
   "cell_type": "code",
   "execution_count": 13,
   "metadata": {},
   "outputs": [],
   "source": [
    "prompt_template = \"\"\"\n",
    "You are an AI assistant skilled at creating prompts for retrieving relevant documents. \n",
    "\n",
    "Consider these test cases:\n",
    "\n",
    "{test_cases}\n",
    "\n",
    "Here's the goal for the final prompt:\n",
    "{description}\n",
    "\n",
    "Please create a prompt that would effectively guide the retrieval of relevant documents for similar scenarios.\n",
    "\n",
    "Constraints:\n",
    "* Do NOT include any specific details from the test cases in your prompt.\n",
    "* The prompt should be clear, concise, and easy to understand.\n",
    "* IF YOU USE EXAMPLES, ALWAYS USE ONES THAT ARE VERY DIFFERENT FROM THE TEST CASES.\n",
    "\"\"\"\n"
   ]
  },
  {
   "cell_type": "markdown",
   "metadata": {},
   "source": [
    "## Generate prompt candidates"
   ]
  },
  {
   "cell_type": "code",
   "execution_count": 208,
   "metadata": {},
   "outputs": [],
   "source": [
    "from typing import List\n",
    "from pydantic import BaseModel\n",
    "from langchain.chat_models import ChatOpenAI  # Import the correct class for chat models\n",
    "from langchain.schema import HumanMessage, SystemMessage, AIMessage\n",
    "\n",
    "import nest_asyncio\n",
    "nest_asyncio.apply()\n",
    "\n",
    "\n",
    "# TestCase class (unchanged)\n",
    "# class TestCase(BaseModel):\n",
    "#     prompt: str\n",
    "#     expected_output: str\n",
    "\n",
    "# System messages and model name\n",
    "system_messages = [\n",
    "    \"You are an AI assistant skilled at creating prompts for getting information from relevant documents.\",\n",
    "    \"Generate a concise and effective prompt to guide information retrieval from documents.\",\n",
    "    \"Craft a prompt that focuses on extracting specific information from documents.\"\n",
    "]\n",
    "prompt_generation_model_name = \"gpt-3.5-turbo\"  # Use the correct model name\n",
    "\n",
    "\n",
    "def generate_prompt_candidates(testcases: List[TestCase], description: str) -> List[str]:\n",
    "    \"\"\"Generates prompt candidates using a chat language model.\"\"\"\n",
    "\n",
    "    candidates = []\n",
    "\n",
    "    for i in range(5):\n",
    "        system_message = system_messages[i % len(system_messages)]\n",
    "\n",
    "        formatted_test_cases_str = \"\\n\".join(\n",
    "            [\n",
    "                f\"Test case #{j+1}:\\nScenario: {testcase.prompt}\\nExpected output: {testcase.expected_output}\"\n",
    "                for j, testcase in enumerate(testcases)\n",
    "            ]\n",
    "        )\n",
    "\n",
    "        prompt_content = f\"\"\"\n",
    "        You are an AI assistant skilled at creating prompts for retrieving relevant documents. \n",
    "        \n",
    "        Here are some test case scenarios and their expected outputs:\n",
    "        {formatted_test_cases_str}\n",
    "\n",
    "        Here is what the user wants the final prompt to accomplish:\n",
    "        {description}\n",
    "        \n",
    "        Respond with your prompt, and nothing else. Be creative.\n",
    "        NEVER CHEAT BY INCLUDING SPECIFICS ABOUT THE TEST CASES IN YOUR PROMPT. \n",
    "        ANY PROMPTS WITH THOSE SPECIFIC EXAMPLES WILL BE DISQUALIFIED.\n",
    "        IF YOU USE EXAMPLES, ALWAYS USE ONES THAT ARE VERY DIFFERENT FROM THE TEST CASES.\n",
    "        \"\"\"\n",
    "\n",
    "        temperature = 0.7 if i > 0 else 0 # First prompt deterministic, rest creative\n",
    "\n",
    "        # Use ChatOpenAI for chat models\n",
    "        model = ChatOpenAI(model_name=prompt_generation_model_name, temperature=temperature)  \n",
    "        messages = [\n",
    "            SystemMessage(content=system_message),\n",
    "            HumanMessage(content=prompt_content)\n",
    "        ]\n",
    "\n",
    "        response = model(messages)\n",
    "        candidates.append(response.content.strip())  # Extract the content directly\n",
    "\n",
    "    return candidates\n",
    "\n",
    "# ... (rest of your code) ...\n"
   ]
  },
  {
   "cell_type": "code",
   "execution_count": 103,
   "metadata": {},
   "outputs": [
    {
     "name": "stdout",
     "output_type": "stream",
     "text": [
      "Candidate Prompt #1: Describe the unique approach in machine learning that involves learning from a limited number of examples.\n",
      "Candidate Prompt #2: Describe the principles and techniques involved in a unique approach to machine learning that aims to minimize the amount of training data required.\n",
      "Candidate Prompt #3: Please provide detailed explanations, definitions, and examples to help clarify the concept of few-shot learning.\n",
      "Candidate Prompt #4: Describe the unique approach of a learning method that involves acquiring knowledge from only a limited amount of data.\n",
      "Candidate Prompt #5: Describe the principles and applications of few-shot learning.\n"
     ]
    }
   ],
   "source": [
    "\n",
    "# Example Usage:\n",
    "description = \"Explain the concept of few-shot learning.\"\n",
    "\n",
    "candidates = generate_prompt_candidates(generated_test_cases, description)\n",
    "\n",
    "for i, candidate in enumerate(candidates):\n",
    "    print(f\"Candidate Prompt #{i+1}: {candidate}\")\n",
    "\n"
   ]
  },
  {
   "cell_type": "code",
   "execution_count": 104,
   "metadata": {},
   "outputs": [
    {
     "data": {
      "text/plain": [
       "['Describe the unique approach in machine learning that involves learning from a limited number of examples.',\n",
       " 'Describe the principles and techniques involved in a unique approach to machine learning that aims to minimize the amount of training data required.',\n",
       " 'Please provide detailed explanations, definitions, and examples to help clarify the concept of few-shot learning.',\n",
       " 'Describe the unique approach of a learning method that involves acquiring knowledge from only a limited amount of data.',\n",
       " 'Describe the principles and applications of few-shot learning.']"
      ]
     },
     "execution_count": 104,
     "metadata": {},
     "output_type": "execute_result"
    }
   ],
   "source": [
    "candidates"
   ]
  },
  {
   "cell_type": "markdown",
   "metadata": {},
   "source": [
    "## Get the scores for the prompts"
   ]
  },
  {
   "cell_type": "code",
   "execution_count": 108,
   "metadata": {},
   "outputs": [],
   "source": [
    "import numpy as np\n",
    "import asyncio\n",
    "from langchain.embeddings import OpenAIEmbeddings\n",
    "\n",
    "def get_score(test_case: TestCase, prompt_a: str, prompt_b: str, model: ChatOpenAI, embedding_model: OpenAIEmbeddings):\n",
    "    \"\"\"Calculates the score for a prompt comparison using human judgment or embedding similarity.\"\"\"\n",
    "    answer_a = asyncio.run(getGeneration(prompt_a, test_case, model))\n",
    "    answer_b = asyncio.run(getGeneration(prompt_b, test_case, model))\n",
    "\n",
    "    if not test_case.expected_output.strip():  # No expected output, rely on human judgment\n",
    "        print(f\"Test Case: {test_case.prompt}\")\n",
    "        print(f\"Option A: {answer_a}\")\n",
    "        print(f\"Option B: {answer_b}\")\n",
    "\n",
    "        winner = input(\"Which answer is better? (A/B/draw): \").upper()\n",
    "        while winner not in ['A', 'B', 'DRAW']:\n",
    "            winner = input(\"Invalid input. Please enter A, B, or draw: \").upper()\n",
    "\n",
    "        return 1 if winner == 'A' else 0 if winner == 'B' else 0.5\n",
    "    else:  # Use embeddings to calculate similarity\n",
    "        embedding_a = embedding_model.embed_query(answer_a)\n",
    "        embedding_b = embedding_model.embed_query(answer_b)\n",
    "        embedding_expected = embedding_model.embed_query(test_case.expected_output)\n",
    "\n",
    "        score_a = cosine_similarity(embedding_a, embedding_expected)\n",
    "        score_b = cosine_similarity(embedding_b, embedding_expected)\n",
    "\n",
    "        # Handle ties and near-ties\n",
    "        if abs(score_a - score_b) < 0.1:  # Adjust threshold as needed\n",
    "            return 0.5  # Draw\n",
    "\n",
    "        return 1 if score_a > score_b else 0  # Return 1 if A wins, 0 if B wins\n",
    "    \n",
    "# Cosine similarity\n",
    "def cosine_similarity(a, b):\n",
    "    return np.dot(a, b) / (np.linalg.norm(a) * np.linalg.norm(b))\n"
   ]
  },
  {
   "cell_type": "markdown",
   "metadata": {},
   "source": [
    "##### Load documents"
   ]
  },
  {
   "cell_type": "code",
   "execution_count": 119,
   "metadata": {},
   "outputs": [],
   "source": [
    "import bs4\n",
    "from langchain_community.document_loaders import WebBaseLoader\n",
    "\n",
    "\n",
    "# Load Documents\n",
    "loader = WebBaseLoader(\n",
    "    web_paths=(\"https://lilianweng.github.io/posts/2023-03-15-prompt-engineering/\",),\n",
    "    bs_kwargs=dict(\n",
    "        parse_only=bs4.SoupStrainer(\n",
    "            class_=(\"post-content\", \"post-title\", \"post-header\")\n",
    "        )\n",
    "    ),\n",
    ")\n",
    "docs = loader.load()\n"
   ]
  },
  {
   "cell_type": "markdown",
   "metadata": {},
   "source": [
    "##### Split into chunks and save them to the vectorstore"
   ]
  },
  {
   "cell_type": "code",
   "execution_count": 145,
   "metadata": {},
   "outputs": [],
   "source": [
    "from langchain.text_splitter import RecursiveCharacterTextSplitter\n",
    "\n",
    "# Split\n",
    "text_splitter = RecursiveCharacterTextSplitter(chunk_size=250, chunk_overlap=200)\n",
    "from langchain_community.vectorstores import Chroma\n",
    "splits = text_splitter.split_documents(docs)\n",
    "\n",
    "embedding = OpenAIEmbeddings()\n",
    "\n",
    "# Embed\n",
    "vectorstore = Chroma.from_documents(documents=splits,\n",
    "                                    embedding=embedding)\n",
    "\n",
    "retriever = vectorstore.as_retriever(search_kwargs={\"k\": 5})"
   ]
  },
  {
   "cell_type": "markdown",
   "metadata": {},
   "source": [
    "## Generate answers for a prompt candidate given a scenario"
   ]
  },
  {
   "cell_type": "code",
   "execution_count": 243,
   "metadata": {},
   "outputs": [],
   "source": [
    "import asyncio\n",
    "from langchain.chat_models import ChatOpenAI\n",
    "from langchain.schema import HumanMessage, SystemMessage, Document\n",
    "from langchain.embeddings import OpenAIEmbeddings\n",
    "from langchain_core.output_parsers import StrOutputParser\n",
    "from langchain_core.runnables import RunnablePassthrough\n",
    "\n",
    "from langchain.prompts.chat import ChatPromptTemplate\n",
    "from langchain_community.vectorstores import Chroma\n",
    "\n",
    "\n",
    "import numpy as np\n",
    "\n",
    "def retrieve_context(query, retriever):\n",
    "    \"\"\"Retrieves relevant context for a given query from your knowledge base or documents.\"\"\"\n",
    "    docs = retriever.invoke(query)\n",
    "    return docs\n",
    "\n",
    "def getGeneration(prompt_candidate: str, testCase: TestCase, model: ChatOpenAI, retriever):\n",
    "    \"\"\"Generates a response using the provided prompt and test case.\"\"\"\n",
    "\n",
    "    prompt_template = ChatPromptTemplate.from_template(\n",
    "    \"\"\"\n",
    "        Use the following context to answer the question.\n",
    "        If you don't know the answer, just say that you don't know, don't try to make up an answer.\n",
    "        Context: {context}\n",
    "        Question: {prompt_candidate}\n",
    "        Scenario: {scenario}\n",
    "        Answer:\"\"\"\n",
    "    )\n",
    "\n",
    "    # print(testCase.scenario)\n",
    "    context = retrieve_context(testCase.scenario, retriever) # get the context documents \n",
    "\n",
    "    # Create RAG chain for current prompt\n",
    "    # rag_chain = create_rag_chain_factory(prompt, vectorstore)\n",
    "    chain = prompt_template | model | StrOutputParser()\n",
    "    # Generate answer from RAG chain\n",
    "    answer = chain.invoke({\"context\": context, \"prompt_candidate\": prompt_candidate, \"scenario\": testCase.scenario})\n",
    "\n",
    "    return answer\n"
   ]
  },
  {
   "cell_type": "code",
   "execution_count": 244,
   "metadata": {},
   "outputs": [
    {
     "data": {
      "text/plain": [
       "'A student is researching on machine learning and comes across the term few-shot learning for the first time.'"
      ]
     },
     "execution_count": 244,
     "metadata": {},
     "output_type": "execute_result"
    }
   ],
   "source": [
    "candidates[0]\n",
    "generated_test_cases[0].scenario"
   ]
  },
  {
   "cell_type": "code",
   "execution_count": 245,
   "metadata": {},
   "outputs": [],
   "source": [
    "# Test getGeneration function\n",
    "llm = ChatOpenAI(model_name=\"gpt-3.5-turbo\", temperature=0)\n",
    "\n",
    "answer_a = getGeneration(candidates[0], generated_test_cases[0], llm, retriever)"
   ]
  },
  {
   "cell_type": "code",
   "execution_count": 246,
   "metadata": {},
   "outputs": [
    {
     "data": {
      "text/plain": [
       "'Few-shot learning is a unique approach in machine learning that involves learning from a limited number of examples, typically a small number of demonstrations consisting of both input and desired output on the target task. By providing the model with good examples, it can better understand human intention and criteria for the desired answers, leading to better performance compared to zero-shot learning. However, few-shot learning may require more token consumption and could hit the context length limit when dealing with long input and output text.'"
      ]
     },
     "execution_count": 246,
     "metadata": {},
     "output_type": "execute_result"
    }
   ],
   "source": [
    "answer_a"
   ]
  },
  {
   "cell_type": "markdown",
   "metadata": {},
   "source": [
    "##### Example: get answers for two prompt candidates in a given scenario"
   ]
  },
  {
   "cell_type": "code",
   "execution_count": 247,
   "metadata": {},
   "outputs": [
    {
     "data": {
      "text/plain": [
       "'Describe the principles and applications of few-shot learning.'"
      ]
     },
     "execution_count": 247,
     "metadata": {},
     "output_type": "execute_result"
    }
   ],
   "source": [
    "candidates[4]"
   ]
  },
  {
   "cell_type": "code",
   "execution_count": 248,
   "metadata": {},
   "outputs": [],
   "source": [
    "answer_b = getGeneration(candidates[4], generated_test_cases[0], llm, retriever)"
   ]
  },
  {
   "cell_type": "code",
   "execution_count": 249,
   "metadata": {},
   "outputs": [
    {
     "data": {
      "text/plain": [
       "'Few-shot learning involves training a model with only a few examples or demonstrations of the desired input and output for a specific task. By providing the model with good examples, it can better understand human intention and criteria for the desired answers. This approach often leads to better performance compared to zero-shot learning, where the model has no prior examples to learn from. However, few-shot learning may require more token consumption and could hit context length limits when dealing with long input and output text. Overall, few-shot learning is a valuable technique in machine learning for quickly adapting to new tasks with limited training data.'"
      ]
     },
     "execution_count": 249,
     "metadata": {},
     "output_type": "execute_result"
    }
   ],
   "source": [
    "answer_b"
   ]
  },
  {
   "cell_type": "markdown",
   "metadata": {},
   "source": [
    "#### Get embedding"
   ]
  },
  {
   "cell_type": "code",
   "execution_count": 250,
   "metadata": {},
   "outputs": [],
   "source": [
    "# Embedding model example is OpenAIEmbeddings\n",
    "def get_embedding(text, embedding_model):\n",
    "    \"\"\"Gets the embedding for a given text.\"\"\"\n",
    "    return embedding_model.embed_query(text)"
   ]
  },
  {
   "cell_type": "markdown",
   "metadata": {},
   "source": [
    "###### Example to get embeddings A and B for prompt candidate's answers a and b"
   ]
  },
  {
   "cell_type": "code",
   "execution_count": 251,
   "metadata": {},
   "outputs": [
    {
     "name": "stdout",
     "output_type": "stream",
     "text": [
      "[-0.031100148625757905, -0.0017992906673401784, 0.039347991715055076, -0.0038317011561723575, 0.0033572530687696234, 0.0039269188785990075, 0.010598741570822138, 0.006218716094647809, -0.04843637765018528, -0.028237043212504035, 0.03131028294023229, 0.024730395756821545, -0.032833770224349024, -0.0184788463501601, -0.001621988267895558, 0.02561034099850966, 0.029707996452340884, -0.0009021078669957089, 0.022169362960822194, -0.02201176082798253, -0.029760530496620773, 0.013356777964193649, -0.030679876271518806, -0.008904518642795766, 0.011511520590185183, -0.0168896915106935, 0.020225603322466357, -0.021276284208064107, -0.002492083259865872, -0.01942445914719807, 0.013100674498329197, -0.001730339734222826, -0.0029205640585237046, -0.004409575410420474, -0.004573744298795123, -0.014184189161601878, 0.01023757001639791, -0.0007925251340056311, 0.009259123441685006, -0.021867292206212842, 0.013671982229872974, 0.040530007711352546, -0.007584601245924884, -0.0010375471416971325, 0.019043587326168888, 0.0049513327420568146, 0.016850290977483584, -0.011189749568970873, -0.022103695405472336, 0.02088227887596495, 0.013803317340572692, 0.016377484578964596, -0.03351671279998756, 0.012457132455900575, -0.006941059203496262, -0.0027760954367540137, -0.008628714910326357, 0.0059297793167697194, 0.026280150063078225, -0.01248339947804052, -0.005355188207458449, 0.029918132629460435, -0.011649422456419888, 0.000685815414769771, 0.013021873431909366, -0.008536780332836552, -0.03614341501398194, 0.027317697437606005, 0.01180702458925955, -0.005598158162252929, -0.011990892812916574, 0.013606314674523114, -0.004334057721768136, -0.008103374467527482, 0.03525033626122385, -0.02080347780954512, -0.0013486471851670912, 0.011675689478559832, -0.005785310695000028, 0.006235132983485273, 0.0007289097479681163, -0.022182496471892167, -0.022537101270781408, 0.044154856766664786, 0.013829584362712637, -0.004908648831079406, 0.011294817657530647, 0.007499233423970067, -0.010316371082817742, 0.012069693879336405, 0.010388605393702588, -0.012181328723431166, 0.016784623422133726, 0.009383891796849739, -0.015064134403289993, 0.005417572385040816, -0.0027120695702879008, 0.010428005926912504, 0.009653128773784162, -0.023653449711729016, -0.004242123144278333, 0.03123148373645762, -0.02504560002250087, -0.006763756804051641, -0.014604461515840977, 0.009364191530244781, 0.0010030716751384563, 0.011813591344794537, 0.02433639042472239, -0.002524917037540802, -0.008878251620655822, 0.04186962584048968, -0.009154055353125232, -0.035907011814722445, 0.0032718852468148064, 0.018176775595550743, -0.014748930137610668, -0.03215082764871049, -0.006638988448886909, -0.027659168725425273, 0.009764763617878924, -0.0038120008895673996, 0.013409312008473536, -0.016285550001474795, 0.0038448346672423296, -0.00029735084086092054, -0.020698409720985345, -0.03186189040517111, -0.0052731037632711255, -0.005158185541408871, 0.023508981089959326, 0.03929545767077519, -0.0037364832009150616, 0.0035033633794230605, -0.02088227887596495, 0.0018780917337600097, -0.006987026492241163, -0.0023114974826537586, -0.024467725535422105, -0.025505272909949885, 0.012962772632094492, 0.005292804029876083, 0.0014143147405169506, 0.000685815414769771, 0.003670815645565202, 0.018176775595550743, 0.011951492279706658, 0.010263837038537855, -0.002380448415771111, 0.020054867678556722, 0.018137375062340828, -0.019516393724687876, -0.007578034490389898, 0.03475126284056492, 0.04835757658376545, 0.00016683660370690577, 0.023968652114763175, 0.002352539704747421, -0.010946779614176392, 0.00717089564722077, 0.016154214890775075, 0.006166182050367921, -0.008287243622507087, -0.007840704246128044, 0.021775357628723038, 0.010519940504402307, 0.01729683035386263, -0.022720970425761013, 0.013960919473412355, -0.007939205579152833, -0.0018271993783638685, 0.05663168855784773, -0.005772177183930057, 0.020146802256046526, -0.014026587028762215, -0.008136208245202411, 0.016482552667524374, -0.004255256655348305, -0.007742203378764546, -0.026674155395177382, -0.00017473723145993572, 0.02968172943020094, 0.006002013161993273, 0.004977599764196758, -0.017690835685961786, 0.0019388342224586296, 0.015563207823948924, -0.005857545005884874, -0.010434572682447489, 0.006215432716880315, -0.010211302994257968, 0.006113648006088034, -0.01589154466937564, -0.0002698525520581669, -0.6556247534037054, -0.013974052984482326, -0.017861571329871418, -0.007039560536521051, -0.00952836041861943, 0.009692529306994078, -0.01624614946826488, -0.014354924805511511, 0.002020918550230631, 0.017887838352011364, -0.016902825021763473, -0.006110364628320541, -0.005604724917787915, -0.0078144372239881, -0.017480699508842235, -0.02533453726604025, 0.0016942225787804034, -0.026779223483737156, -0.015655141470116145, -0.00014877802598569444, -0.03580194372616267, 0.015484406757529092, -0.009515226907549457, 0.014118521606252018, -0.012634434855345196, -0.00417317221116098, -0.0061530485392979496, -0.0013396178963064856, 0.01532680462468943, 0.0020537523279055606, -0.016272416490404822, 0.007361331557735362, 0.021092415053084502, -0.015064134403289993, 0.04699169515777871, -0.0007617434674353845, -0.011636288945349916, 0.018308110706250463, -0.0008733783115301454, 0.032833770224349024, -0.02897251983242246, -0.007453266135225165, 0.0069476259590312475, -0.014919665781520302, -0.003444262579608187, -0.019660862346457565, 0.0016195257345699382, 0.02491426491180115, -0.009482393129874528, -0.021972360294772616, 0.003294868891187257, 0.003910501989761543, -7.839062964697928e-05, -0.010552774282077236, 0.007499233423970067, 0.003152041958301313, 0.03595954585900233, -0.009134355086520274, 0.014473126405141258, -0.012614734588740238, -0.01069067614831194, 0.01275920321050993, -0.028736116633162966, -0.009193455886335147, -0.013974052984482326, 0.027737969791845105, 0.003651115378960244, 0.006908225425821332, 0.00019012805019314366, -0.052428965015456734, 0.013330510942053704, 0.04084521197703187, 0.007584601245924884, -0.026398351662707972, 0.006527353604792147, 0.04357698227958602, 0.004274956921953263, -0.013442145786148467, -0.010539640771007264, 0.0001295907871569074, 0.012069693879336405, -0.004314357455163178, -0.011813591344794537, -0.013212309342423957, 0.007656835556809729, -0.0073153642689904605, -0.006005296539760766, 0.014893398759380358, -0.01151808734572017, -0.009679395795924106, 0.01674522288892381, 0.017060427154603135, -0.02955039431950122, -0.0559487459822092, -0.016430018623244485, 0.027107561260486454, -0.01561574186822881, 0.014867131737240415, 0.029313991120241727, -0.0409240130434517, -0.027396498504025833, 0.0020570357056730534, 0.008819150820840949, 0.025925545264188984, 0.019437592658268044, -0.002946831080663648, 0.012476832722505533, -0.012726369432834998, 0.014328657783371567, -0.032807503202209085, 0.008838851087445906, 0.012555633788925364, -0.0033572530687696234, 0.025203202155340533, -0.0033818784020258207, -0.02805317405752443, 0.0012821587853753585, 0.01616734840184505, 0.006934492447961276, -0.02030440438888619, 0.021473286874113685, -0.013389611741868578, 0.011347351701810535, -0.007669969067879701, 0.0031947258692787213, -0.002804004147777704, -0.012503099744645477, 0.008517080066231595, -0.0013593181629114434, 0.00039605735589234723, -0.004284807055255742, -0.024257589358302557, 0.025807343664559237, -0.007827570735058072, 0.014473126405141258, -0.005637558695462844, 0.01204342685719646, -0.0060446970729706815, 0.02939279218666156, -0.008615581399256384, -0.012883971565674661, -0.019082987859378803, 0.01939819212505813, -0.020081134700696668, -0.019870998523577117, -0.009508660152014473, 0.0014611028737037254, -0.0033342694243971727, 0.005391305362900872, -0.00970566281806405, -0.005782027317232536, -0.011879257968821813, 0.004708362787262334, 0.03525033626122385, -0.01262786809981021, -0.00018551080020760667, -0.026056880374888704, -0.02771170276970516, -0.016771489911063753, -0.04714929729061837, 0.006116931383855526, 0.04063507579991232, -0.001409389673865711, 0.01269353565516007, -0.01771710270810173, -0.023285711401769806, 0.011728223522839719, 0.03264990106936942, -0.03517153519480402, -0.03813970869661766, -0.0030059316476478757, -0.03848117998443693, 0.007210296180430686, 0.03398951919850655, -0.001968384505950743, 0.019857865012507143, -0.03485633092912469, 0.022957373625020507, -0.008162475267342355, -0.023508981089959326, -0.028867451743862686, -0.006304083916602626, 0.009370758285779768, 0.016771489911063753, 0.008385744955531876, 0.019805330968227258, 0.039006520427235805, -0.009830431173228783, -0.03614341501398194, 0.03073241031579869, 0.04013600237925339, 0.017506966530982177, -0.024099987225462895, 0.005611291673322901, -0.0043471912328381076, 0.01744129897563232, 0.031651754228051554, 0.00035911938511188203, -0.01787470484094139, 0.020291270877816216, 0.024874864378591235, 0.005476673184855689, 0.003097866225137679, -0.014959066314730218, -0.015642007959046172, -0.04397098761168518, 0.008904518642795766, -0.02618821548558842, 0.013337077697588691, -0.008385744955531876, 0.001212387007816133, -0.026437752195917888, -0.0024559661044234495, -0.022195629982962137, 0.011294817657530647, 0.024467725535422105, 0.013553780630243227, 0.009718796329134022, -0.03635355119110149, 0.002452682726655956, 0.011196316324505858, 0.005361754962993436, 0.015445006224319177, -0.010244136771932897, 0.007781603911974462, 0.014630728537980921, 0.007203729424895699, -0.008451412510881736, 0.0017237729786878401, -0.0363010171468216, 0.014748930137610668, 0.017822170796661502, 0.010408305660307546, 0.02030440438888619, 0.010355771616027657, 0.017506966530982177, 0.008582747621581455, -0.014446859383001314, 0.048515178716605115, -0.019765930435017343, -0.010171902461048052, 0.007039560536521051, 0.016771489911063753, -0.022668436381481125, 0.036195949058261824, -0.004232273010975854, 0.03107388160361796, 0.00666197209325936, -0.01842631230588021, 0.006934492447961276, -0.008063973934317566, 0.012332364100735842, -0.007243129958105615, -0.0009283748891356526, 0.002034052061300603, -0.010257270283002868, -0.010670975881706983, -0.0012115661633742597, 0.024244455847232584, 0.018741516571559536, -0.018439445816950183, 0.007407298846480263, 0.016771489911063753, -0.01455192747156109, 0.012936505609954548, -0.029366525164521616, 0.023233177357489917, -0.015523807290739008, -0.025570940465299744, -0.011511520590185183, -0.012023726590591503, 3.555281761267713e-05, -0.017690835685961786, -0.005814861094907465, 0.03574940968188278, -0.0006250729260711511, 0.02170969007337318, 0.04210602903974917, 0.023561515134239215, 0.02442832500221219, -0.04730689942345803, -0.017769636752381617, 0.028184509168224146, 0.013974052984482326, -0.00918688913080016, -0.029025053876702348, -0.03483006390698475, 0.007190595913825728, -0.017126094709952994, 0.007729069867694574, -0.004396441899350502, 0.0015144576460101632, -0.022458300204361577, 0.012634434855345196, 0.0039269188785990075, -0.011045280947201181, 0.03685262461176042, 0.013021873431909366, -0.0013355136740971195, -0.007709369601089617, 0.010900812325431492, -0.0010646350082789493, -0.013304243919913762, -0.018991053281889, 0.025308270243900307, 0.009718796329134022, 0.0004596728001375235, -0.010559341037612222, -0.023417046512469522, 0.004774030342612194, -0.007440132624155193, -0.021670289540163264, 0.02420505531402267, 0.009134355086520274, 0.028998786854562406, 0.004455542699165376, -0.003285018757884778, 0.019673995857527538, 0.02261590233720124, 0.005368321718528421, -0.003798867378497428, -0.013777050318432748, -0.014880265248310386, 0.008707515976746188, 0.05967866312608121, 0.030522274138679143, -0.016272416490404822, 0.011951492279706658, -0.02555780695422977, -0.017218029287442798, -0.026267016552008252, 0.0013642432295626829, 0.01820304261769069, -0.0015825877346856425, -0.03304390640146858, 0.01238489814501573, 0.010546207526542251, -0.012194462234501137, 0.01666642182250398, 0.009758196862343938, 0.004225706255440868, -0.013514380097033311, -0.0011253774969775694, -0.01864958199406973, 0.01794037239629125, 0.004311074077395685, 0.03790330549735817, -0.015064134403289993, -0.008215009311622242, -0.011721656767304734, 0.02164402251802332, 0.02750156659258561, -0.0036182816012853146, -0.02532140375497028, -0.0011828366079086963, 0.004948049364289321, -0.004698512653959855, 0.007866971268267988, -0.026529686773407692, 0.035644341593323005, 0.008871684865120836, 0.01864958199406973, 0.012680402144090098, -0.007131495114010854, 0.014446859383001314, 0.01455192747156109, -0.006005296539760766, 0.024402057980072247, -0.02378478295978357, -0.0005409363707791437, 0.0020603190834405467, 0.022576501803991324, -0.010257270283002868, -0.0356968756376029, 0.01532680462468943, 0.020514540566005737, -0.01807170750699097, -0.0028319128588013944, -0.016443152134314458, -0.0028335545476851406, 0.007604301512529841, -0.007144628625080826, -0.01220759574557111, -0.010231003260862926, -0.019857865012507143, -0.04005720131283356, -0.0018271993783638685, 0.00516803567471135, 0.004898798697776927, -0.02700249317192668, -0.019096121370448776, 0.010835144770081632, -0.032807503202209085, -0.002042260505719335, -0.022077428383332393, -0.0223532321158018, -0.05647408642500807, -0.020514540566005737, 0.002244188238420153, 0.02157835496267346, 0.0013223801630271475, -0.0030715992029977353, -0.022090561894402363, -0.00283847961433638, -0.007032993780986065, 0.0037660336008224983, -0.03320150853430824, -0.033437911733567735, 0.01022443650532794, 0.004800297364752138, -0.015944078713655524, -0.009876398461973685, -0.01828184368411052, 0.016495686178594343, -0.010119368416768165, -0.0035197802682605255, -0.001262458518770401, 0.004527777010050221, 0.008431712244276779, 0.00855648059944151, 0.012201028990036123, 0.009502093396479486, 0.017336230887072545, -0.008339777666786976, 0.010618441837427096, 0.0022376214828851667, -0.013868984895922552, -0.004439125810327911, -0.002244188238420153, -0.0017188479120366007, 0.012450565700365589, 0.008398878466601848, 0.025597207487439686, 0.004819997631357095, 0.023088708735720227, -0.010145635438908108, 0.045284338718682364, 0.010139068683373123, 0.02248456722650152, 0.007840704246128044, 0.012732936188369985, 0.013580047652383171, 0.02441519149114222, -0.019647728835387596, -0.015234870047199627, -0.019463859680407987, 0.008503946555161623, -0.004678812387354897, -0.013974052984482326, 0.0059199291834672405, 0.005059684208384083, -0.021263150696994134, -0.0325185659586697, 0.004819997631357095, -0.00048429813339372074, 0.022103695405472336, -0.004767463587077208, -0.003654398756727737, -0.03643235225752132, -0.00918688913080016, -0.018360644750530352, 0.010638142104032054, -0.026477152729127804, -0.02353524811209927, 0.01632495053468471, -0.00014098000378789865, 0.007578034490389898, -0.012608167833205251, 0.021066148030944556, -0.028237043212504035, -0.028709849611023023, 0.009298523974894921, 0.0032374097802561302, 0.012463699211435562, 0.003332627735513426, 0.02505873353357084, -0.02708129423834651, -0.031651754228051554, 0.007853837757198015, -0.016430018623244485, -0.00013913310379368385, 0.013816450851642664, 0.023285711401769806, 0.023705983756008905, 0.048804115960144494, -0.02526886971069039, 0.01675835639999378, -0.0001268204371655852, -0.015445006224319177, -0.0009488960001824838, 0.004586877809865095, -0.0072299964470356436, -0.015379338668969319, -0.004294657188558221, 0.01616734840184505, -0.026634754861967466, 0.031100148625757905, -0.009029286997960498, 0.028368378323203755, 0.026267016552008252, 0.0033342694243971727, -0.01204342685719646, -0.018032306973781054, -0.01905672083723886, -0.006822857603866515, 0.02855224747818336, -0.007335064535595418, 0.01385585138485258, -0.010841711525616618, 0.00862214815479137, 0.012069693879336405, 0.005824711228209944, -0.0065831710268395285, 0.01569454200332606, 0.011360485212880507, 0.007151195380615812, -0.026779223483737156, -0.001940475911342376, 0.013777050318432748, -0.048593979783024946, -0.0005376529930116508, -0.04575714511720135, 0.026542820284477662, 0.023311978423909748, 0.010874545303291547, -0.00574262678402262, 0.0405037406892126, 0.0032045760025812002, -0.026385218151638, -0.002797437392242718, -0.03257110000294959, -0.02101361398666467, 0.0011122439859075975, -0.01616734840184505, -0.008490813044091652, -0.01801917346271108, 0.0065831710268395285, -0.012115661168081306, -0.006675105604329331, 0.017953505907361222, -0.005302654163178562, 0.010283537305142813, -0.022497700737571492, -0.01477519715975061, 0.020895412387034924, 0.014236723205881765, 0.03073241031579869, 0.006770323559586628, 0.0219329597615627, 0.00873378299888613, 0.03519780221694396, -0.010441139437982475, -0.012017159835056516, 0.0031077163584401577, 0.0021949375719077582, 0.028263310234643978, 0.010034000594813347, -0.004859398164567011, -0.017992906440571138, 0.0022162795273964627, 0.006415718760697387, -0.031021347559338074, -0.049434524491503144, -0.0029336975695936763, 0.010263837038537855, -0.007184029158290741, -0.03701022674460008, -0.009488959885409515, -0.006934492447961276, 0.009988033306068445, -0.0009841922529753716, 0.007098661336335924, 0.02164402251802332, 0.002352539704747421, -0.023285711401769806, 0.019739663412877397, 0.0013248426963527672, 0.010447706193517462, -0.0320982936044306, 0.004714929542797321, -0.006248266494555245, -0.014814597692960526, -0.011708523256234761, 0.022747237447900956, -4.347909675451562e-05, 0.036800090567480535, -0.008943919176005682, 0.015313671113619459, 0.030627342227238917, 0.014880265248310386, -0.00789323829040793, 0.0031027912917889183, -0.005118785008198955, 0.028893718766002628, -0.013277976897773817, -0.019936666078926975, -0.0006616005037345104, -0.005739343406255127, -0.003910501989761543, -0.016929092043903415, -0.006822857603866515, -0.02262903584827121, -0.007407298846480263, 0.011800457833724565, 0.018452579328020153, -0.003949902522971459, 0.0018583914671550519, 0.013251709875633873, 0.019739663412877397, -0.023902984559413316, 0.02065900918777543, -0.010526507259937293, 0.030601075205098974, -0.023285711401769806, -0.0015152784904520365, -0.019096121370448776, -0.00886511810958585, 0.0004153472002763684, -0.0012435790966073162, -0.011150349035760957, 0.013685115740942945, 0.025715409087069433, -0.032623634047229476, -0.01336991147526362, -0.01996293310106692, 0.01469639609333078, -0.0148277312040305, -0.008431712244276779, 7.62872157646791e-05, 0.001611317290151206, 0.031021347559338074, -0.027632901703285327, -0.004790447231449659, -0.017283696842792656, 0.004114071411346107, 0.006724356270841726, 0.0002655431187383324, 0.008825717576375935, 0.001212387007816133, -0.008162475267342355, 0.005039983941779125, -0.007775037156439476, 0.01158375490107003, 0.014656995560120864, -0.005246836741131181, -0.020842878342755035, 0.009791030640018867, -0.020501407054935767, -0.0033277026688621866, -0.002217921216280209, 0.004337341099535629, -0.01702102662139322, -0.0312577488959524, -0.00713806186954584, -0.002408357126794801, 0.0027120695702879008, -0.0008692740893207792, -0.0038415512894748364, -0.009521793663084444, 0.013238576364563902, -0.008464546021951708, -0.009712229573599036, -0.002313139171537505, -0.0219329597615627, 0.014959066314730218, 0.027396498504025833, 0.00335889475765337, 0.008858551354050864, -0.005900228916862283, 0.002198220949675251, -0.014893398759380358, -0.0033605364465371166, -0.03816597571875761, -0.01151808734572017, -0.022537101270781408, 0.029235190053821896, 0.008050840423247593, -0.010053700861418305, -0.010441139437982475, -0.0111766160579009, -0.05416258847669302, 0.030469740094399254, -0.004048403855996248, 0.0013634223851208096, -0.00675062329298167, 0.036800090567480535, -0.03307017342360852, 0.011537787612325127, -0.0032078593803486935, 0.002935339258477423, -0.019174922436868608, -0.012726369432834998, -0.011780757567119608, 0.01332394418651872, 0.013816450851642664, 0.0020553940167893072, -0.023233177357489917, -0.01103214743613121, 0.009810730906623825, -0.007243129958105615, 0.005342054696388478, 0.01633808404575468, -0.004265106788650784, -0.0029172806807562113, 0.0022803053938625756, 0.007078961069730967, 0.02276037095897093, -0.0026299851261005766, 0.012378331389480744, -0.01189895823542677, -0.0185707809276499, 0.003037123736439059, -0.02687115806122696, -0.031126415647897848, -0.003467246223980638, -0.016206748935054964, 0.0023279143714912236, 0.002708786192520408, -0.020593341632425568, 0.008195309045017285, -0.0005163110375229465, -0.007853837757198015, 0.013566914141313198, 0.015090401425429936, 0.007354764802200376, 0.029996933695880267, -0.014328657783371567, 0.01570767551439603, -0.0035361971570979905, -0.005644125450997831, -0.013580047652383171, 0.010178469216583037, -0.0001946426946234465, -0.009318224241499879, -0.016561353733944205, -0.0030289152920203264, 0.00923942317508005, -0.016561353733944205, 0.013205742586888973, -0.016495686178594343, 0.009659695529319149, -0.004242123144278333, 0.0356968756376029, -0.014026587028762215, -0.006934492447961276, 0.01598347924686544, 0.0067768903151216135, -0.008838851087445906, -0.020054867678556722, -0.005489806695925662, 0.021683423051233237, -0.03622221608040177, 0.02546587237673997, -0.008306943889112045, -0.01158375490107003, -0.040162269401393336, -0.02311497575786017, 0.021263150696994134, -0.028657315566743134, 0.01576020955867592, 0.19458605530921932, -0.03267616809150936, -0.0008553197338089341, -0.004596727943167574, 0.0036215649790528074, 0.00483641452019456, 0.028315844278923866, -0.011261983879855718, 0.0007605122007725746, -0.002918922369639958, 0.01158375490107003, 0.007085527825265952, -0.01135391845734552, -0.004002436567251346, -0.00019330882240540246, -0.01124228361325076, -0.005062967586151575, -0.024743529267891515, 0.01023757001639791, 0.023101842246790197, 0.0025774510818206892, -0.0027202780147066335, 0.017073560665673105, -0.01434179129444154, 0.040451206644932715, 0.0025117835264708297, -0.0019651011281832504, 0.0025314837930757875, 0.017677702174891813, 0.010973046636316337, -0.022944240113950534, -0.013698249252012917, 0.004133771677951065, 0.005782027317232536, -0.008077107445387538, 0.003496796623888075, 0.015064134403289993, 0.0027875872589402393, 0.02157835496267346, 0.029944399651600378, 0.014499393427281203, -0.011163482546830928, 0.011557487878930085, -0.017690835685961786, 0.007472966401830123, 0.021341951763413965, -0.009567760951829346, -0.018728383060489563, 0.0181505085734108, 0.003454112712910666, -0.011150349035760957, 0.011715090011769748, 0.0061202147616230195, 0.026766089972667186, 0.000775287400726293, 0.007472966401830123, -0.017231162798512768, 0.026529686773407692, 0.014420592360861371, 0.0008122254006105888, -0.03816597571875761, 0.005102368119361491, -0.0035394805348654833, 0.01849197986123007, 0.0001656053370440959, 0.01241773192269066, 0.003250543291326102, -0.01851824688337001, 0.006704656004236768, 0.01905672083723886, -0.011156915791295942, -0.0032045760025812002, -0.02591241175311901, -0.015878411158305666, -0.003066674136346496, -0.03406832026492638, 0.041186683264851136, 0.023154376291070086, 0.0067768903151216135, 0.013527513608103283, -0.02379791647085354, -0.01280517049925483, -0.026358951129498057, -0.003660965512262723, -0.01675835639999378, -0.03748303314311907, 0.030679876271518806, -0.03475126284056492, -0.02073781025419526, 0.005460256296018225, -0.009416725574524668, -0.017060427154603135, -0.01539247218003929, -0.009587461218434304, 0.008891385131725793, -0.003953185900738952, 0.022458300204361577, 0.01774336973024167, -0.005555474251275521, -0.023508981089959326, -0.027238896371186174, 0.03448859261916548, 0.02387671753727337, 0.03477752986270486, 0.029996933695880267, 0.006274533516695189, -0.03635355119110149, 0.013488113074893367, -0.004764180209309715, 0.010986180147386308, 0.00017791800367219455, -0.028026907035384484, 0.009160622108660218, -0.007866971268267988, -0.015300537602549487, 0.00596589600655085, 0.01532680462468943, -0.011261983879855718, 0.02346958055674941, 0.00023353020005719135, -0.011701956500699776, -0.009154055353125232, 0.003752900089752526, 0.011426152768230367, 0.0008700949337626525, -0.0247041287346816, -0.009167188864195203, 0.010894245569896505, -0.026398351662707972, 0.0028319128588013944, 0.019673995857527538, -0.032177094670850434, -0.0006049622372452567, 0.01800603995164111, 0.0023000056604675335, -0.008201875800552271, 0.01879405061583942, 0.0042716735441857695, -0.0031815923582087496, 5.766431112765875e-05, -0.015930945202585554, 0.0036478320011927514, -0.003890801955987231, 0.01166255596748986, 0.012883971565674661, -0.00917375561973019, 0.013777050318432748, 0.004160038700091009, -0.00348037973505061, -0.0032193512025349186, 0.0013749142073070351, 0.0031996509359299608, -0.0010367262972552592, -0.011288250901995662, 0.012161628456826208, -0.0019733095726019827, 0.0131466417870741, -0.011511520590185183, -0.008681248954606244, -0.027895571924684767, -0.030469740094399254, -0.0036412652456577653, 0.004127204922416079, 0.0004781418000796715, -0.014052854050902158, -0.0057360600284876335, -0.1653771415907632, 0.007059260803126009, 0.018321244217320436, -0.0247041287346816, 0.026214482507728367, 0.0022491133050713923, 0.013120374764934155, 0.0074860999129000945, -0.021460153363043712, -0.01308097423172424, 0.009594027973969289, -0.013580047652383171, 0.0054996568292281405, -0.022852305536460733, -0.019371925102918186, 0.008503946555161623, -0.0031504002694175666, 0.017493833019912208, 0.04131801837555086, 0.026555953795547635, 0.04042493962279277, -0.043524448235306136, 0.014118521606252018, 0.012220729256641081, -0.003365461513188356, -0.004094371144741149, -0.0072825304913155305, 0.03548673946048334, -0.00970566281806405, -0.028841184721722743, 0.0003818977892700338, -0.02185415869514287, -0.016101680846495187, 0.0038678183116147803, 0.0007059261035956654, 0.014814597692960526, 0.02561034099850966, -0.0006312292593852005, -0.030338404983699534, 0.022747237447900956, 0.018308110706250463, 0.03766690229809867, -0.004439125810327911, -0.002554467437448238, -0.013245143120098888, -0.01784843781880145, 0.01828184368411052, -0.014722663115470724, -0.005082667852756533, 0.0008971828003444695, 0.019043587326168888, -0.018754650082629505, -0.0019519677335286013, -0.0005729493040122002, 0.008366044688926919, -0.014604461515840977, 0.0078144372239881, 0.013685115740942945, -0.005374888474063407, -0.00713806186954584, -0.001496399068288952, -0.019779063946087312, 6.469278802321955e-05, -0.01624614946826488, -0.004849548031264532, -0.01158375490107003, -0.014880265248310386, 0.014473126405141258, -0.0017221312898040935, 0.0009382250224381315, 0.008254409844832158, -0.013514380097033311, -0.02333824544604969, 0.002715352948055394, -0.002638193570519309, 0.027475299570445665, 0.0185707809276499, 0.0051450520303389, 0.011774190811584621, 0.0008126358228315255, 0.0003806665226072239, 0.012831437521394774, 0.003605148090215343, 0.021538954429463544, -0.00946269286326957, 0.009955199528393516, 0.0045080767434452634, 0.0038120008895673996, -0.015221736536129656, -0.0027005777481016757, 0.028394645345343698, -0.013606314674523114, -0.031651754228051554, 0.002217921216280209, -0.001988084772555701, 0.005319071052016027, -0.012345497611805815, -0.02918265600954201, 0.00696075947010122, -0.015681408492256087, -0.01249653298911049, 0.03606461394756211, -0.008247843089297172, 0.01159688841214, 0.016430018623244485, 0.018084841018060942, -0.007755336889834518, -0.006533920360327134, 0.03469872879628503, -0.027527833614725553, -0.001293650607561584, -0.017533233553122123, -0.0012879046964684713, 0.00952836041861943, -0.015011600359010105, 0.015405605691109261, 0.02408685371439292, -0.005082667852756533, 0.014171055650531904, -0.0185707809276499, 0.037745703364518504, -0.01842631230588021, -0.0050695343416865615, 0.0027005777481016757, -0.01220759574557111, -0.0251244010889207, -0.10706435989066874, -0.023587782156379158, 0.009147488597590245, 0.006123498139390513, -0.012220729256641081, 0.02316750980214006, -0.004678812387354897, 0.03107388160361796, -0.033254042578588126, 0.021617755495883375, 0.0019355508446911366, 0.0011697030968387243, -0.009692529306994078, -0.010959913125246365, -0.008957052687075653, -0.015471273246459121, 0.009436425841129626, 0.009567760951829346, -0.015747076047605946, 0.03249229893652976, -0.0025676009485182103, -0.01589154466937564, -0.005082667852756533, -0.01820304261769069, -0.010375471882632615, 0.017703969197031755, -0.012227296012176068, 0.012004026323986545, 0.014998466847940133, 0.0027613202368002954, 0.017914105374151307, -0.033726848977107114, -0.0024296990822835055, -0.021118682075224444, 0.024323256913652416, 0.011905524990961756, -0.02198549380584259, -0.022931106602880565, 0.027764236813985047, -0.01661388777822409, -0.01476206364868064, -0.002344331260328688, -0.019910399056787032, 0.0016860141343616709, 0.00025466692988351195, -0.01322544285349393, 0.0010515014972089776, 0.03532913732764368, 0.02659535432875755, -0.018400045283740268, -0.03257110000294959, -0.0013872268739351335, -0.06388138294318188, 0.005827994605977437, 0.030890012448638354, 0.021499553896253628, 0.002040618816835589, -0.033831917065666885, -0.010808877747941687, -0.002515066904238323, -0.0065503372491645985, -0.013448712541683451, -0.022103695405472336, 0.016298683512544765, 0.01561574186822881, 0.004967749630894279, -0.049224388314383596, -0.007729069867694574, 0.00039421045589813243, -0.016784623422133726, 0.0017089977787341218, 0.03186189040517111, -0.0003096635074890192, 0.023679716733868962, -0.02023873683353633, -0.0036412652456577653, -0.019293124036498355, -0.026477152729127804, 0.0008947202670188497, -0.008339777666786976, -0.0006299979927223906, -0.0012345498077467106, 0.00031848758523915656, -0.025229469177480476, 0.006422285516232373, -0.0038514014227773153, 0.00738103182434032, 0.023403913001399552, -0.014144788628391962, -0.02157835496267346, 0.01153122085679014, 0.005808294339372479, -0.004911932208846899, 0.0032423348469073697, -0.006313934049905105, -0.010355771616027657, -0.018991053281889, -0.000793756400668441, 0.03296510533504875, 0.03201949253801077, -0.012246996278781026, -0.01801917346271108, -0.03314897449002835, -0.00883228433191092, -0.009475826374339542, 8.27000629668138e-05, -0.0001036315889586238, 0.013960919473412355, 0.00816904202287734, -0.009843564684298756, -0.016653288311434006, 0.012411165167155673, -0.013566914141313198, 0.0034311290685382152, -0.023916118070483286, -0.0019930098392069405, -0.014236723205881765, -0.0255446734431598, 0.021735957095513122, -0.003953185900738952, 0.03194069147159094, 0.0008183817339246382, 0.011747923789444677, 0.0007330139701774824, 0.031100148625757905, 0.012522800011250435, 0.004846264653497039, -0.0016704180899660794, -0.016141081379705102, 0.037456766120979125, -0.002680877481496718, -0.0062384163612527665, 0.017480699508842235, -0.03364804791068728, -0.00069566554807225, 0.022589635315061293, -0.006914792181356318, 0.002772812058986521, 0.028788650677442854, 0.021827891673002926, 0.015445006224319177, 0.026700422417317324, -0.028946252810282517, -0.026555953795547635, -0.010605308326357124, 0.009213156152940105, -0.03703649376674002, -0.0007067469480375387, -0.020711543232055315, -0.014105388095182046, 0.011688822989629803, 0.010414872415842531, 0.011275117390925689, -0.004143621811253544, 0.010585608059752167, -0.002899222103035, -0.004751046698239743, 0.004370174877210559, 0.012227296012176068, 0.0008356194672039763, -0.012726369432834998, -0.00917375561973019, 0.02700249317192668, 0.007939205579152833, 0.014381191827651456, 0.008891385131725793, -0.02415252126974278, -0.0168896915106935, -0.011610021923209972, 0.03351671279998756, 0.008845417842980893, -0.016272416490404822, -0.02681862401694707, 0.00910808806438033, -0.011793891078189579, 0.007459832890760151, 0.02449399255756205, -0.0027301281480091124, -0.015642007959046172, 0.003532913779330497, -0.03611714799184199, 0.024730395756821545, 0.009508660152014473, 0.010848278281151603, 0.012056560368266432, 0.022221897005102083, 0.029130121965262122, 0.013593181163453143, -0.0011130648303494708, -0.0012402957188398234, -0.0011220941192100764, -0.001506249201591431, 0.004018853456088811, 0.0018567497782713052, 0.005568607762345492, 0.03220336169299037, 0.006169465428135414, 0.006133348272692992, 0.007472966401830123, -0.0017040727120828823, 0.017270563331722683, 0.0040451204782287545, 0.0205802081213556, -0.009154055353125232, 0.006327067560975077, 0.005053117452849096, -0.012345497611805815, 0.007446699379690179, -0.015129801958639852, -0.007827570735058072, -0.0034902298683530887, 0.0369576927003202, 0.019490126702547933, 0.0073678983132703475, -0.009482393129874528, -0.0022934389049325474, -0.026766089972667186, 0.03180935636089122, 0.01674522288892381, -0.01385585138485258, -0.021473286874113685, 0.01632495053468471, 0.00862214815479137, -0.013908385429132468, 0.05573860980508964, -0.024953665445011066, 0.04641382067069995, 0.021420752829833797, 0.011990892812916574, -0.046282485560000225, 0.02164402251802332, 0.006448552538372316, -0.017178628754232882, -0.006757190048516656, 0.002424774015632266, 0.0003786144115025408, -0.0017122811565016146, -0.02170969007337318, 0.0012846213187009783, 0.013422445519543509, -0.0016605679566636005, 0.050064933022861795, 0.02742276552616578, 0.0012025368745136541, -0.005519357095833098, -0.014026587028762215, 0.00980416415108884, 0.008313510644647032, 0.019647728835387596, -0.00952836041861943, -0.017007893110323247, 0.005427422518343295, 0.00668495573763181, 0.0010851561193257805, -0.018859718171189283, -0.00752550044611001, -0.01934565808077824, -0.026437752195917888, 0.028946252810282517, 0.012516233255715449, -0.0007798020451565958, 0.01046740646012242, -0.019660862346457565, 0.021315684741274023, 0.012128794679151279, 0.00283847961433638, 0.0028565381920575917, 0.012680402144090098, 0.003585447823610385, -0.005181169185781322, -0.010112801661233179, 0.013271410142238831, 0.016994759599253274, -0.023403913001399552, -0.018728383060489563, -0.0001702225870296329, -4.3171280088813156e-05, 0.01061187508189211, -0.002196579260791505, -0.00017258251480001846, 0.006803157337261557, 0.008155908511807369, 0.04559954298436169, -0.029313991120241727, -0.023968652114763175, -0.010178469216583037, 0.009272256952754979, -0.008471112777486694, -0.013061273965119281, -0.008819150820840949]\n",
      "[-0.026537208189265794, 0.004346724183518228, 0.04020393685660414, -0.0024556382839335286, 0.0012596363811075543, 0.013307764346696999, 0.011728324129842852, 0.0011682637401932046, -0.048035871785423956, -0.029891888020649432, 0.029917994855358832, 0.027568413259125783, -0.03399059960273481, -0.014998156748420933, -0.004389147324259712, 0.020963480935196118, 0.027359562306740914, 0.0009178049617825652, 0.012844374549863223, -0.022986730822851992, -0.02796001019183129, 0.013418716531566784, -0.02796001019183129, -0.006255758531965641, 0.005335506112636731, -0.01026636280653584, 0.019384041649664556, -0.0215900356549959, -0.00169202442813924, -0.018326729745095166, 0.00984865903912093, 0.004904749859189706, -0.0009153575042362204, -0.009672440698800227, 0.00027105841163521844, -0.011571684984231615, 0.013666727736015755, -0.0008235770022371978, 0.009646333864090825, -0.017439110403491716, 0.0034917379196402363, 0.04271015573580325, -0.008608603016876073, -0.004930856228237815, 0.019175188834634517, 0.00682031091631447, 0.01506342290387185, -0.017008353218722107, -0.01604241523563562, 0.01969731807824186, 0.016956141411948473, 0.01994532928269083, -0.03310298212377653, 0.009829078913088879, -0.012256979150804962, -0.007172747596955876, -0.0035504775992444503, 0.007140114519230417, 0.02105485299403385, -0.009463588815092771, -0.0046077888053219, 0.027698945570027618, -0.01051437401098481, -0.002870077998517824, 0.010768911924111132, -0.011297566945073242, -0.03051844274044921, 0.02055883058513591, 0.0061611226531279395, 0.0019873536884223854, -0.017687121607940687, 0.02098958776990552, -0.00016479697848514026, -0.0060044839731779945, 0.041430939461494294, -0.016982246384012703, 0.001891086132415346, 0.00644829364397972, -0.007955941462366892, 0.012302666111546413, 0.0026318566242542313, -0.02322168860994626, -0.029160907824657217, 0.04936730172915172, 0.01756964271439355, -0.0012588205425228857, 0.009300423892126769, 0.009182944998579634, -0.011206194886235508, 0.01353619542511392, 0.009182944998579634, -0.011297566945073242, 0.020232500739203903, 0.008523756735393104, -0.004712214747175628, 0.007903728724270675, -0.001282479512232311, 0.014998156748420933, 0.0075969776073868435, -0.016812555683691936, -0.006624512449961716, 0.02903037551375538, -0.024383425990708085, -0.005541094642005511, -0.016577597896597667, 0.004392410678598388, 0.00682031091631447, 0.013105439171666896, 0.011630424431005182, -0.009698547533509627, -0.018509473862770635, 0.036914524111994, -0.009502749067156873, -0.03177155218004877, 0.0008427489179386065, 0.019579839184694723, -0.013718940474111973, -0.027202923161129676, -0.015898829507379083, -0.02267345439427469, 0.010344681448018873, 0.0027118076413985416, 0.016068522070345023, -0.018104825375355595, 0.01103650232326957, 0.002044461458026616, -0.01944930687379289, -0.028247181648344364, -0.007805829491094298, -0.008530283444070454, 0.01797429306445376, 0.03955127716474013, 0.0015990202264708757, 0.00802120761781781, -0.02102874802196962, 0.0033269410866742497, -0.0029353441539687417, -0.0014048534372874592, -0.02558432362353401, -0.028743204057242306, 0.014906784689583199, 0.005214763864750921, 0.002294104572475571, 0.006301445027045801, 0.0008664078876480319, 0.015193955214773687, 0.008745661105132673, 0.015650818302930112, 0.002615540085391502, 0.01623821277066579, 0.01711277869491454, -0.010351208156696223, -0.004881906378818981, 0.030675081886060447, 0.04639116727576406, 0.0040595531926664475, 0.022803986705176523, -0.002336527480386409, -0.008928407085453312, 0.00605343382259683, 0.01905770994108738, 0.0055149882729574025, -0.006164386007466615, -0.003684273031654315, 0.01815703718212923, 0.011173561342848757, 0.016342640109503394, -0.026263092012752592, 0.012929220831346191, -0.00740770584971144, 0.006190492376514724, 0.06218557130695071, -0.0066701984793805826, 0.01776544024942372, -0.015455019836577358, -0.011441152673329779, 0.012903113996636791, -0.00449357326611344, 0.0002253721057299589, -0.030622868216641643, 0.0017605539379288331, 0.03231978825836551, 0.0062786020123363675, 0.001793186899238969, -0.019853957223853098, 0.004382620615582362, 0.016068522070345023, -0.005018965398398167, -0.015742190361767848, -0.0032372000065139144, -0.006696304848428692, 0.00046257369631463055, -0.013379557210825267, -0.0013110333970344262, -0.6486931517205762, -0.013405663114212084, -0.007838462568819758, -0.005625940457827187, -0.0006277785940921052, 0.006905156732136146, -0.019501520543211692, -0.01886191240605721, 0.003958391070812688, 0.016956141411948473, -0.015324487525675523, -0.0035113178128416407, -0.012080760810484257, -0.016969194829303175, -0.02170751454854303, -0.0251405130214097, 0.0026204351168995148, -0.028717097222532906, -0.010612272778499895, -0.002431163359224111, -0.036549032151352724, 0.02036303305010574, -0.007538238160613275, 0.01409748398946278, -0.01201549465503334, -0.004921066165221789, -0.009594121125994608, -0.0008672237262327007, 0.02638057090629973, -0.0008260244597835425, -0.009985718058700115, 0.0055019348556027015, 0.013470929269663002, -0.003442788303052048, 0.04443318074959135, -0.0012751370813856152, -0.006497243493398555, 0.017204152616397444, -0.0004531916981100934, 0.040360574139570206, -0.03579194512065111, -0.006846417285362579, 0.002669384733487703, -0.009933505320603898, -0.0075969776073868435, -0.009013252435613696, 0.006604932323929665, 0.020872108876358385, -0.0075904508987094926, -0.015089529738581253, 0.002659594903302324, 0.005759736123067698, 0.001674076212107173, -0.012537623898640684, 0.008810927260583593, 0.001786660306976942, 0.03459104935047036, -0.010677538933950813, 0.020924320683132016, -0.009581067708639908, -0.010860283982948866, 0.010253309389181139, -0.0251405130214097, -0.012459304325835065, -0.020336926215396338, 0.031249422936441423, 0.005609624151795104, 0.01050132059363011, -0.002393635249990639, -0.053831503409233206, 0.011297566945073242, 0.04028225736073234, 0.006141542992757181, -0.02551905653676051, 0.002264734849088787, 0.03913357153468005, 0.008327958269040349, -0.010423001020824491, -0.010945130264431835, 0.004797060562997304, 0.011565158275554264, -0.0006653066451179154, -0.008093000481946078, -0.013993058513270346, -0.0014179067382268367, -0.0041737691975362, -0.0011021817461576177, 0.013020592890183926, -0.013405663114212084, -0.005880478370953509, 0.01257025651070485, 0.017034460053431507, -0.03662735265548093, -0.051612455986547165, -0.016499277392469463, 0.028482139435438637, -0.010475213758920708, 0.013901685523110026, 0.027568413259125783, -0.03117110429495839, -0.017230259451106844, 0.0035276343517043705, 0.007616557267757602, 0.03409502694157242, 0.021759728217961835, -0.000728125284814827, 0.01750437562762005, -0.008641235628940239, 0.007140114519230417, -0.028664885415759275, 0.007348966402937872, 0.014893731272228497, 0.0012327140570594537, 0.02170751454854303, 0.0003336730916859629, -0.027359562306740914, -0.00048704850460872483, 0.01747827065555582, 0.007792776073739597, -0.021015694604614922, 0.015494179157318875, -0.012589836636736901, 0.007159694645262468, -0.007159694645262468, 0.007636137393789652, -0.0039453376534579875, -0.016003254983571517, 0.013940845775174128, -0.0030919830667493326, -0.00044748091532890424, -0.01104302903194692, -0.025075247797281368, 0.02643278271307336, -0.009470115523770122, 0.010246782680503788, 0.0018600847318592246, 0.013692834570725157, -0.001492146885278465, 0.02230796429627858, -0.006976949596264415, -0.015520285992028277, -0.019136030445215585, 0.017426056986137015, -0.0233783277555575, -0.01818314401683863, -0.004108503042085283, -0.00047032404645366095, -0.00010248822335173122, 0.006252495177626966, -0.008961039697517478, -0.013111965880344245, -0.016499277392469463, 0.0009300423659296123, 0.036079116577164186, -0.00736854606330863, -0.003844175065942935, -0.026484996382492163, -0.033259619406742595, -0.014306335873170236, -0.049654473185664794, 0.015285328204934006, 0.04341502909708606, 0.0028064435202362435, 0.008380171007136566, -0.013914738940464728, -0.02034997963275104, 0.013151125201085762, 0.0350087512552401, -0.03221536091952791, -0.04539912245796818, -0.0034917379196402363, -0.04636506044105466, 0.0036255335848807474, 0.03404281327215361, -0.006490716784721204, 0.015350594360384924, -0.03422555738982908, 0.024383425990708085, -0.008745661105132673, -0.031040571984056554, -0.029213119631430848, -0.014084431503430665, 0.010246782680503788, 0.02037608646746044, 0.010481740467598059, 0.012766054977057604, 0.03461715618517976, -0.006461347061334421, -0.03521760593291531, 0.026706900752231734, 0.03968180761299679, 0.012152553674612526, -0.015663871720284814, 0.0012343457342287915, -0.0025209042065538, 0.012961853443410358, 0.03182376584946757, -0.0005241686072383698, -0.025310205584375637, 0.014906784689583199, 0.02427900051451565, 0.01263552266615577, 0.0021456240455416677, -0.016616756286016596, -0.01266815620954252, -0.033520684028546265, 0.010253309389181139, -0.02751620145235215, 0.017360791762008682, -0.01050132059363011, 0.002524167560892475, -0.029082587320529013, -0.004725267698869036, -0.021263705809063893, 0.007610031024741544, 0.01927961431082695, 0.007910255432948026, 0.0045523127128870074, -0.031536594392954496, 0.006484190076043854, 0.01484151853413228, 0.003648376832420827, 0.020271660991268006, -0.006095856497677021, 0.02036303305010574, 0.014110537406817482, 0.004287984736744661, -0.012707315530284037, 0.001235977411398129, -0.03344236724970841, 0.012844374549863223, 0.020441351691588772, 0.012746475782348138, 0.021694461131188333, 0.00928084376609472, 0.02181194188738064, 0.007557817820984034, -0.016003254983571517, 0.048140299124261564, -0.02207300464653914, -0.0038245951727415304, 0.010657958807918762, 0.011401993352588262, -0.014671825971166343, 0.03918578520409885, 0.0019416674261728722, 0.026158664673914988, 0.008471543997296885, -0.016708130207499502, 0.007792776073739597, -0.005139707646283977, 0.009985718058700115, -0.0014448289458596142, 0.0017050777290786175, 0.0002641238709770261, -0.01713888552962394, -0.009483168941124822, -0.005035282170091543, 0.019827850389143694, 0.025688749099726446, -0.0166950767901448, 0.006990002547957823, 0.016172947546537458, -0.012217819830063445, 0.01602936181828092, -0.028325500289827398, 0.02143339650938466, -0.01905770994108738, -0.028717097222532906, -0.010103196952247252, -0.011199668177558157, -0.006210072502546775, -0.016812555683691936, -0.005609624151795104, 0.03414724061099122, 0.009483168941124822, 0.017804600501487824, 0.03459104935047036, 0.02190331394621837, 0.024448693077481588, -0.046469484054601926, -0.019253509338762718, 0.033468470359127464, 0.010977762876496001, -0.0008243928408218665, -0.02884762953343474, -0.031745445345339365, -0.002339790834725084, -0.018574740949544137, 0.003684273031654315, -0.00384743842028161, 0.002228838417024653, -0.017634907938521883, 0.01330123763801965, 0.005009175335382142, -0.01079501782749795, 0.038402591338687835, 0.011982862042969174, 0.0028831314158725245, -0.008693448367036456, 0.0019106660256167508, 0.0012188450339507308, -0.01991922244798143, -0.023939617251228947, 0.02493166206902483, -0.00020650611494588562, 0.0060240640992100455, -0.01168916387777875, -0.024761969506058894, -0.000834998567799576, -0.0037691190803066377, -0.025427684477922773, 0.023443594842331, 0.00644829364397972, 0.02686353989784297, 0.008399751133168617, -0.006807257498959769, 0.02102874802196962, 0.01991922244798143, 0.005913111448678968, -0.003971444022506096, -0.012981433569442409, -0.01481541169942288, 0.005997957264500644, 0.06474400385556862, 0.03741054652089195, -0.010109723660924603, 0.016499277392469463, -0.025675695682371744, -0.02190331394621837, -0.02423984026245155, -0.0035211078758576662, 0.01687782090782027, -0.008380171007136566, -0.027672838735318218, 0.01017498981637552, 0.0057858424921158075, -0.013085859045634845, 0.014110537406817482, 0.004888433087496331, 0.0013591671750379458, -0.012831321132508523, 0.005531304578989486, -0.017791547084133122, 0.017360791762008682, 0.0029402391854767545, 0.03837648450397843, -0.013679781153370457, -0.006722411683138093, -0.004960225951624599, 0.02383519177503651, 0.02798611702654069, -0.0002286354164128879, -0.022608187307501183, 0.0013493772284372436, 0.010997343002528052, -0.001909034348447413, 0.008269218822266782, -0.02447479991219099, 0.030622868216641643, 0.0018535581395971975, 0.013718940474111973, 0.013771153212208192, -0.0013648779287153043, 0.016747288596918434, 0.013666727736015755, -0.008184372540783812, 0.027751159239446422, -0.02681132622842417, 1.2575203216064428e-05, -0.001917192617878778, 0.01904465652373268, -0.00709442848981155, -0.03372953498093114, 0.009065465173709913, 0.023469699814395232, -0.01716499236433334, -0.0039159679300712034, -0.008602076308198722, -0.00768835013188587, 0.011212721594912857, -0.013483982687017703, -0.015729136944413146, -0.005984904312807237, -0.01777849366677842, -0.036131330246582986, -0.0014603296461376748, 0.008843560803970344, 0.006347131056464668, -0.023926563833874245, -0.014397708863330555, 0.01017498981637552, -0.031249422936441423, -0.0010091775444892534, -0.021381184702611026, -0.023339169366138567, -0.05085536895584555, -0.018888019240766614, 0.0025127460535377586, 0.030022420331551267, 0.0011837644404712653, -0.005759736123067698, -0.022125218315957942, 0.0003361205783361385, -0.003322046055166237, 0.00142035413756552, -0.027881691550348257, -0.03555698733355684, 0.011225774080944974, 0.002706912842721175, -0.015428913001867958, -0.019253509338762718, -0.020545777167781207, 0.01730857809258988, -0.011813169480003235, 0.003333467562520954, -0.0043336712318248205, 0.00709442848981155, 0.013523142007759219, 0.005146234354961327, 0.011297566945073242, 0.006193755730853398, 0.025597377040888714, -0.005821738924179942, 0.00681378420763712, 0.009032832561645747, -0.014358548611266453, -0.0056063607974564285, -0.001079338615032861, -0.0010271257605213207, 0.010925550138399784, 0.005707523384971481, 0.027202923161129676, 0.003098509542596037, 0.020310819380686938, -0.008119106385332895, 0.04897570293380104, 0.008830507386615642, 0.03171933851062996, 0.010351208156696223, 0.015716083527058444, 0.02443563966012689, 0.028012223861250095, -0.01599020156621682, -0.010227202554471737, -0.02772505240473702, 0.009137258037838181, -0.005730366399680915, -0.019527625515275922, 0.007923307918980141, -0.00069753180355104, -0.0233783277555575, -0.028429925766019833, 0.015663871720284814, -0.013105439171666896, 0.026733007586941134, -0.0022745246792741664, -0.0011821327633019278, -0.039577380274159184, -0.008745661105132673, -0.016799502266337234, 0.006418923920592936, -0.0301007389730343, -0.02536241925379444, 0.018783591901929006, 0.001159289632177171, 0.009894345068539796, -0.016812555683691936, 0.02097653435255082, -0.033651218202093276, -0.02798611702654069, 0.013092385754312194, 0.0034036287494798845, 0.009300423892126769, 0.0060338536965647786, 0.021172333750226157, -0.031223317964377193, -0.02730734863732211, 0.006539666168478747, -0.023900456999164845, 0.002529062592400488, 0.011995914529001289, 0.018940231047540244, 0.027777266074155822, 0.047122147471756276, -0.023038944492270792, 0.009078518591064615, 0.0003744644388427867, -0.014867624437519097, -0.0002282274971205535, 0.0028423399523003776, -0.0003864978833436666, -0.01481541169942288, -0.008810927260583593, 0.012981433569442409, -0.027150711354356045, 0.02796001019183129, -0.007818882442787707, 0.023482753231749934, 0.02581928141062828, 0.000704874234397736, -0.01298796027811976, -0.022190485402731445, -0.0166689699554354, -0.007512131791565167, 0.030048527166260667, -0.013157651909763113, 0.008491123192006352, -0.012961853443410358, 0.006232915517256208, 0.013901685523110026, 0.003126247588813483, -0.004983068966334033, 0.014201910396977801, 0.010651433030563998, 0.010964710390463886, -0.027568413259125783, -0.003225778499159198, 0.00866081575497229, -0.050411560216366405, 3.125635738978812e-05, -0.04124819534381882, 0.02318253022052733, 0.021524770430867562, 0.009652860572768176, -0.00962022796070401, 0.04550354607151544, 0.0033644689630770754, -0.027437880948223945, -0.009274317057417368, -0.032554746045459784, -0.021067906411388553, 0.0020901479531067755, -0.013457875852308301, -0.016107680459763955, -0.019031603106377977, 0.0070813750724568495, -0.003126247588813483, -0.010312048835954706, 0.015363646846417039, -0.006245968934610909, 0.013745047308821375, -0.01642095875098643, -0.017034460053431507, 0.020036701341528566, 0.015872722672669683, 0.03707116139496007, 0.004983068966334033, 0.018718326677800674, 0.006050170468258154, 0.03224146775423731, -0.015729136944413146, -0.02297367740549729, 0.0009333056620606259, 0.008399751133168617, 0.026315303819526226, 0.009705073310864393, -0.005218027219089596, -0.017791547084133122, 0.009953085446635949, 0.004144399474149417, -0.0350870717593683, -0.047330998424141145, 0.008752187813810024, 0.012008967946355989, 0.0020885162759374377, -0.033285726241452, -0.010599219361145194, -0.013014066181506577, 0.009130731329160832, -0.0004935751259745828, 0.007003055965312524, 0.02007586159359267, -0.005028755461414192, -0.01905770994108738, 0.02897816184433658, 0.007747089578659438, 0.013431769948921484, -0.027150711354356045, 0.008145213220042295, 0.0014750145078310669, -0.009574540999962557, -0.006591879372236257, 0.030048527166260667, 0.007649190345483061, 0.035034858089949494, -0.011421572547297728, 0.02269956122898409, 0.028403820793955602, 0.013731993891466674, -0.007897202015593324, 0.0074533923447915994, -0.005694469967616781, 0.026067292615077252, -0.0075969776073868435, -0.02382213835768181, -0.001246583080168177, -0.005110337922897193, -0.010338154739341522, -0.020284714408622707, -0.00022088506627385753, -0.02205995309182961, -0.007061795412086091, 0.015703031972348916, 0.027385669141450315, -0.015755243779122546, 0.0009985717593038823, 0.009783392883670012, 0.017895972560325556, -0.023717712881489376, 0.02105485299403385, -0.00802773432649516, 0.023769924688263007, -0.02269956122898409, -0.00865428904629494, -0.014554347077619207, -0.005811948861163916, -0.004591472499289817, -0.005152761063638678, -0.010377314991405625, 0.01395389919252883, 0.02811664933744253, -0.03788046209508049, -0.0141888569796231, -0.016368745081567625, 0.017804600501487824, -0.01289006057928209, -0.009071991882387264, -0.00736201935463128, 0.0045751557275964415, 0.02790779838505766, -0.032398108762493716, -0.002075462858582737, -0.0166689699554354, 0.005012438689720816, 0.010037930796796334, 0.0031082996056120624, 0.007505605082887817, -0.004363040955211604, -0.008086473773268729, 0.0036973262161783694, -0.0006318577288077877, 0.006918209683829554, 0.009013252435613696, -0.007401179141034089, -0.02122454555699979, 0.011075662575333671, -0.024788076340768295, -0.005404035622426325, -0.005864162064921426, 0.0070879017811342, -0.01905770994108738, -0.03422555738982908, -0.00492759287389914, -0.00986823916515298, -0.0009798078211024697, -0.0006351210249388012, -0.0023691605581118683, -0.0044478867710332805, 0.016786448848982536, -0.00740770584971144, -0.004134609411133391, -0.005136444291945302, -0.015494179157318875, 0.016838662518401337, 0.025936760304175417, 0.002267997970596816, 0.012093814227838959, -0.011493365411425996, -0.0006053433822596829, -0.011871908926776803, -0.00039975505661771893, -0.03808931304746536, -0.010449107855533893, -0.021133173498162055, 0.027385669141450315, 0.005958797943759127, -0.0092155776106438, -0.0047154781015143026, -0.011839276314712637, -0.0567554279184924, 0.02529715216702094, -0.006852943528378636, -0.004588209144951142, -0.0058543720019054, 0.03863754912578211, -0.03354679086325567, 0.014528241174232391, -0.00368100967731564, 0.004862326718448222, -0.019501520543211692, -0.01050132059363011, -0.011277987750363776, 0.011075662575333671, 0.016225159353311088, 0.0021293075066789384, -0.025806227993273582, -0.012877008093249974, 0.014449921601426772, -0.010285942001245305, 0.008771767939842075, 0.018339783162449868, -0.007766669704691489, -0.0013860894990860464, 0.0056063607974564285, 0.013092385754312194, 0.023234742027300963, 0.0018780329478912917, 0.017034460053431507, -0.017230259451106844, -0.018600847784253537, 0.006950842761555013, -0.03362511136738387, -0.03143216705411689, -0.009731180145573795, -0.01409748398946278, 0.007864568472206573, -0.0036679564927915857, -0.01712583211226924, 0.004676318315111494, -0.00020925952651339663, -0.010292468709922654, 0.013431769948921484, 0.013601461580564838, 0.013027119598861277, 0.02604118578036785, -0.013072805628280143, 0.010011824893409517, -0.0013363240439131891, -0.0014913310466937964, -0.015494179157318875, 0.011682637169101399, 0.0033057295163035076, -0.01601630840092622, -0.02275177303575772, -0.00405302694965039, 0.006076276837306263, -0.015977148148862117, 0.013653674318661055, -0.02012807526301147, 0.014006111930625047, -0.0017964502535776441, 0.033964492768025406, -0.02236017610305221, -0.005244133588137705, 0.015546392826737677, 0.008223532792847914, -0.002964714110186172, -0.020284714408622707, -0.008249638696234731, 0.01901854968902328, -0.027594520093835184, 0.021381184702611026, -0.009698547533509627, -0.0042064022752616595, -0.03965570077828739, -0.018130930347419826, 0.03440830523279489, -0.02686353989784297, 0.017856814170906624, 0.19694707022241886, -0.03140606394469783, 0.000741178527546543, -0.0012743212428009464, 0.004898223150512356, 0.0038637549591443395, 0.03446051890221369, -0.0055149882729574025, 0.00011044253313692877, -0.007988574074431059, 0.01604241523563562, 0.008713028493068507, -0.01585966925531498, -0.0014603296461376748, -0.000992861005626524, -0.007942888045012192, -0.006794204081605069, -0.029317546970268452, 0.014319389290524936, 0.030179059477162505, 0.001196001902825974, -0.0027411775976159715, 0.014280229038460834, -0.012792161811767006, 0.042997327192316324, -0.002416478497530719, -0.00824311198755738, 0.007100955198488901, 0.020545777167781207, 0.00802120761781781, -0.019397095067019254, -0.011082189284011022, 0.014998156748420933, 0.007518658500242517, -0.011839276314712637, 0.0034036287494798845, 0.020611044254554713, -0.0036907997403316656, 0.02579317457591888, 0.025062194379926666, 0.01777849366677842, -0.011754430033229667, 0.005227817282105621, -0.022686507811629387, 0.0116956905864561, 0.022046899674474908, -0.006135016284079831, -0.013307764346696999, 0.0117087440038108, 0.0022565764632420993, -0.004252088304680527, 0.0032339368850058856, 0.002636751655762244, 0.0248663968448965, 0.004728531053207711, 0.014110537406817482, -0.013666727736015755, 0.020023649786819035, 0.02036303305010574, -0.002564959024464622, -0.036783989938447, -0.0003010400430643347, -0.00401386716324758, 0.016355691664212926, -0.005554147593698919, 0.0069377898098616055, 0.0027297558574306087, -0.02079379023487535, 0.01947541370850229, 0.020232500739203903, -0.013125019297698945, -0.0017148675592639966, -0.029526397922653325, -0.006846417285362579, -0.014071378086075965, -0.03461715618517976, 0.046025675315122784, 0.020741576565456547, 0.013059753142248028, 0.01626431960537519, -0.020676309478683045, -0.005645520118197946, -0.02446174649483629, -0.009045885979000448, -0.020088915010947367, -0.040517215147826614, 0.029970206662132463, -0.03526981587704377, -0.019605946019404127, 0.008197425958138514, -0.006637565401655124, -0.022255750626859777, -0.017256364423171078, -0.00568141655026208, 0.001988985365591723, -0.00645482035265707, 0.020872108876358385, 0.016982246384012703, -0.000460126209664455, -0.01946236029114759, -0.01904465652373268, 0.0333640467455802, 0.017386896734072912, 0.029917994855358832, 0.02511440804934547, 0.009045885979000448, -0.0315627012276639, 0.017700175025295386, -0.00513318140326792, 0.015872722672669683, 0.006183966133498665, -0.03030959178806434, 0.007538238160613275, -0.0026840695951810952, -0.010781964410143247, 0.002816233583252269, 0.014293282455815536, -0.018705273260445975, 0.02275177303575772, 0.0003196000798272418, -0.013392609696857384, -0.0056357305208432126, 0.0028814997387031868, 0.01168916387777875, -0.0019645104408823055, -0.024344267601289153, -0.014319389290524936, 0.013993058513270346, -0.0216422493244147, -0.0032714647614087112, 0.01976258516501536, -0.03842869817339723, -0.003902914745547149, 0.01954067893263062, -0.005061388539139651, -0.011140928730784589, 0.025310205584375637, 0.011010396419882754, 0.004960225951624599, 0.0006330814866847908, -0.012041601489742742, 0.0007893122473424011, 0.0006547008599325443, 0.014332442707879638, 0.014580453912328609, -0.007486025422517058, 0.010227202554471737, 0.0006583720753558923, -0.005263713248508463, -0.001971037149559656, 0.0021570455528963847, 0.0014260650076582016, 0.004372830552566337, -0.015572498730124494, 0.013085859045634845, -0.009156838163870232, 0.019227402504053318, -0.009515801553188988, -0.007009582673989874, -0.02879541772666111, -0.030596761381932243, -0.003808278633878801, -3.2403615847563214e-05, -0.0016969194596472528, -0.01115398214813929, -0.007792776073739597, -0.16332197375619634, 0.012472357743189767, 0.019527625515275922, -0.02798611702654069, 0.02793390335712189, 0.00279012721420416, 0.017439110403491716, 0.0008639604301016871, -0.021133173498162055, -0.013523142007759219, 0.002134202538186951, -0.021080959828743254, -0.0002953292311793147, -0.026550261606620496, -0.023012837657561392, 0.008053840229881978, -0.0076035043160641936, 0.018770538484574308, 0.04093491705259635, 0.036549032151352724, 0.04177032458742617, -0.04250130478341838, 0.012628995957478418, 0.010945130264431835, -0.0010344681913680165, -0.0001601059793828717, -0.006412397211915586, 0.037593290638567416, -0.013281657511987599, -0.03610522341187359, 0.0027362825661079587, -0.02148561017880346, -0.013823366881626994, 0.002568222145972651, -0.0012221082718740827, 0.010050984214151034, 0.03432998472866668, 0.0011494996855764686, -0.02963082339884576, 0.02709849768493724, 0.01604241523563562, 0.03701894772554127, -0.011127875313429889, -0.00475463742225582, -0.018535580697480035, -0.01646011900305053, 0.01997143611740023, -0.01756964271439355, -0.012877008093249974, 0.0024654281141189074, 0.0166689699554354, -0.014032217834011863, -0.005152761063638678, 0.0019547206106969267, 0.0010915760773875698, -0.01548112667128676, 0.011186614760203457, 0.011180088051526106, -0.007955941462366892, -0.006369974536835394, 0.0027362825661079587, -0.02079379023487535, 0.0014578822467989918, -0.01482846511677758, -0.006983475839280473, -0.011506418828780696, -0.012837847841185872, 0.019814796971788996, -0.0016177842810876117, -3.737505946331169e-05, 0.010553533331726327, -0.015624711468220712, -0.024357321018643855, 0.003818068696894826, -0.004405463630291796, 0.02446174649483629, 0.014658773485134226, 1.4633889971744367e-05, 0.016251266188020492, 0.004728531053207711, 0.004855800009770872, 0.008745661105132673, -0.0010679171076781442, 0.016499277392469463, -0.00801468090914046, 0.014241069717719318, 0.003808278633878801, 0.00370385292485572, -0.020637151089264113, 0.005694469967616781, 0.028090542502733126, -0.010703645768660215, -0.039316315652355514, 0.007166221353939819, 0.0012221082718740827, 0.006839890576685229, -0.002834181799284336, -0.033259619406742595, 0.00509402161686511, -0.009789919592347361, -0.00962022796070401, 0.03529592271175317, -0.005404035622426325, 0.008164793346074346, 0.01507647632122655, 0.016747288596918434, -0.007871095180883924, -0.0029696089088635386, 0.033050768454357726, -0.0248663968448965, -0.0020395666593492493, -0.012916167413991491, 0.005913111448678968, -0.0009879660905338344, -0.006572299246204206, 0.021694461131188333, 0.02384824519239121, -0.004881906378818981, 0.008589022890844022, -0.010625326195854596, 0.040621638761373875, -0.0216161424897053, -0.006148069701434531, 0.004650211946063384, -0.0141888569796231, -0.02079379023487535, -0.11288429925453985, -0.02725513683054848, 0.008184372540783812, 0.002666121379149028, -0.005518251161634785, 0.022125218315957942, -0.00421292898393901, 0.028273288483053764, -0.023365274338202797, 0.022856198511950154, -0.0014627771618916812, 0.002618803439730177, -0.007557817820984034, -0.016329586692148693, -0.009665913990122876, -0.013111965880344245, 0.014371602028621153, 0.0035700572596152084, -0.020676309478683045, 0.03271138332842585, -0.010690592351305513, -0.017021406636076805, -0.004774217548287871, -0.022373229520406913, -0.006846417285362579, 0.016551491061888263, -0.014254123135074018, 0.010566586749081027, 0.01354924884246862, 0.002078726212921412, 0.015441966419222658, -0.031223317964377193, 0.0015818878490234773, -0.0216161424897053, 0.0333379399108708, 0.015298380690966121, -0.011852329732067337, -0.0315627012276639, 0.022425443189825714, -0.017426056986137015, -0.011597791818941015, -0.005665100244229997, -0.022464601579244646, -0.004411990338969146, 0.002173362091759114, -0.01580745744854135, -0.006438504046624987, 0.030805614196962282, 0.024187628455677918, -0.021824993442090167, -0.03761939747327682, -0.005257187005492405, -0.06886882413500858, 0.0014440131072749455, 0.03440830523279489, 0.021120120080807357, 0.0017181309136026718, -0.03184987268417697, -0.006696304848428692, -0.0009333056620606259, -0.0017475006369894557, -0.014058324668721265, -0.018013451453872693, 0.02421373529038732, 0.013281657511987599, -0.002481744652981637, -0.048636321533159506, -0.01448908092216829, -0.0034884747981322075, -0.022203536957440977, -0.005619413749149837, 0.042031389209229844, -0.004108503042085283, 0.021929420780927772, -0.017086673722850308, -0.003286149623102103, -0.016251266188020492, -0.029944101690068232, -0.00043075645717384036, -0.013177232035795164, -0.002930449355291375, 0.0007872727090883908, 0.00022088506627385753, -0.02322168860994626, 0.009450535397738071, -0.005841318584550699, 0.01018151652505287, 0.01818314401683863, -0.013392609696857384, -0.01926656275611742, 0.012276559276837011, 0.009091572008419315, -0.006073013482967588, -0.0024376900679014615, 9.183148463460677e-05, -0.005547621350682861, -0.020415246719524542, 0.0012759529199702839, 0.029291440135559052, 0.03529592271175317, -0.014228016300364616, -0.021824993442090167, -0.03036180359483797, -0.009391795950964503, -0.009887819291185032, -0.0016055468187329029, -0.003140932450506875, 0.00920905090196645, 0.01103650232326957, -0.009274317057417368, -0.014932890592970014, 0.0060175373905326955, -0.014149697658881584, 0.0038637549591443395, -0.023939617251228947, -0.00016418511409855408, -0.012837847841185872, -0.023104209716399128, 0.017634907938521883, -0.011330200488459993, 0.03114499746024899, 0.00230389440266095, 0.0025698538231419886, -0.0013281657744818245, 0.02423984026245155, 0.01300101369547446, -0.0029043427534126203, -0.0022582081404114366, -0.016146840711828054, 0.03307687528906713, -0.0037984888036934217, -0.0141758035622684, 0.023991829058002578, -0.02900426867904598, 0.001152763039915144, 0.01837894341451397, -0.011421572547297728, 0.011623897722327832, 0.024383425990708085, 0.017621854521167185, 0.01161084430497313, 0.02297367740549729, -0.02447479991219099, -0.024722811116639962, -0.00867386917232699, 0.004859063364109547, -0.04116987483969062, -0.0029418708626460922, -0.015624711468220712, -0.014658773485134226, 0.003377522380431776, 0.0066701984793805826, 0.010005298184732166, 0.000838669783222924, 0.009561488513930442, -0.0017752387996222252, -0.00177197544528355, 0.00272649273592258, 0.008478070705974236, -0.002793390335712189, -0.008850087512647693, -0.005283293374540514, 0.025662642265017046, 0.00709442848981155, 0.0116956905864561, 0.009940032029281249, -0.02578012115856418, -0.013562302259823321, -0.015246167952869904, 0.027437880948223945, 0.007851515986174458, -0.015598605564833895, -0.0316671285665015, 0.009189471707256985, -0.009979191350022766, 0.0010059141901505783, 0.025492951564696276, 0.0008590654568013359, -0.017060566888140907, 0.004291248091083335, -0.030414017264256774, 0.034826007137564625, 0.013914738940464728, 0.017621854521167185, 0.0018535581395971975, 0.02798611702654069, 0.028925950037562945, 0.012256979150804962, -0.0004719557236229985, -0.011969808625614474, -0.002896184600396579, 0.0024801129758122995, 0.008523756735393104, 0.0014358548378435806, 0.0022924728953062335, 0.03882029324345757, 0.007512131791565167, 0.004989595675011383, 0.0117217974211655, -0.0008362223256765792, 0.017178045781688044, 0.0033285727638435875, 0.019423200039083488, -0.007858041763529222, 0.004937382936915166, 0.005700996676294131, -0.015559445312769793, 0.001300427611849055, -0.025192726690828504, -0.009607174543349308, -0.010383841700082974, 0.030831721031671686, 0.011891489052808854, 0.005169077369670761, -0.006037117050903454, -0.0029386075083074168, -0.028247181648344364, 0.030805614196962282, 0.015650818302930112, -0.020245554156558605, -0.025662642265017046, 0.008151739928719646, 0.0069377898098616055, -0.010357734865373574, 0.059940413324264925, -0.02251681524866345, 0.05722534349268094, 0.01954067893263062, 0.018078718540646195, -0.04030836419544174, 0.017895972560325556, 0.01755658929703885, -0.023469699814395232, -0.0016659179426758081, 0.0008268402983682113, 0.002282682832290208, -0.0016806029207845233, -0.020284714408622707, 0.0005343664731314065, 0.009737706854251144, -0.002047724812365291, 0.05255228713492425, 0.02947418425323452, -0.00038303059846265505, -0.002951660692831471, -0.008954512988840129, 0.010573113457758378, 0.009169891581224934, 0.024357321018643855, -0.007629610685112302, -0.018888019240766614, 0.0007403626889618741, 0.006011010681855345, 0.0007301648230688374, -0.018744433512510077, -0.013497036104372404, -0.026563315023975197, -0.02404404272742138, 0.02358718057058754, 0.008406277841845968, -0.00013654898949652983, 0.00977033946631531, -0.02793390335712189, 0.021798888470025937, 0.012805215229121706, 0.002695491102535812, 0.0005270239840770491, 0.01442381476671737, 0.0020248817976558572, -0.011317147071105293, -0.0070879017811342, 0.01193717508222772, 0.021146226915516757, -0.01626431960537519, -0.018300622910385766, 0.003003873663758335, -0.00046338953489929936, 0.005208237156073571, -0.0027118076413985416, -0.008223532792847914, 0.01451518775687769, 0.005838055230212025, 0.03761939747327682, -0.031223317964377193, -0.025023034127862564, -0.013718940474111973, 0.009287370474772069, -0.006794204081605069, -0.012700788821606687, -0.007838462568819758]\n"
     ]
    }
   ],
   "source": [
    "# Usage example to get embedding of the answer of the first prompt candidate\n",
    "embedding_a = get_embedding(answer_a, embedding_model=embedding)\n",
    "embedding_b = get_embedding(answer_b, embedding_model=embedding)\n",
    "\n",
    "print(embedding_a)\n",
    "print(embedding_b)"
   ]
  },
  {
   "cell_type": "markdown",
   "metadata": {},
   "source": [
    "#### Using cosine similarity"
   ]
  },
  {
   "cell_type": "code",
   "execution_count": 252,
   "metadata": {},
   "outputs": [],
   "source": [
    "def cosine_similarity(a: np.ndarray, b: np.ndarray):\n",
    "    \"\"\"Calculates the cosine similarity between two vectors.\"\"\"\n",
    "    return np.dot(a, b) / (np.linalg.norm(a) * np.linalg.norm(b))"
   ]
  },
  {
   "cell_type": "markdown",
   "metadata": {},
   "source": [
    "###### Get the cosine similarity between embedding a and b"
   ]
  },
  {
   "cell_type": "code",
   "execution_count": 253,
   "metadata": {},
   "outputs": [
    {
     "name": "stdout",
     "output_type": "stream",
     "text": [
      "0.9869567061697153\n"
     ]
    }
   ],
   "source": [
    "similarity = cosine_similarity(embedding_a, embedding_b)\n",
    "print(similarity)"
   ]
  },
  {
   "cell_type": "markdown",
   "metadata": {},
   "source": [
    "## Get the scores and the winner between two prompts"
   ]
  },
  {
   "cell_type": "markdown",
   "metadata": {},
   "source": [
    "### Use GPT to decide the best prompt between the two, otherwise use cosine similarity if no expected output is given in a specific scenario"
   ]
  },
  {
   "cell_type": "code",
   "execution_count": 257,
   "metadata": {},
   "outputs": [],
   "source": [
    "ranking_prompt = \"\"\"\n",
    "        Your job is to rank the quality of two outputs generated by different prompts. The prompts are used to generate a response for a given task.\n",
    "\n",
    "        You will be provided with the task description, the test prompt, and two generations - one for each system prompt.\n",
    "\n",
    "        Rank the generations in order of quality. If Generation A is better, respond with 'A'. If Generation B is better, respond with 'B'.\n",
    "\n",
    "        Remember, to be considered 'better', a generation must not just be good, it must be noticeably superior to the other.\n",
    "\n",
    "        Also, keep in mind that you are a very harsh critic. Only rank a generation as better if it truly impresses you more than the other.\n",
    "\n",
    "        Respond with your ranking, and nothing else. Be fair and unbiased in your judgement.\n",
    "\"\"\""
   ]
  },
  {
   "cell_type": "code",
   "execution_count": null,
   "metadata": {},
   "outputs": [],
   "source": [
    "task_description = \"Explain the concept of few-shot learning.\""
   ]
  },
  {
   "cell_type": "code",
   "execution_count": 288,
   "metadata": {},
   "outputs": [],
   "source": [
    "from langchain_core.prompts import SystemMessagePromptTemplate, HumanMessagePromptTemplate\n",
    "from langchain.prompts.chat import ChatPromptTemplate\n",
    "\n",
    "system_message_prompt = SystemMessagePromptTemplate.from_template(ranking_prompt)\n",
    "\n",
    "# LLM Judgment (if no expected output is provided)\n",
    "human_message_prompt = HumanMessagePromptTemplate.from_template(\n",
    "    \"\"\"\n",
    "    Task: {task_description}\n",
    "    Prompt: {test_case_scenario}\n",
    "    Generation A: {answer_a}\n",
    "    Generation B: {answer_b}\n",
    "    \"\"\"\n",
    ")\n",
    "\n",
    "chat_prompt_template = ChatPromptTemplate.from_messages([system_message_prompt, human_message_prompt])"
   ]
  },
  {
   "cell_type": "code",
   "execution_count": 289,
   "metadata": {},
   "outputs": [],
   "source": [
    "llm_gpt3 = ChatOpenAI(temperature=0, model_name=\"gpt-3.5-turbo\")\n",
    "\n",
    "chain = chat_prompt_template | llm_gpt3 | StrOutputParser()\n",
    "\n",
    "winner = chain.invoke({\"task_description\": task_description, \"test_case_scenario\": generated_test_cases[0].scenario, \"answer_a\": answer_a, \"answer_b\": answer_b})"
   ]
  },
  {
   "cell_type": "code",
   "execution_count": 290,
   "metadata": {},
   "outputs": [
    {
     "data": {
      "text/plain": [
       "'B'"
      ]
     },
     "execution_count": 290,
     "metadata": {},
     "output_type": "execute_result"
    }
   ],
   "source": [
    "winner"
   ]
  },
  {
   "cell_type": "markdown",
   "metadata": {},
   "source": [
    "#### Get the winner between two prompts"
   ]
  },
  {
   "cell_type": "code",
   "execution_count": 291,
   "metadata": {},
   "outputs": [],
   "source": [
    "def getWinner():\n",
    "  return winner"
   ]
  },
  {
   "cell_type": "code",
   "execution_count": 292,
   "metadata": {},
   "outputs": [],
   "source": [
    "def comparePromptsUsingLLM(task_description, test_case, answer_a, answer_b):\n",
    "    winner = chain.invoke({\n",
    "        \"task_description\": task_description, \n",
    "        \"test_case_scenario\": test_case.scenario, \n",
    "        \"answer_a\": answer_a, \n",
    "        \"answer_b\": answer_b\n",
    "    })\n",
    "\n",
    "    winner = getWinner()\n",
    "    while winner not in ['A', 'B', 'DRAW']:\n",
    "        print(\"Invalid input from the model. Please try generating again.\")\n",
    "\n",
    "        winner = getWinner()\n",
    "    return 1 if winner == 'A' else 0 if winner == 'B' else 0.5 "
   ]
  },
  {
   "cell_type": "code",
   "execution_count": 293,
   "metadata": {},
   "outputs": [],
   "source": [
    "def comparePromptsUsingCosineSimilarity(test_case, embedding_model):\n",
    "    embedding_a = get_embedding(answer_a, embedding_model)\n",
    "    embedding_b = get_embedding(answer_b, embedding_model)\n",
    "    embedding_expected = get_embedding(test_case.expected_output, embedding_model)\n",
    "\n",
    "    score_a = cosine_similarity(embedding_a, embedding_expected)\n",
    "    score_b = cosine_similarity(embedding_b, embedding_expected)\n",
    "\n",
    "    # Handle ties and near-ties\n",
    "    if abs(score_a - score_b) < 0.1:  # Adjust threshold as needed\n",
    "        return 0.5  # Draw\n",
    "\n",
    "    return 1 if score_a > score_b else 0  # Return 1 if A wins, 0 if B wins"
   ]
  },
  {
   "cell_type": "markdown",
   "metadata": {},
   "source": [
    "#### Get the score, \n",
    "##### this is 1 for prompt candidate A and 0 for B, else we get 0.5 for a draw"
   ]
  },
  {
   "cell_type": "code",
   "execution_count": 308,
   "metadata": {},
   "outputs": [],
   "source": [
    "def get_score(test_case, prompt_a, prompt_b, model, embedding_model, retreiver):\n",
    "    \"\"\"\n",
    "        Calculates the score for a prompt comparison using either using LLM or embedding similarity.\n",
    "        Returns 1 if prompt A is better, 0 if prompt B is better, and 0.5 if they are equally good.\n",
    "    \"\"\"\n",
    "    answer_a = getGeneration(prompt_a, test_case, model, retreiver)\n",
    "    answer_b = getGeneration(prompt_b, test_case, model, retreiver)\n",
    "\n",
    "    if test_case.expected_output.strip():\n",
    "        print(\"USING LLM to compare prompts\")\n",
    "        return comparePromptsUsingLLM(task_description, test_case, answer_a, answer_b)\n",
    "\n",
    "    else:  # Use embeddings to calculate similarity\n",
    "        print(\"USING COSINE to compare prompts\")\n",
    "        return comparePromptsUsingCosineSimilarity(test_case, embedding_model)\n"
   ]
  },
  {
   "cell_type": "markdown",
   "metadata": {},
   "source": [
    "##### Example on getting the score between two prompts"
   ]
  },
  {
   "cell_type": "code",
   "execution_count": 307,
   "metadata": {},
   "outputs": [
    {
     "name": "stdout",
     "output_type": "stream",
     "text": [
      "USING LLM to compare prompts\n",
      "Scores: 0\n"
     ]
    }
   ],
   "source": [
    "# Initialize Langchain models\n",
    "model = ChatOpenAI(model_name=\"gpt-3.5-turbo\", temperature=0)\n",
    "embedding_model = OpenAIEmbeddings()\n",
    "\n",
    "# Sample Usage to Test get_score()\n",
    "test_case = generated_test_cases[0]  # Choose the first test case\n",
    "prompt_a = candidates[0]  # Choose the first prompt candidate\n",
    "prompt_b = candidates[4]  # Choose the second prompt candidate\n",
    "\n",
    "#Get scores\n",
    "score = get_score(test_case, prompt_a, prompt_b, model, embedding_model, retriever)\n",
    "\n",
    "print(\"Scores:\", score)\n"
   ]
  },
  {
   "cell_type": "markdown",
   "metadata": {},
   "source": [
    "## "
   ]
  },
  {
   "cell_type": "markdown",
   "metadata": {},
   "source": [
    "## Prompt ranking"
   ]
  },
  {
   "cell_type": "markdown",
   "metadata": {},
   "source": [
    "### Use Elo rating to rank the prompts"
   ]
  },
  {
   "cell_type": "code",
   "execution_count": 311,
   "metadata": {},
   "outputs": [],
   "source": [
    "class Candidate(BaseModel):\n",
    "    content: str\n",
    "    rating: float\n",
    "    sd: float\n",
    "    id: int\n",
    "\n",
    "candidates_playing = [\n",
    "    Candidate(content=prompt, rating=1500, sd=350, id=i)\n",
    "    for i, prompt in enumerate(candidates)\n",
    "]"
   ]
  },
  {
   "cell_type": "code",
   "execution_count": 312,
   "metadata": {},
   "outputs": [
    {
     "data": {
      "text/plain": [
       "[Candidate(content='Describe the unique approach in machine learning that involves learning from a limited number of examples.', rating=1500.0, sd=350.0, id=0),\n",
       " Candidate(content='Describe the principles and techniques involved in a unique approach to machine learning that aims to minimize the amount of training data required.', rating=1500.0, sd=350.0, id=1),\n",
       " Candidate(content='Please provide detailed explanations, definitions, and examples to help clarify the concept of few-shot learning.', rating=1500.0, sd=350.0, id=2),\n",
       " Candidate(content='Describe the unique approach of a learning method that involves acquiring knowledge from only a limited amount of data.', rating=1500.0, sd=350.0, id=3),\n",
       " Candidate(content='Describe the principles and applications of few-shot learning.', rating=1500.0, sd=350.0, id=4)]"
      ]
     },
     "execution_count": 312,
     "metadata": {},
     "output_type": "execute_result"
    }
   ],
   "source": [
    "candidates_playing"
   ]
  },
  {
   "cell_type": "code",
   "execution_count": 318,
   "metadata": {},
   "outputs": [
    {
     "name": "stdout",
     "output_type": "stream",
     "text": [
      "USING LLM to compare prompts\n",
      "Score for 'Describe the unique approach in machine learning that involves learning from a limited number of examples.' vs. 'Describe the principles and applications of few-shot learning.': 0\n"
     ]
    }
   ],
   "source": [
    "import asyncio\n",
    "from langchain.chat_models import ChatOpenAI\n",
    "from langchain.embeddings import OpenAIEmbeddings\n",
    "import numpy as np\n",
    "\n",
    "\n",
    "# ##### ... (Your other functions like getGeneration, generate_prompt_candidates, etc. are defined) ...\n",
    "# class Candidate(BaseModel):\n",
    "#     content: str\n",
    "#     rating: float\n",
    "#     sd: float\n",
    "#     id: int\n",
    "\n",
    "# Initialize Langchain models\n",
    "model = ChatOpenAI(model_name=\"gpt-3.5-turbo\", temperature=0)\n",
    "embedding_model = OpenAIEmbeddings()\n",
    "\n",
    "#### Your existing candidate prompts (formatted as dictionaries)\n",
    "# candidates = [\n",
    "#     Candidate(content=prompt, rating=1500, sd=350, id=i)\n",
    "#     for i, prompt in enumerate(generated_prompt_candidates)\n",
    "# ]\n",
    "\n",
    "def calculate_expected_score(rating1, rating2):\n",
    "    \"\"\"Calculates the expected score of a player with rating1 against a player with rating2.\"\"\"\n",
    "    return 1 / (1 + 10 ** ((rating2 - rating1) / 400))\n",
    "\n",
    "def update_elo(rating1, rating2, outcome, k_factor=32):\n",
    "    \"\"\"Updates the ELO ratings based on the outcome of a comparison.\"\"\"\n",
    "\n",
    "    expected1 = calculate_expected_score(rating1, rating2)\n",
    "    expected2 = calculate_expected_score(rating2, rating1)\n",
    "\n",
    "    new_rating1 = rating1 + k_factor * (outcome - expected1)\n",
    "    new_rating2 = rating2 + k_factor * ((1-outcome) - expected2)\n",
    "\n",
    "    return new_rating1, new_rating2\n",
    "\n",
    "\n",
    "# Sample Usage to Test get_score() with ELO Update\n",
    "test_case = generated_test_cases[0]  # Choose the first test case\n",
    "prompt_a = candidates_playing[0].content  # Choose the first prompt candidate\n",
    "prompt_b = candidates_playing[4].content  # Choose the second prompt candidate\n",
    "\n",
    "# Get scores and update ELO ratings\n",
    "score = get_score(test_case, prompt_a, prompt_b, model, embedding_model, retriever)\n",
    "print(f\"Score for '{prompt_a}' vs. '{prompt_b}': {score}\")\n",
    "\n",
    "# Update ELO ratings based on the score\n",
    "candidates_playing[0].rating, candidates_playing[1].rating = update_elo(\n",
    "    candidates_playing[0].rating, candidates_playing[1].rating, score\n",
    ")\n"
   ]
  },
  {
   "cell_type": "code",
   "execution_count": null,
   "metadata": {},
   "outputs": [],
   "source": []
  },
  {
   "cell_type": "code",
   "execution_count": 322,
   "metadata": {},
   "outputs": [
    {
     "name": "stdout",
     "output_type": "stream",
     "text": [
      "USING LLM to compare prompts\n",
      "USING LLM to compare prompts\n",
      "USING LLM to compare prompts\n",
      "USING LLM to compare prompts\n",
      "USING LLM to compare prompts\n",
      "USING LLM to compare prompts\n",
      "USING LLM to compare prompts\n",
      "USING LLM to compare prompts\n",
      "USING LLM to compare prompts\n",
      "USING LLM to compare prompts\n",
      "Elo ranks: {'Describe the unique approach in machine learning that involves learning from a limited number of examples.': 940.2704738806459, 'Describe the principles and techniques involved in a unique approach to machine learning that aims to minimize the amount of training data required.': 969.9824283068954, 'Please provide detailed explanations, definitions, and examples to help clarify the concept of few-shot learning.': 999.8461918235291, 'Describe the unique approach of a learning method that involves acquiring knowledge from only a limited amount of data.': 1029.8642730003692, 'Describe the principles and applications of few-shot learning.': 1060.0366329885605}\n"
     ]
    }
   ],
   "source": [
    "def calculate_elo_rank(player_a_rank, player_b_rank, score, k=32):\n",
    "  \"\"\"\n",
    "  Calculate the new Elo rank of a player based on the score of a game.\n",
    "  \n",
    "  player_a_rank: The current Elo rank of player A\n",
    "  player_b_rank: The current Elo rank of player B\n",
    "  score: The score of the game (1 for a win, 0.5 for a draw, 0 for a loss)\n",
    "  k: The K-factor, which determines the maximum change in rank (default: 32)\n",
    "  \"\"\"\n",
    "  # Calculate the expected score of player A\n",
    "  expected_score_a = 1 / (1 + 10 ** ((player_b_rank - player_a_rank) / 400))\n",
    "  \n",
    "  # Update the Elo rank of player A\n",
    "  new_rank_a = player_a_rank + k * (score - expected_score_a)\n",
    "  \n",
    "  return new_rank_a\n",
    "\n",
    "# Initialize the Elo ranks of the prompts\n",
    "elo_ranks = {prompt: 1000 for prompt in candidates}  # Start with a rank of 1000 for each prompt\n",
    "\n",
    "# Calculate the new Elo ranks based on the scores\n",
    "for i in range(len(candidates)):\n",
    "  for j in range(i + 1, len(candidates)):\n",
    "    # Get the score for the game between prompt i and prompt j\n",
    "    score = get_score(test_case, candidates[i], candidates[j], model, embedding_model, retriever)\n",
    "    \n",
    "    # Calculate the new Elo ranks\n",
    "    new_rank_i = calculate_elo_rank(elo_ranks[candidates[i]], elo_ranks[candidates[j]], score)\n",
    "    new_rank_j = calculate_elo_rank(elo_ranks[candidates[j]], elo_ranks[candidates[i]], 1 - score)  # The score for prompt j is 1 - score because if prompt i wins, prompt j loses, and vice versa\n",
    "    \n",
    "    # Update the Elo ranks\n",
    "    elo_ranks[candidates[i]] = new_rank_i\n",
    "    elo_ranks[candidates[j]] = new_rank_j\n",
    "\n",
    "print(\"Elo ranks:\", elo_ranks)"
   ]
  },
  {
   "cell_type": "code",
   "execution_count": 321,
   "metadata": {},
   "outputs": [
    {
     "name": "stdout",
     "output_type": "stream",
     "text": [
      "{'Describe the principles and applications of few-shot learning.': 1060.0366329885605,\n",
      " 'Describe the principles and techniques involved in a unique approach to machine learning that aims to minimize the amount of training data required.': 969.9824283068954,\n",
      " 'Describe the unique approach in machine learning that involves learning from a limited number of examples.': 940.2704738806459,\n",
      " 'Describe the unique approach of a learning method that involves acquiring knowledge from only a limited amount of data.': 1029.8642730003692,\n",
      " 'Please provide detailed explanations, definitions, and examples to help clarify the concept of few-shot learning.': 999.8461918235291}\n"
     ]
    }
   ],
   "source": [
    "from pprint import pprint\n",
    "pprint(elo_ranks)"
   ]
  },
  {
   "cell_type": "code",
   "execution_count": 325,
   "metadata": {},
   "outputs": [
    {
     "name": "stdout",
     "output_type": "stream",
     "text": [
      "Prompt: Describe the principles and applications of few-shot learning.\n",
      "Rank: 1060.0366329885605\n",
      "Percentage Score: 100.0%\n",
      "\n",
      "Prompt: Describe the unique approach of a learning method that involves acquiring knowledge from only a limited amount of data.\n",
      "Rank: 1029.8642730003692\n",
      "Percentage Score: 97.15364931274813%\n",
      "\n",
      "Prompt: Please provide detailed explanations, definitions, and examples to help clarify the concept of few-shot learning.\n",
      "Rank: 999.8461918235291\n",
      "Percentage Score: 94.32185272735938%\n",
      "\n",
      "Prompt: Describe the principles and techniques involved in a unique approach to machine learning that aims to minimize the amount of training data required.\n",
      "Rank: 969.9824283068954\n",
      "Percentage Score: 91.50461390869337%\n",
      "\n",
      "Prompt: Describe the unique approach in machine learning that involves learning from a limited number of examples.\n",
      "Rank: 940.2704738806459\n",
      "Percentage Score: 88.70169620739823%\n",
      "\n"
     ]
    }
   ],
   "source": [
    "# Get the highest rank\n",
    "highest_rank = max(elo_ranks.values())\n",
    "\n",
    "# Create a list of tuples, where each tuple is (prompt, rank, percentage score)\n",
    "ranked_prompts = [(prompt, rank, rank / highest_rank * 100) for prompt, rank in elo_ranks.items()]\n",
    "\n",
    "# Sort the list of tuples in descending order of rank\n",
    "ranked_prompts.sort(key=lambda x: x[1], reverse=True)\n",
    "\n",
    "# Display the ranked prompts along with the percentage score\n",
    "for prompt, rank, percentage in ranked_prompts:\n",
    "  print(f\"Prompt: {prompt}\\nRank: {rank}\\nPercentage Score: {percentage}%\\n\")"
   ]
  },
  {
   "cell_type": "markdown",
   "metadata": {},
   "source": []
  },
  {
   "cell_type": "code",
   "execution_count": null,
   "metadata": {},
   "outputs": [],
   "source": []
  }
 ],
 "metadata": {
  "kernelspec": {
   "display_name": ".venv",
   "language": "python",
   "name": "python3"
  },
  "language_info": {
   "codemirror_mode": {
    "name": "ipython",
    "version": 3
   },
   "file_extension": ".py",
   "mimetype": "text/x-python",
   "name": "python",
   "nbconvert_exporter": "python",
   "pygments_lexer": "ipython3",
   "version": "3.9.19"
  }
 },
 "nbformat": 4,
 "nbformat_minor": 2
}
