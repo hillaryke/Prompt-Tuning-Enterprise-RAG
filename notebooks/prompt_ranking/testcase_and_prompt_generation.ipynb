{
 "cells": [
  {
   "cell_type": "code",
   "execution_count": 6,
   "metadata": {},
   "outputs": [
    {
     "ename": "ValueError",
     "evalue": "File path path/to/your/document.pdf is not a valid file or url",
     "output_type": "error",
     "traceback": [
      "\u001b[0;31m---------------------------------------------------------------------------\u001b[0m",
      "\u001b[0;31mValueError\u001b[0m                                Traceback (most recent call last)",
      "Cell \u001b[0;32mIn[6], line 86\u001b[0m\n\u001b[1;32m     83\u001b[0m     \u001b[38;5;28;01mreturn\u001b[39;00m _create_rag_chain\n\u001b[1;32m     85\u001b[0m \u001b[38;5;66;03m# Load documents and create vectorstore\u001b[39;00m\n\u001b[0;32m---> 86\u001b[0m docs \u001b[38;5;241m=\u001b[39m \u001b[43mload_docs\u001b[49m\u001b[43m(\u001b[49m\u001b[38;5;124;43m\"\u001b[39;49m\u001b[38;5;124;43mpath/to/your/document.pdf\u001b[39;49m\u001b[38;5;124;43m\"\u001b[39;49m\u001b[43m)\u001b[49m\n\u001b[1;32m     87\u001b[0m db \u001b[38;5;241m=\u001b[39m FAISS\u001b[38;5;241m.\u001b[39mfrom_documents(docs, OpenAIEmbeddings())\n\u001b[1;32m     89\u001b[0m prompts \u001b[38;5;241m=\u001b[39m [\u001b[38;5;124m\"\u001b[39m\u001b[38;5;124mPrompt 1\u001b[39m\u001b[38;5;124m\"\u001b[39m, \u001b[38;5;124m\"\u001b[39m\u001b[38;5;124mPrompt 2\u001b[39m\u001b[38;5;124m\"\u001b[39m, \u001b[38;5;124m\"\u001b[39m\u001b[38;5;124mPrompt 3\u001b[39m\u001b[38;5;124m\"\u001b[39m]  \u001b[38;5;66;03m# Replace with your actual prompts\u001b[39;00m\n",
      "Cell \u001b[0;32mIn[6], line 55\u001b[0m, in \u001b[0;36mload_docs\u001b[0;34m(file_path)\u001b[0m\n\u001b[1;32m     53\u001b[0m \u001b[38;5;28;01mdef\u001b[39;00m \u001b[38;5;21mload_docs\u001b[39m(file_path):\n\u001b[1;32m     54\u001b[0m \u001b[38;5;250m    \u001b[39m\u001b[38;5;124;03m\"\"\"Load documents from a PDF file.\"\"\"\u001b[39;00m\n\u001b[0;32m---> 55\u001b[0m     loader \u001b[38;5;241m=\u001b[39m \u001b[43mPyPDFLoader\u001b[49m\u001b[43m(\u001b[49m\u001b[43mfile_path\u001b[49m\u001b[43m)\u001b[49m\n\u001b[1;32m     56\u001b[0m     documents \u001b[38;5;241m=\u001b[39m loader\u001b[38;5;241m.\u001b[39mload()\n\u001b[1;32m     57\u001b[0m     text_splitter \u001b[38;5;241m=\u001b[39m RecursiveCharacterTextSplitter(chunk_size\u001b[38;5;241m=\u001b[39m\u001b[38;5;241m1000\u001b[39m, chunk_overlap\u001b[38;5;241m=\u001b[39m\u001b[38;5;241m0\u001b[39m)\n",
      "File \u001b[0;32m~/code/10Academy-training/week7/Prompt-Tuning-Enterprise-RAG/.venv/lib/python3.9/site-packages/langchain_community/document_loaders/pdf.py:182\u001b[0m, in \u001b[0;36mPyPDFLoader.__init__\u001b[0;34m(self, file_path, password, headers, extract_images)\u001b[0m\n\u001b[1;32m    178\u001b[0m \u001b[38;5;28;01mexcept\u001b[39;00m \u001b[38;5;167;01mImportError\u001b[39;00m:\n\u001b[1;32m    179\u001b[0m     \u001b[38;5;28;01mraise\u001b[39;00m \u001b[38;5;167;01mImportError\u001b[39;00m(\n\u001b[1;32m    180\u001b[0m         \u001b[38;5;124m\"\u001b[39m\u001b[38;5;124mpypdf package not found, please install it with \u001b[39m\u001b[38;5;124m\"\u001b[39m \u001b[38;5;124m\"\u001b[39m\u001b[38;5;124m`pip install pypdf`\u001b[39m\u001b[38;5;124m\"\u001b[39m\n\u001b[1;32m    181\u001b[0m     )\n\u001b[0;32m--> 182\u001b[0m \u001b[38;5;28;43msuper\u001b[39;49m\u001b[43m(\u001b[49m\u001b[43m)\u001b[49m\u001b[38;5;241;43m.\u001b[39;49m\u001b[38;5;21;43m__init__\u001b[39;49m\u001b[43m(\u001b[49m\u001b[43mfile_path\u001b[49m\u001b[43m,\u001b[49m\u001b[43m \u001b[49m\u001b[43mheaders\u001b[49m\u001b[38;5;241;43m=\u001b[39;49m\u001b[43mheaders\u001b[49m\u001b[43m)\u001b[49m\n\u001b[1;32m    183\u001b[0m \u001b[38;5;28mself\u001b[39m\u001b[38;5;241m.\u001b[39mparser \u001b[38;5;241m=\u001b[39m PyPDFParser(password\u001b[38;5;241m=\u001b[39mpassword, extract_images\u001b[38;5;241m=\u001b[39mextract_images)\n",
      "File \u001b[0;32m~/code/10Academy-training/week7/Prompt-Tuning-Enterprise-RAG/.venv/lib/python3.9/site-packages/langchain_community/document_loaders/pdf.py:116\u001b[0m, in \u001b[0;36mBasePDFLoader.__init__\u001b[0;34m(self, file_path, headers)\u001b[0m\n\u001b[1;32m    114\u001b[0m         \u001b[38;5;28mself\u001b[39m\u001b[38;5;241m.\u001b[39mfile_path \u001b[38;5;241m=\u001b[39m \u001b[38;5;28mstr\u001b[39m(temp_pdf)\n\u001b[1;32m    115\u001b[0m \u001b[38;5;28;01melif\u001b[39;00m \u001b[38;5;129;01mnot\u001b[39;00m os\u001b[38;5;241m.\u001b[39mpath\u001b[38;5;241m.\u001b[39misfile(\u001b[38;5;28mself\u001b[39m\u001b[38;5;241m.\u001b[39mfile_path):\n\u001b[0;32m--> 116\u001b[0m     \u001b[38;5;28;01mraise\u001b[39;00m \u001b[38;5;167;01mValueError\u001b[39;00m(\u001b[38;5;124m\"\u001b[39m\u001b[38;5;124mFile path \u001b[39m\u001b[38;5;132;01m%s\u001b[39;00m\u001b[38;5;124m is not a valid file or url\u001b[39m\u001b[38;5;124m\"\u001b[39m \u001b[38;5;241m%\u001b[39m \u001b[38;5;28mself\u001b[39m\u001b[38;5;241m.\u001b[39mfile_path)\n",
      "\u001b[0;31mValueError\u001b[0m: File path path/to/your/document.pdf is not a valid file or url"
     ]
    }
   ],
   "source": [
    "from langchain.prompts import ChatPromptTemplate\n",
    "from langchain.chains import LLMChain\n",
    "from langchain.chat_models import ChatOpenAI\n",
    "from langchain.callbacks import get_openai_callback\n",
    "from langchain.schema import Document\n",
    "from langchain.vectorstores import FAISS\n",
    "\n",
    "# Install required libraries:\n",
    "# !pip install pypdf2 unstructured chromadb sentence-transformers langchain langchain_openai tiktoken pypdf faiss-cpu openai\n",
    "\n",
    "from langchain.document_loaders import PyPDFLoader\n",
    "from langchain.text_splitter import RecursiveCharacterTextSplitter\n",
    "from langchain.embeddings.openai import OpenAIEmbeddings\n",
    "\n",
    "def generate_test_cases(description, model_name=\"gpt-3.5-turbo\", temperature=1.5, amount=10):\n",
    "    \"\"\"Generates test cases for a given task description using an LLMChain.\"\"\"\n",
    "\n",
    "    prompt_template = ChatPromptTemplate.from_template(\"\"\"\n",
    "    You are a helpful assistant who generates test cases for LLM applications.\n",
    "\n",
    "    Please create {amount} test case scenarios for the following task description, each with a clear expected output:\n",
    "\n",
    "    Task: {description}\n",
    "\n",
    "    Format each test case like this:\n",
    "    Scenario: [Scenario description]\n",
    "    Expected output: [Expected output of the model]\n",
    "    \"\"\")\n",
    "\n",
    "    chain = LLMChain(llm=ChatOpenAI(model_name=model_name, temperature=temperature), prompt=prompt_template)\n",
    "\n",
    "    response = chain.run({\"description\": description, \"amount\": amount})\n",
    "\n",
    "    test_cases = []\n",
    "    for case_str in response.split(\"Scenario:\"):\n",
    "        if not case_str.strip():  # Skip empty lines\n",
    "            continue\n",
    "        scenario, expected_output = case_str.split(\"Expected output:\", 1)\n",
    "        test_cases.append(\n",
    "            {\"prompt\": scenario.strip(), \"expected_output\": expected_output.strip()}\n",
    "        )\n",
    "\n",
    "    return test_cases\n",
    "\n",
    "\n",
    "def evaluate_answer(answer, test_case):\n",
    "    \"\"\"Evaluates an answer against the expected output of a test case.\"\"\"\n",
    "    # Placeholder for evaluation logic (you'll need to implement this)\n",
    "    # Example: You could use a similarity metric like ROUGE or BLEU to compare the texts\n",
    "    return {\"score\": len(answer)}  # Just a dummy score for demonstration\n",
    "\n",
    "\n",
    "def load_docs(file_path):\n",
    "    \"\"\"Load documents from a PDF file.\"\"\"\n",
    "    loader = PyPDFLoader(file_path)\n",
    "    documents = loader.load()\n",
    "    text_splitter = RecursiveCharacterTextSplitter(chunk_size=1000, chunk_overlap=0)\n",
    "    docs = text_splitter.split_documents(documents)\n",
    "    return docs\n",
    "\n",
    "def create_rag_chain(prompt_template, db):\n",
    "    retriever = db.as_retriever(search_type = \"similarity\")\n",
    "\n",
    "    rag_chain = RetrievalQA.from_chain_type(\n",
    "        llm=ChatOpenAI(model_name=\"gpt-3.5-turbo\", temperature=0),\n",
    "        chain_type=\"stuff\",\n",
    "        retriever=retriever,\n",
    "        return_source_documents=True,\n",
    "        chain_type_kwargs={\"prompt\": prompt_template}\n",
    "    )\n",
    "    return rag_chain\n",
    "\n",
    "\n",
    "# Example usage\n",
    "description = \"Explain the concept of few-shot learning.\"\n",
    "test_cases = generate_test_cases(description)\n",
    "\n",
    "# Function to create a RAG chain with a given prompt\n",
    "def create_rag_chain_factory(prompt_template, db):\n",
    "    \"\"\"Creates a RAG chain factory function with the specified prompt and vectorstore.\"\"\"\n",
    "    def _create_rag_chain(prompt):\n",
    "        return create_rag_chain(prompt_template, db)\n",
    "    return _create_rag_chain\n",
    "\n"
   ]
  },
  {
   "cell_type": "code",
   "execution_count": 14,
   "metadata": {},
   "outputs": [
    {
     "name": "stdout",
     "output_type": "stream",
     "text": [
      "Candidate Prompt #1: Prompt: Describe how few-shot learning enables machines to quickly adapt to new tasks with minimal training examples, showcasing its efficiency in learning diverse concepts with limited data.\n",
      "Candidate Prompt #2: Retrieve documents that provide an in-depth explanation of the concept of few-shot learning, focusing on how machines can quickly adapt to new tasks with minimal training examples. Be sure to include examples that showcase the practical applications and benefits of this approach.\n",
      "Candidate Prompt #3: Prompt: Describe how few-shot learning allows machines to quickly adapt to new tasks with minimal training examples.\n",
      "Candidate Prompt #4: Prompt: Describe how few-shot learning enables machines to quickly adapt to new tasks with minimal training examples.\n",
      "Candidate Prompt #5: Prompt: Retrieve documents that provide a comprehensive explanation of few-shot learning, including its core principles and applications in various domains.\n",
      "Candidate Prompt #6: Prompt: Provide an overview of a machine learning technique that allows models to quickly learn new tasks with minimal training examples.\n",
      "Candidate Prompt #7: Prompt: Describe how few-shot learning enables machines to quickly adapt and learn new tasks with minimal training examples, showcasing its efficiency in leveraging prior knowledge for rapid task comprehension.\n",
      "Candidate Prompt #8: Prompt: Retrieve documents that provide an in-depth explanation of few-shot learning and how it enables machines to quickly adapt to new tasks with minimal training data.\n",
      "Candidate Prompt #9: Explore the concept of few-shot learning with a focus on its applications and advantages.\n",
      "Candidate Prompt #10: Prompt: Describe how few-shot learning allows machines to quickly adapt to new tasks with minimal training examples, highlighting its benefits and applications in various domains.\n"
     ]
    }
   ],
   "source": [
    "from langchain.chat_models import ChatOpenAI\n",
    "\n",
    "def generate_prompt_candidates(test_cases, description, amount=10):\n",
    "    \"\"\"Generates prompt candidates using a chat-based language model.\"\"\"\n",
    "    prompt_generation_model = \"gpt-3.5-turbo\"  # Or another suitable model\n",
    "    system_messages = [\n",
    "        \"Generate a diverse and creative prompt that can retrieve relevant documents.\",\n",
    "        \"Create an engaging and precise prompt for document retrieval.\",\n",
    "        \"Craft a prompt that effectively guides the retrieval of relevant documents.\",\n",
    "    ]  # Add more system messages for variation\n",
    "\n",
    "    candidates = []\n",
    "\n",
    "    for i in range(amount):\n",
    "        system_message = system_messages[i % len(system_messages)]\n",
    "\n",
    "        # Format test cases for the prompt\n",
    "        formatted_test_cases = \"\\n\".join(\n",
    "            [\n",
    "                f\"Test case #{j+1}:\\nScenario: {test_case['prompt']}\\nExpected output: {test_case['expected_output']}\"\n",
    "                for j, test_case in enumerate(test_cases)\n",
    "            ]\n",
    "        )\n",
    "\n",
    "        prompt = f\"\"\"\n",
    "        You are an AI assistant skilled at creating prompts for retrieving relevant documents. \n",
    "\n",
    "        Consider these test cases:\n",
    "\n",
    "        {formatted_test_cases}\n",
    "\n",
    "        Here's the goal for the final prompt:\n",
    "        {description}\n",
    "\n",
    "        Please create a prompt that would effectively guide the retrieval of relevant documents for similar scenarios.\n",
    "\n",
    "        Constraints:\n",
    "        * Do NOT include any specific details from the test cases in your prompt.\n",
    "        * The prompt should be clear, concise, and easy to understand.\n",
    "        * IF YOU USE EXAMPLES, ALWAYS USE ONES THAT ARE VERY DIFFERENT FROM THE TEST CASES.\n",
    "        \"\"\"\n",
    "\n",
    "        model = ChatOpenAI(model=prompt_generation_model, temperature=1 if i > 0 else 0)\n",
    "\n",
    "        try:\n",
    "            response = model.invoke(system_message + prompt)\n",
    "            candidate = response.content.strip() \n",
    "\n",
    "            if candidate and candidate not in candidates:  # Avoid duplicates\n",
    "                candidates.append(candidate)\n",
    "\n",
    "        except Exception as e:\n",
    "            print(f\"Error generating prompt candidate: {e}\")\n",
    "            # You might want to handle this error more gracefully in a production setting\n",
    "\n",
    "    return candidates\n",
    "\n",
    "# Example Usage:\n",
    "description = \"Explain the concept of few-shot learning.\"\n",
    "test_cases = generate_test_cases(description) # Replace this with your actual test cases\n",
    "candidates = generate_prompt_candidates(test_cases, description)\n",
    "\n",
    "for i, candidate in enumerate(candidates):\n",
    "    print(f\"Candidate Prompt #{i+1}: {candidate}\")\n",
    "\n"
   ]
  },
  {
   "cell_type": "code",
   "execution_count": 22,
   "metadata": {},
   "outputs": [
    {
     "data": {
      "text/plain": [
       "['Prompt: Describe how few-shot learning enables machines to quickly adapt to new tasks with minimal training examples, showcasing its efficiency in learning diverse concepts with limited data.',\n",
       " 'Retrieve documents that provide an in-depth explanation of the concept of few-shot learning, focusing on how machines can quickly adapt to new tasks with minimal training examples. Be sure to include examples that showcase the practical applications and benefits of this approach.',\n",
       " 'Prompt: Describe how few-shot learning allows machines to quickly adapt to new tasks with minimal training examples.',\n",
       " 'Prompt: Describe how few-shot learning enables machines to quickly adapt to new tasks with minimal training examples.',\n",
       " 'Prompt: Retrieve documents that provide a comprehensive explanation of few-shot learning, including its core principles and applications in various domains.',\n",
       " 'Prompt: Provide an overview of a machine learning technique that allows models to quickly learn new tasks with minimal training examples.',\n",
       " 'Prompt: Describe how few-shot learning enables machines to quickly adapt and learn new tasks with minimal training examples, showcasing its efficiency in leveraging prior knowledge for rapid task comprehension.',\n",
       " 'Prompt: Retrieve documents that provide an in-depth explanation of few-shot learning and how it enables machines to quickly adapt to new tasks with minimal training data.',\n",
       " 'Explore the concept of few-shot learning with a focus on its applications and advantages.',\n",
       " 'Prompt: Describe how few-shot learning allows machines to quickly adapt to new tasks with minimal training examples, highlighting its benefits and applications in various domains.']"
      ]
     },
     "execution_count": 22,
     "metadata": {},
     "output_type": "execute_result"
    }
   ],
   "source": [
    "candidates"
   ]
  },
  {
   "cell_type": "markdown",
   "metadata": {},
   "source": [
    "### Evaluate a single prompt candidate:"
   ]
  },
  {
   "cell_type": "code",
   "execution_count": 21,
   "metadata": {},
   "outputs": [],
   "source": [
    "from langchain.chat_models import ChatOpenAI\n",
    "from langchain.schema import Document\n",
    "from langchain_core.output_parsers import StrOutputParser\n",
    "from langchain_core.runnables import RunnablePassthrough\n",
    "from ragas import evaluate\n",
    "from ragas.metrics import context_precision, faithfulness, answer_relevancy, context_recall\n"
   ]
  },
  {
   "cell_type": "markdown",
   "metadata": {},
   "source": [
    "### Evaluate the prompts"
   ]
  },
  {
   "cell_type": "code",
   "execution_count": 23,
   "metadata": {},
   "outputs": [],
   "source": [
    "def evaluate_prompts(test_cases, candidates, rag_chain_factory):\n",
    "    # ... (Your other functions like retrieve_context and create_rag_chain_factory remain the same) ...\n",
    "    results = []\n",
    "    for test_case in test_cases:\n",
    "        question = test_case[\"prompt\"]\n",
    "        expected_output = test_case[\"expected_output\"]\n",
    "\n",
    "        context = retrieve_context(question)\n",
    "        retrieved_docs = [Document(page_content=doc) for doc in context]\n",
    "\n",
    "        for candidate in candidates:\n",
    "            # Extract the prompt text by removing the \"Prompt: \" prefix\n",
    "            prompt = candidate[len(\"Prompt: \"):].strip() \n",
    "\n",
    "            rag_chain = rag_chain_factory(prompt)\n",
    "\n",
    "            chain = (\n",
    "                {\"context\": retrieved_docs, \"question\": RunnablePassthrough()}\n",
    "                | rag_chain.prompt\n",
    "                | rag_chain.llm\n",
    "                | StrOutputParser()\n",
    "            )\n",
    "\n",
    "            try:\n",
    "                answer = chain.invoke(test_case[\"prompt\"])\n",
    "                # Update candidate's rating based on answer quality (runBattle logic)\n",
    "                # ...\n",
    "\n",
    "                data = {\n",
    "                    \"question\": [question],\n",
    "                    \"answer\": [answer],\n",
    "                    \"contexts\": [\n",
    "                        retrieved_docs,\n",
    "                    ],\n",
    "                }\n",
    "\n",
    "                scores = evaluate(\n",
    "                    data,\n",
    "                    metrics=[\n",
    "                        context_precision,\n",
    "                        faithfulness,\n",
    "                        answer_relevancy,\n",
    "                        context_recall,\n",
    "                    ],\n",
    "                )\n",
    "\n",
    "                results.append(\n",
    "                    {\n",
    "                        \"test_case\": test_case,\n",
    "                        \"candidate\": candidate,\n",
    "                        \"answer\": answer,\n",
    "                        \"scores\": scores,\n",
    "                    }\n",
    "                )\n",
    "            except Exception as e:\n",
    "                print(f\"Error evaluating prompt '{candidate}': {e}\")\n",
    "\n",
    "    return results\n"
   ]
  },
  {
   "cell_type": "code",
   "execution_count": null,
   "metadata": {},
   "outputs": [],
   "source": [
    "test_cases = [\n",
    "    {\"prompt\": \"What is few shot learning?\", \"expected_output\": \"Few-shot learning is a machine learning approach where a model can learn to perform a new task with only a few examples, while traditional machine learning typically requires large amounts of labeled data.\"},\n",
    "    {\"prompt\": \"Give an example of how few-shot learning could be applied in a real-world application.\", \"expected_output\": \"Few-shot learning could be used to develop a medical diagnosis system that can quickly learn to identify new diseases with limited data.\"}\n",
    "]\n"
   ]
  },
  {
   "cell_type": "code",
   "execution_count": 26,
   "metadata": {},
   "outputs": [],
   "source": [
    "loader = PyPDFLoader(\"/home/hilla/code/10Academy-training/week7/Prompt-Tuning-Enterprise-RAG/notebooks/prompt_ranking/Download Llama Terms and policy.pdf\") # Adjust to your document loader\n",
    "documents = loader.load()\n",
    "text_splitter = RecursiveCharacterTextSplitter(chunk_size=1000, chunk_overlap=0)\n",
    "docs = text_splitter.split_documents(documents)\n",
    "\n",
    "db = FAISS.from_documents(docs, OpenAIEmbeddings())\n",
    "\n",
    "def retrieve_context(query):\n",
    "    \"\"\"Retrieves relevant context for a given query from your knowledge base or documents.\"\"\"\n",
    "    # Replace with your actual retrieval logic using your RAG chain.\n",
    "    similar_docs = db.similarity_search(query)\n",
    "\n",
    "    return [doc.page_content for doc in similar_docs]\n"
   ]
  },
  {
   "cell_type": "code",
   "execution_count": 29,
   "metadata": {},
   "outputs": [
    {
     "ename": "AttributeError",
     "evalue": "'RetrievalQA' object has no attribute 'prompt'",
     "output_type": "error",
     "traceback": [
      "\u001b[0;31m---------------------------------------------------------------------------\u001b[0m",
      "\u001b[0;31mAttributeError\u001b[0m                            Traceback (most recent call last)",
      "Cell \u001b[0;32mIn[29], line 37\u001b[0m\n\u001b[1;32m     32\u001b[0m rag_chain \u001b[38;5;241m=\u001b[39m rag_chain_factory(prompt)\n\u001b[1;32m     33\u001b[0m \u001b[38;5;66;03m# ... (evaluation steps below) ...\u001b[39;00m\n\u001b[1;32m     35\u001b[0m chain \u001b[38;5;241m=\u001b[39m (\n\u001b[1;32m     36\u001b[0m     {\u001b[38;5;124m\"\u001b[39m\u001b[38;5;124mcontext\u001b[39m\u001b[38;5;124m\"\u001b[39m: retrieved_docs, \u001b[38;5;124m\"\u001b[39m\u001b[38;5;124mquestion\u001b[39m\u001b[38;5;124m\"\u001b[39m: RunnablePassthrough()}\n\u001b[0;32m---> 37\u001b[0m     \u001b[38;5;241m|\u001b[39m \u001b[43mrag_chain\u001b[49m\u001b[38;5;241;43m.\u001b[39;49m\u001b[43mprompt\u001b[49m\n\u001b[1;32m     38\u001b[0m     \u001b[38;5;241m|\u001b[39m rag_chain\u001b[38;5;241m.\u001b[39mllm\n\u001b[1;32m     39\u001b[0m     \u001b[38;5;241m|\u001b[39m StrOutputParser()\n\u001b[1;32m     40\u001b[0m )\n\u001b[1;32m     42\u001b[0m \u001b[38;5;66;03m# Generate answer from RAG chain\u001b[39;00m\n\u001b[1;32m     43\u001b[0m answer \u001b[38;5;241m=\u001b[39m chain\u001b[38;5;241m.\u001b[39minvoke(test_case[\u001b[38;5;124m\"\u001b[39m\u001b[38;5;124mprompt\u001b[39m\u001b[38;5;124m\"\u001b[39m])\n",
      "\u001b[0;31mAttributeError\u001b[0m: 'RetrievalQA' object has no attribute 'prompt'"
     ]
    }
   ],
   "source": [
    "from langchain.prompts import ChatPromptTemplate\n",
    "from langchain.chains import RetrievalQA\n",
    "\n",
    "\n",
    "def create_rag_chain_factory(prompt_template, db):\n",
    "    def _create_rag_chain(prompt):\n",
    "        return create_rag_chain(prompt_template, db)\n",
    "\n",
    "    return _create_rag_chain\n",
    "\n",
    "prompts = [\"Prompt 1\", \"Prompt 2\", \"Prompt 3\"]  # Replace with your actual prompts\n",
    "prompt_template = ChatPromptTemplate.from_template(\n",
    "    \"Use the following context to answer the question at the end. If you don't know the answer, just say that you don't know, don't try to make up an answer.\\n\\n{context}\\n\\nQuestion: {question}\\nAnswer:\"\n",
    ")\n",
    "rag_chain_factory = create_rag_chain_factory(prompt_template, db)\n",
    "\n",
    "\n",
    "results = []\n",
    "\n",
    "for test_case in test_cases[:2]:  # Test on the first two test cases for demonstration\n",
    "    question = test_case[\"prompt\"]\n",
    "    expected_output = test_case[\"expected_output\"]\n",
    "\n",
    "    # Use the function here to get context\n",
    "    context = retrieve_context(question)\n",
    "    retrieved_docs = [Document(page_content=doc) for doc in context]\n",
    "\n",
    "    for candidate in candidates:\n",
    "        # Extract the prompt text by removing the \"Prompt: \" prefix\n",
    "        prompt = candidate[len(\"Prompt: \"):].strip()\n",
    "\n",
    "        rag_chain = rag_chain_factory(prompt)\n",
    "        # ... (evaluation steps below) ...\n",
    "\n",
    "        chain = (\n",
    "            {\"context\": retrieved_docs, \"question\": RunnablePassthrough()}\n",
    "            | rag_chain.prompt\n",
    "            | rag_chain.llm\n",
    "            | StrOutputParser()\n",
    "        )\n",
    "\n",
    "        # Generate answer from RAG chain\n",
    "        answer = chain.invoke(test_case[\"prompt\"])\n",
    "        print(answer)\n",
    "\n",
    "        data = {\n",
    "            \"question\": [question],\n",
    "            \"answer\": [answer],\n",
    "            \"contexts\": [\n",
    "                retrieved_docs,\n",
    "            ],\n",
    "        }\n",
    "\n",
    "        scores = evaluate(\n",
    "            data,\n",
    "            metrics=[\n",
    "                context_precision,\n",
    "                faithfulness,\n",
    "                answer_relevancy,\n",
    "                context_recall,\n",
    "            ],\n",
    "        )\n",
    "\n",
    "        results.append(\n",
    "            {\n",
    "                \"test_case\": test_case,\n",
    "                \"candidate\": candidate,\n",
    "                \"answer\": answer,\n",
    "                \"scores\": scores,\n",
    "            }\n",
    "        )\n"
   ]
  },
  {
   "cell_type": "code",
   "execution_count": 30,
   "metadata": {},
   "outputs": [],
   "source": [
    "def initialize_distribution(candidates, sample_amount):\n",
    "    \"\"\"Initializes the distribution for Monte Carlo simulation.\"\"\"\n",
    "    distribution = {str(candidate[\"id\"]): 0 for candidate in candidates}\n",
    "    return distribution\n",
    "\n",
    "def run_monte_carlo_simulation(candidates, distribution, sample_amount):\n",
    "    \"\"\"Performs Monte Carlo simulation to estimate prompt rankings.\"\"\"\n",
    "    for _ in range(sample_amount):\n",
    "        samples = {\n",
    "            str(candidate[\"id\"]): randomNormal(\n",
    "                mean=candidate[\"rating\"], dev=candidate[\"sd\"]\n",
    "            )\n",
    "            for candidate in candidates\n",
    "        }\n",
    "        winner = max(samples, key=samples.get)  # Get the prompt with the highest sample\n",
    "        distribution[winner] += 1\n",
    "    return distribution\n",
    "\n",
    "def randomly_select_from_distribution(distribution, excluded=\"\"):\n",
    "    \"\"\"Randomly selects a prompt from the distribution, excluding the 'excluded' prompt.\"\"\"\n",
    "    filtered_dist = {k: v for k, v in distribution.items() if k != excluded}\n",
    "    total = sum(filtered_dist.values())\n",
    "    rand = random.uniform(0, total)\n",
    "    for prompt_id, count in filtered_dist.items():\n",
    "        rand -= count\n",
    "        if rand <= 0:\n",
    "            return prompt_id\n",
    "\n",
    "def create_battle(test_cases, prompt_a, prompt_b):\n",
    "    \"\"\"Creates a new battle object for the selected prompts.\"\"\"\n",
    "    return {\n",
    "        \"a\": prompt_a,\n",
    "        \"b\": prompt_b,\n",
    "        \"rounds\": [{\"testCase\": tc, \"result\": None, \"generation\": {\"a\": '', \"b\": ''}} for tc in test_cases],\n",
    "        \"winner\": None,\n",
    "    }\n",
    "\n",
    "#... (rest of code)\n",
    "\n",
    "async def run_battle():\n",
    "    sample_amount = 1000 # Replace with value from useSettings() hook\n",
    "    learning_rate = 0.9 # Replace with value from useSettings() hook\n",
    "    distribution = initialize_distribution(candidates.value, sample_amount)\n",
    "    distribution = await run_monte_carlo_simulation(candidates.value, distribution, sample_amount)\n",
    "\n",
    "    prompt_a = randomly_select_from_distribution(distribution)\n",
    "    prompt_b = randomly_select_from_distribution(distribution, prompt_a)\n",
    "\n",
    "    new_battle = create_battle(testCases.value, prompt_a, prompt_b)\n",
    "    \n",
    "    #... (rest of run_battle code)\n"
   ]
  },
  {
   "cell_type": "code",
   "execution_count": 19,
   "metadata": {},
   "outputs": [
    {
     "ename": "NameError",
     "evalue": "name 'retrieve_context' is not defined",
     "output_type": "error",
     "traceback": [
      "\u001b[0;31m---------------------------------------------------------------------------\u001b[0m",
      "\u001b[0;31mNameError\u001b[0m                                 Traceback (most recent call last)",
      "Cell \u001b[0;32mIn[19], line 69\u001b[0m\n\u001b[1;32m     64\u001b[0m \u001b[38;5;66;03m# Example usage\u001b[39;00m\n\u001b[1;32m     65\u001b[0m \u001b[38;5;66;03m# ... (assumes test_cases, description, and a single candidate prompt are already defined) ...\u001b[39;00m\n\u001b[1;32m     67\u001b[0m candidate \u001b[38;5;241m=\u001b[39m \u001b[38;5;124m\"\u001b[39m\u001b[38;5;124mYour prompt goes here\u001b[39m\u001b[38;5;124m\"\u001b[39m  \u001b[38;5;66;03m# The prompt you want to evaluate\u001b[39;00m\n\u001b[0;32m---> 69\u001b[0m evaluation_results \u001b[38;5;241m=\u001b[39m \u001b[43mevaluate_single_prompt\u001b[49m\u001b[43m(\u001b[49m\u001b[43mcandidate\u001b[49m\u001b[43m,\u001b[49m\u001b[43m \u001b[49m\u001b[43mtest_cases\u001b[49m\u001b[43m,\u001b[49m\u001b[43m \u001b[49m\u001b[43mcreate_rag_chain_factory\u001b[49m\u001b[43m)\u001b[49m\n\u001b[1;32m     71\u001b[0m \u001b[38;5;28;01mfor\u001b[39;00m result \u001b[38;5;129;01min\u001b[39;00m evaluation_results:\n\u001b[1;32m     72\u001b[0m     \u001b[38;5;28mprint\u001b[39m(\u001b[38;5;124mf\u001b[39m\u001b[38;5;124m\"\u001b[39m\u001b[38;5;124mTest Case: \u001b[39m\u001b[38;5;132;01m{\u001b[39;00mresult[\u001b[38;5;124m'\u001b[39m\u001b[38;5;124mtest_case\u001b[39m\u001b[38;5;124m'\u001b[39m][\u001b[38;5;124m'\u001b[39m\u001b[38;5;124mprompt\u001b[39m\u001b[38;5;124m'\u001b[39m]\u001b[38;5;132;01m}\u001b[39;00m\u001b[38;5;124m\"\u001b[39m)\n",
      "Cell \u001b[0;32mIn[19], line 17\u001b[0m, in \u001b[0;36mevaluate_single_prompt\u001b[0;34m(prompt, test_cases, rag_chain_factory)\u001b[0m\n\u001b[1;32m     14\u001b[0m question \u001b[38;5;241m=\u001b[39m test_case[\u001b[38;5;124m\"\u001b[39m\u001b[38;5;124mprompt\u001b[39m\u001b[38;5;124m\"\u001b[39m]\n\u001b[1;32m     15\u001b[0m expected_output \u001b[38;5;241m=\u001b[39m test_case[\u001b[38;5;124m\"\u001b[39m\u001b[38;5;124mexpected_output\u001b[39m\u001b[38;5;124m\"\u001b[39m]\n\u001b[0;32m---> 17\u001b[0m context \u001b[38;5;241m=\u001b[39m \u001b[43mretrieve_context\u001b[49m(question)\n\u001b[1;32m     18\u001b[0m retrieved_docs \u001b[38;5;241m=\u001b[39m [Document(page_content\u001b[38;5;241m=\u001b[39mdoc) \u001b[38;5;28;01mfor\u001b[39;00m doc \u001b[38;5;129;01min\u001b[39;00m context]\n\u001b[1;32m     20\u001b[0m rag_chain \u001b[38;5;241m=\u001b[39m rag_chain_factory(prompt)\n",
      "\u001b[0;31mNameError\u001b[0m: name 'retrieve_context' is not defined"
     ]
    }
   ],
   "source": [
    "from ragas import evaluate\n",
    "from ragas.metrics import context_precision, faithfulness, answer_relevancy, context_recall\n",
    "from langchain.chat_models import ChatOpenAI\n",
    "from langchain.schema import Document\n",
    "from langchain_core.output_parsers import StrOutputParser\n",
    "from langchain_core.runnables import RunnablePassthrough\n",
    "\n",
    "def evaluate_single_prompt(prompt, test_cases, rag_chain_factory):\n",
    "    \"\"\"Evaluates the quality of answers generated by a single prompt candidate using RAGAs metrics.\"\"\"\n",
    "\n",
    "    results = []\n",
    "\n",
    "    for test_case in test_cases:\n",
    "        question = test_case[\"prompt\"]\n",
    "        expected_output = test_case[\"expected_output\"]\n",
    "\n",
    "        context = retrieve_context(question)\n",
    "        retrieved_docs = [Document(page_content=doc) for doc in context]\n",
    "\n",
    "        rag_chain = rag_chain_factory(prompt)\n",
    "\n",
    "        chain = (\n",
    "            {\"context\": retrieved_docs, \"question\": RunnablePassthrough()}\n",
    "            | rag_chain.prompt\n",
    "            | rag_chain.llm\n",
    "            | StrOutputParser()\n",
    "        )\n",
    "\n",
    "        try:\n",
    "            answer = chain.invoke(test_case[\"prompt\"])\n",
    "\n",
    "            data = {\n",
    "                \"question\": [question],\n",
    "                \"answer\": [answer],\n",
    "                \"contexts\": [\n",
    "                    retrieved_docs,\n",
    "                ],\n",
    "            }\n",
    "\n",
    "            scores = evaluate(\n",
    "                data,\n",
    "                metrics=[\n",
    "                    context_precision,\n",
    "                    faithfulness,\n",
    "                    answer_relevancy,\n",
    "                    context_recall,\n",
    "                ],\n",
    "            )\n",
    "\n",
    "            results.append(\n",
    "                {\n",
    "                    \"test_case\": test_case,\n",
    "                    \"prompt\": prompt,\n",
    "                    \"answer\": answer,\n",
    "                    \"scores\": scores,\n",
    "                }\n",
    "            )\n",
    "        except Exception as e:\n",
    "            print(f\"Error evaluating prompt '{prompt}': {e}\")\n",
    "\n",
    "    return results\n",
    "\n",
    "\n",
    "# Example usage\n",
    "# ... (assumes test_cases, description, and a single candidate prompt are already defined) ...\n",
    "\n",
    "candidate = \"Your prompt goes here\"  # The prompt you want to evaluate\n",
    "\n",
    "evaluation_results = evaluate_single_prompt(candidate, test_cases, create_rag_chain_factory)\n",
    "\n",
    "for result in evaluation_results:\n",
    "    print(f\"Test Case: {result['test_case']['prompt']}\")\n",
    "    print(f\"Prompt: {result['prompt']}\")\n",
    "    print(f\"Generated Answer: {result['answer']}\")\n",
    "    print(f\"Scores: {result['scores']}\")\n",
    "    print(\"\\n\")\n"
   ]
  },
  {
   "cell_type": "code",
   "execution_count": 24,
   "metadata": {},
   "outputs": [
    {
     "ename": "IndentationError",
     "evalue": "expected an indented block (3920130440.py, line 20)",
     "output_type": "error",
     "traceback": [
      "\u001b[0;36m  Cell \u001b[0;32mIn[24], line 20\u001b[0;36m\u001b[0m\n\u001b[0;31m    def evaluate_prompts(test_cases, candidates, rag_chain_factory):\u001b[0m\n\u001b[0m    ^\u001b[0m\n\u001b[0;31mIndentationError\u001b[0m\u001b[0;31m:\u001b[0m expected an indented block\n"
     ]
    }
   ],
   "source": [
    "from langchain.chat_models import ChatOpenAI\n",
    "from langchain.schema import Document\n",
    "from langchain_core.output_parsers import StrOutputParser\n",
    "from langchain_core.runnables import RunnablePassthrough\n",
    "from ragas import evaluate\n",
    "from ragas.metrics import context_precision, faithfulness, answer_relevancy, context_recall\n",
    "import pLimit\n",
    "import randomNormal\n",
    "import resguard\n",
    "from utils import timeout # Make sure you have this module if you use it in you original code\n",
    "from utils.types import Candidate #Make sure you have this module if you use it in you original code\n",
    "from utils.synced_state import useSyncedState #Make sure you have this module if you use it in you original code\n",
    "import random\n",
    "\n",
    "# ... (Your RAG chain creation function and `retrieve_context` function from previous responses) ...\n",
    "\n",
    "def generate_prompt_candidates(test_cases, description, amount=10):\n",
    "    # ... (same as the provided generate_prompt_candidates function) ...\n",
    "\n",
    "def evaluate_prompts(test_cases, candidates, rag_chain_factory):\n",
    "    \"\"\"Evaluates a list of prompt candidates using RAGAs metrics and the provided RAG chain factory.\"\"\"\n",
    "\n",
    "    results = []\n",
    "\n",
    "    for test_case in test_cases:\n",
    "        question = test_case[\"prompt\"]\n",
    "        expected_output = test_case[\"expected_output\"]\n",
    "\n",
    "        context = retrieve_context(question)\n",
    "        retrieved_docs = [Document(page_content=doc) for doc in context]\n",
    "\n",
    "        for candidate in candidates:\n",
    "            rag_chain = rag_chain_factory(candidate)\n",
    "\n",
    "            chain = (\n",
    "                {\"context\": retrieved_docs, \"question\": RunnablePassthrough()}\n",
    "                | rag_chain.prompt\n",
    "                | rag_chain.llm\n",
    "                | StrOutputParser()\n",
    "            )\n",
    "\n",
    "            try:\n",
    "                answer = chain.invoke(test_case[\"prompt\"])\n",
    "                \n",
    "                data = {\n",
    "                    \"question\": [question],\n",
    "                    \"answer\": [answer],\n",
    "                    \"contexts\": [\n",
    "                        retrieved_docs,\n",
    "                    ],\n",
    "                }\n",
    "\n",
    "                scores = evaluate(\n",
    "                    data,\n",
    "                    metrics=[\n",
    "                        context_precision,\n",
    "                        faithfulness,\n",
    "                        answer_relevancy,\n",
    "                        context_recall,\n",
    "                    ],\n",
    "                )\n",
    "\n",
    "                results.append(\n",
    "                    {\n",
    "                        \"test_case\": test_case,\n",
    "                        \"candidate\": candidate,\n",
    "                        \"answer\": answer,\n",
    "                        \"scores\": scores,\n",
    "                    }\n",
    "                )\n",
    "            except Exception as e:\n",
    "                print(f\"Error evaluating prompt '{candidate}': {e}\")\n",
    "\n",
    "    return results\n",
    "\n",
    "\n",
    "# Example usage\n",
    "# ... (assumes test_cases, description, and candidates are already defined) ...\n",
    "# Create RAG chain factory\n",
    "def create_rag_chain_factory(prompt_template, db):\n",
    "    def _create_rag_chain(prompt):\n",
    "        return create_rag_chain(prompt_template, db)\n",
    "\n",
    "    return _create_rag_chain\n",
    "# Load documents and create vectorstore\n",
    "docs = load_docs(\"path/to/your/document.pdf\")\n",
    "db = FAISS.from_documents(docs, OpenAIEmbeddings())\n",
    "\n",
    "prompts = [\"Prompt 1\", \"Prompt 2\", \"Prompt 3\"]  # Replace with your actual prompts\n",
    "prompt_template = ChatPromptTemplate.from_template(\n",
    "    \"Use the following context to answer the question at the end. If you don't know the answer, just say that you don't know, don't try to make up an answer.\\n\\n{context}\\n\\nQuestion: {question}\\nAnswer:\"\n",
    ")\n",
    "rag_chain_factory = create_rag_chain_factory(prompt_template, db)\n",
    "evaluation_results = evaluate_prompts(test_cases, candidates, rag_chain_factory)\n",
    "for result in evaluation_results:\n",
    "    print(f\"Test Case: {result['test_case']['prompt']}\")\n",
    "    print(f\"Candidate: {result['candidate']}\")\n",
    "    print(f\"Generated Answer: {result['answer']}\")\n",
    "    print(f\"Scores: {result['scores']}\")\n",
    "    print(\"\\n\")\n"
   ]
  },
  {
   "cell_type": "code",
   "execution_count": null,
   "metadata": {},
   "outputs": [
    {
     "ename": "NameError",
     "evalue": "name 'RagasEvaluatorChain' is not defined",
     "output_type": "error",
     "traceback": [
      "\u001b[0;31m---------------------------------------------------------------------------\u001b[0m",
      "\u001b[0;31mNameError\u001b[0m                                 Traceback (most recent call last)",
      "Cell \u001b[0;32mIn[10], line 10\u001b[0m\n\u001b[1;32m      6\u001b[0m prompt_template \u001b[38;5;241m=\u001b[39m ChatPromptTemplate\u001b[38;5;241m.\u001b[39mfrom_template(\n\u001b[1;32m      7\u001b[0m     \u001b[38;5;124m\"\u001b[39m\u001b[38;5;124mUse the following context to answer the question at the end. If you don\u001b[39m\u001b[38;5;124m'\u001b[39m\u001b[38;5;124mt know the answer, just say that you don\u001b[39m\u001b[38;5;124m'\u001b[39m\u001b[38;5;124mt know, don\u001b[39m\u001b[38;5;124m'\u001b[39m\u001b[38;5;124mt try to make up an answer.\u001b[39m\u001b[38;5;130;01m\\n\u001b[39;00m\u001b[38;5;130;01m\\n\u001b[39;00m\u001b[38;5;132;01m{context}\u001b[39;00m\u001b[38;5;130;01m\\n\u001b[39;00m\u001b[38;5;130;01m\\n\u001b[39;00m\u001b[38;5;124mQuestion: \u001b[39m\u001b[38;5;132;01m{question}\u001b[39;00m\u001b[38;5;130;01m\\n\u001b[39;00m\u001b[38;5;124mAnswer:\u001b[39m\u001b[38;5;124m\"\u001b[39m\n\u001b[1;32m      8\u001b[0m )\n\u001b[1;32m      9\u001b[0m rag_chain_factory \u001b[38;5;241m=\u001b[39m create_rag_chain_factory(prompt_template, db)\n\u001b[0;32m---> 10\u001b[0m results \u001b[38;5;241m=\u001b[39m \u001b[43mevaluate_prompts\u001b[49m\u001b[43m(\u001b[49m\u001b[43mprompts\u001b[49m\u001b[43m,\u001b[49m\u001b[43m \u001b[49m\u001b[43mtest_cases\u001b[49m\u001b[43m,\u001b[49m\u001b[43m \u001b[49m\u001b[43mrag_chain_factory\u001b[49m\u001b[43m)\u001b[49m\n\u001b[1;32m     12\u001b[0m \u001b[38;5;66;03m# Replace the placeholder evaluation with your actual logic (e.g., ROUGE, BLEU, etc.)\u001b[39;00m\n\u001b[1;32m     13\u001b[0m \u001b[38;5;66;03m# Example: Print the scores for each prompt and test case\u001b[39;00m\n\u001b[1;32m     14\u001b[0m \u001b[38;5;28;01mfor\u001b[39;00m prompt, scores \u001b[38;5;129;01min\u001b[39;00m results\u001b[38;5;241m.\u001b[39mitems():\n",
      "Cell \u001b[0;32mIn[9], line 2\u001b[0m, in \u001b[0;36mevaluate_prompts\u001b[0;34m(test_cases, candidates, rag_chain_factory)\u001b[0m\n\u001b[1;32m      1\u001b[0m \u001b[38;5;28;01mdef\u001b[39;00m \u001b[38;5;21mevaluate_prompts\u001b[39m(test_cases, candidates, rag_chain_factory):\n\u001b[0;32m----> 2\u001b[0m     evaluator \u001b[38;5;241m=\u001b[39m \u001b[43mRagasEvaluatorChain\u001b[49m(\n\u001b[1;32m      3\u001b[0m         metrics\u001b[38;5;241m=\u001b[39m[faithfulness, answer_relevancy, context_precision, context_recall]\n\u001b[1;32m      4\u001b[0m     )\n\u001b[1;32m      5\u001b[0m     results \u001b[38;5;241m=\u001b[39m []\n\u001b[1;32m      7\u001b[0m     \u001b[38;5;28;01mfor\u001b[39;00m test_case \u001b[38;5;129;01min\u001b[39;00m test_cases:\n",
      "\u001b[0;31mNameError\u001b[0m: name 'RagasEvaluatorChain' is not defined"
     ]
    }
   ],
   "source": [
    "\n",
    "# Load documents and create vectorstore\n",
    "docs = load_docs(\"./Download Llama Terms and policy.pdf\")\n",
    "db = FAISS.from_documents(docs, OpenAIEmbeddings())\n",
    "\n",
    "prompts = [\"Prompt 1\", \"Prompt 2\", \"Prompt 3\"]  # Replace with your actual prompts\n",
    "prompt_template = ChatPromptTemplate.from_template(\n",
    "    \"Use the following context to answer the question at the end. If you don't know the answer, just say that you don't know, don't try to make up an answer.\\n\\n{context}\\n\\nQuestion: {question}\\nAnswer:\"\n",
    ")\n",
    "rag_chain_factory = create_rag_chain_factory(prompt_template, db)\n",
    "results = evaluate_prompts(prompts, test_cases, rag_chain_factory)\n",
    "\n",
    "# Replace the placeholder evaluation with your actual logic (e.g., ROUGE, BLEU, etc.)\n",
    "# Example: Print the scores for each prompt and test case\n",
    "for prompt, scores in results.items():\n",
    "    print(f\"\\nPrompt: {prompt}\")\n",
    "    with get_openai_callback() as cb:\n",
    "        for i, score in enumerate(scores):\n",
    "            print(f\"  Test Case #{i + 1}: {score}\")\n",
    "            print(f\"Total Tokens: {cb.total_tokens}\")\n",
    "            print(f\"Prompt Tokens: {cb.prompt_tokens}\")\n",
    "            print(f\"Completion Tokens: {cb.completion_tokens}\")\n",
    "            print(f\"Total Cost (USD): ${cb.total_cost}\")"
   ]
  },
  {
   "cell_type": "markdown",
   "metadata": {},
   "source": [
    "# Start from scratch"
   ]
  },
  {
   "cell_type": "code",
   "execution_count": 130,
   "metadata": {},
   "outputs": [],
   "source": [
    "from langchain.chat_models import ChatOpenAI  # Assuming you're using OpenAI's models\n",
    "\n",
    "\n",
    "class TestCase:\n",
    "    def __init__(self, prompt, expected_output=None, id=None):\n",
    "        self.prompt = prompt\n",
    "        self.expected_output = expected_output\n",
    "        self.id = id"
   ]
  },
  {
   "cell_type": "markdown",
   "metadata": {},
   "source": [
    "## Generate test cases using chatgpt"
   ]
  },
  {
   "cell_type": "code",
   "execution_count": 153,
   "metadata": {},
   "outputs": [
    {
     "name": "stdout",
     "output_type": "stream",
     "text": [
      "\n",
      "Test Case #1:\n",
      "  Scenario: A student is researching on machine learning and comes across the term few-shot learning for the first time.\n",
      "  Expected Output: The system should explain that few-shot learning is a type of machine learning where a model can learn from very limited training data, usually only a few examples per class, in order to make precise predictions for new unseen data. It should also mention techniques such as meta-learning and transfer learning that are commonly used in few-shot learning approaches.\n",
      "\n",
      "Test Case #2:\n",
      "  Scenario: A software engineer working on developing an image recognition algorithm wants to understand how few-shot learning works.\n",
      "  Expected Output: The system should provide a detailed explanation that in few-shot learning, the model is trained with a very small dataset compared to traditional machine learning models. It utilizes transfer learning, meta-learning, or other techniques to learn from few examples in order to quickly adapt to new information and classification tasks.\n",
      "\n",
      "Test Case #3:\n",
      "  Scenario: A business executive is interested in exploring how few-shot learning can improve their company's customer service chatbot capabilities.\n",
      "  Expected Output: The system should explain how few-shot learning can enhance the chatbot's ability to quickly learn new information or conversation styles with just a few examples, making it easier to tailor the responses to specific customer queries or trends. It should outline potential benefits such as improved customer satisfaction and reduced response time.\n"
     ]
    }
   ],
   "source": [
    "from langchain.chat_models import ChatOpenAI\n",
    "from langchain.schema import HumanMessage\n",
    "\n",
    "class TestCase:\n",
    "    def __init__(self, scenario, expected_output=None, id=None):\n",
    "        self.scenario = scenario\n",
    "        self.expected_output = expected_output\n",
    "        self.id = id\n",
    "        \n",
    "def generate_test_cases(task_description, amount=3):\n",
    "    \"\"\"Generates test cases using a language model based on the task description.\"\"\"\n",
    "\n",
    "    prompt_template = \"\"\"\n",
    "    You are a helpful AI assistant. Please generate {amount} diverse test cases for the following task:\n",
    "\n",
    "    Task: {description}\n",
    "\n",
    "    Each test case should include:\n",
    "    * Scenario: A clear description of the situation or input to be tested.\n",
    "    * Expected output: The ideal or expected output from the system.\n",
    "\n",
    "    Format each test case like this:\n",
    "    Scenario: [Scenario description]\n",
    "    Expected output: [Expected output]\n",
    "    \"\"\"\n",
    "\n",
    "    model = ChatOpenAI(model_name=\"gpt-3.5-turbo\", temperature=1.5)\n",
    "\n",
    "    messages = [\n",
    "        HumanMessage(\n",
    "            content=prompt_template.format(amount=amount, description=task_description)\n",
    "        )\n",
    "    ]\n",
    "\n",
    "    response = model(messages)\n",
    "    generated_text = response.content\n",
    "\n",
    "    test_cases = []\n",
    "    for case_str in generated_text.split(\"Scenario:\"):\n",
    "        case_str = case_str.strip() # Ensure that there are no spaces \n",
    "        if not case_str:\n",
    "            continue\n",
    "        try:\n",
    "            scenario, expected_output = case_str.split(\"Expected output:\", 1)\n",
    "            test_cases.append(\n",
    "                TestCase(scenario.strip(), expected_output.strip())\n",
    "            )\n",
    "        except ValueError:\n",
    "            print(f\"Skipping malformed test case: {case_str}\")  # Handle cases where \"Expected output:\" is missing\n",
    "\n",
    "    return test_cases\n",
    "\n",
    "\n",
    "# Example usage\n",
    "task_description = \"Explain the concept of few-shot learning.\"\n",
    "generated_test_cases = generate_test_cases(task_description)\n",
    "for i, test_case in enumerate(generated_test_cases):\n",
    "    print(f\"\\nTest Case #{i + 1}:\")\n",
    "    print(f\"  Scenario: {test_case.scenario}\")\n",
    "    print(f\"  Expected Output: {test_case.expected_output}\")\n"
   ]
  },
  {
   "cell_type": "markdown",
   "metadata": {},
   "source": [
    "## Generation of prompt candidates"
   ]
  },
  {
   "cell_type": "code",
   "execution_count": 10,
   "metadata": {},
   "outputs": [],
   "source": [
    "from langchain.chat_models import ChatOpenAI\n"
   ]
  },
  {
   "cell_type": "code",
   "execution_count": 11,
   "metadata": {},
   "outputs": [],
   "source": [
    "test_cases = generated_test_cases"
   ]
  },
  {
   "cell_type": "code",
   "execution_count": 12,
   "metadata": {},
   "outputs": [],
   "source": [
    "prompt_generation_model = \"gpt-3.5-turbo\"  # Or another suitable model\n",
    "temperature = 1.0  # Adjust for creativity (higher values = more creative)\n",
    "num_prompt_candidates = 3  # Number of prompts to generate\n",
    "\n",
    "# This emulates the system messages from the JavaScript code\n",
    "system_messages = [\n",
    "    \"You are an AI assistant skilled at creating prompts for retrieving relevant documents.\",\n",
    "    \"Generate a concise and effective prompt to guide document retrieval.\",\n",
    "    \"Craft a prompt that focuses on extracting specific information from documents.\"\n",
    "]"
   ]
  },
  {
   "cell_type": "code",
   "execution_count": 13,
   "metadata": {},
   "outputs": [],
   "source": [
    "prompt_template = \"\"\"\n",
    "You are an AI assistant skilled at creating prompts for retrieving relevant documents. \n",
    "\n",
    "Consider these test cases:\n",
    "\n",
    "{test_cases}\n",
    "\n",
    "Here's the goal for the final prompt:\n",
    "{description}\n",
    "\n",
    "Please create a prompt that would effectively guide the retrieval of relevant documents for similar scenarios.\n",
    "\n",
    "Constraints:\n",
    "* Do NOT include any specific details from the test cases in your prompt.\n",
    "* The prompt should be clear, concise, and easy to understand.\n",
    "* IF YOU USE EXAMPLES, ALWAYS USE ONES THAT ARE VERY DIFFERENT FROM THE TEST CASES.\n",
    "\"\"\"\n"
   ]
  },
  {
   "cell_type": "markdown",
   "metadata": {},
   "source": [
    "## Generate prompt candidates"
   ]
  },
  {
   "cell_type": "code",
   "execution_count": 102,
   "metadata": {},
   "outputs": [],
   "source": [
    "from typing import List\n",
    "from pydantic import BaseModel\n",
    "from langchain.chat_models import ChatOpenAI  # Import the correct class for chat models\n",
    "from langchain.schema import HumanMessage, SystemMessage, AIMessage\n",
    "\n",
    "import nest_asyncio\n",
    "nest_asyncio.apply()\n",
    "\n",
    "\n",
    "# TestCase class (unchanged)\n",
    "# class TestCase(BaseModel):\n",
    "#     prompt: str\n",
    "#     expected_output: str\n",
    "\n",
    "# System messages and model name\n",
    "system_messages = [\n",
    "    \"You are an AI assistant skilled at creating prompts for getting information from relevant documents.\",\n",
    "    \"Generate a concise and effective prompt to guide information retrieval from documents.\",\n",
    "    \"Craft a prompt that focuses on extracting specific information from documents.\"\n",
    "]\n",
    "prompt_generation_model_name = \"gpt-3.5-turbo\"  # Use the correct model name\n",
    "\n",
    "\n",
    "def generate_prompt_candidates(testcases: List[TestCase], description: str) -> List[str]:\n",
    "    \"\"\"Generates prompt candidates using a chat language model.\"\"\"\n",
    "\n",
    "    candidates = []\n",
    "\n",
    "    for i in range(5):\n",
    "        system_message = system_messages[i % len(system_messages)]\n",
    "\n",
    "        formatted_test_cases_str = \"\\n\".join(\n",
    "            [\n",
    "                f\"Test case #{j+1}:\\nScenario: {testcase.prompt}\\nExpected output: {testcase.expected_output}\"\n",
    "                for j, testcase in enumerate(testcases)\n",
    "            ]\n",
    "        )\n",
    "\n",
    "        prompt_content = f\"\"\"\n",
    "        You are an AI assistant skilled at creating prompts for retrieving relevant documents. \n",
    "        \n",
    "        Here are some test case scenarios and their expected outputs:\n",
    "        {formatted_test_cases_str}\n",
    "\n",
    "        Here is what the user wants the final prompt to accomplish:\n",
    "        {description}\n",
    "        \n",
    "        Respond with your prompt, and nothing else. Be creative.\n",
    "        NEVER CHEAT BY INCLUDING SPECIFICS ABOUT THE TEST CASES IN YOUR PROMPT. \n",
    "        ANY PROMPTS WITH THOSE SPECIFIC EXAMPLES WILL BE DISQUALIFIED.\n",
    "        IF YOU USE EXAMPLES, ALWAYS USE ONES THAT ARE VERY DIFFERENT FROM THE TEST CASES.\n",
    "        \"\"\"\n",
    "\n",
    "        temperature = 0.7 if i > 0 else 0 # First prompt deterministic, rest creative\n",
    "\n",
    "        # Use ChatOpenAI for chat models\n",
    "        model = ChatOpenAI(model_name=prompt_generation_model_name, temperature=temperature)  \n",
    "        messages = [\n",
    "            SystemMessage(content=system_message),\n",
    "            HumanMessage(content=prompt_content)\n",
    "        ]\n",
    "\n",
    "        response = model(messages)\n",
    "        candidates.append(response.content.strip())  # Extract the content directly\n",
    "\n",
    "    return candidates\n",
    "\n",
    "# ... (rest of your code) ...\n"
   ]
  },
  {
   "cell_type": "code",
   "execution_count": 103,
   "metadata": {},
   "outputs": [
    {
     "name": "stdout",
     "output_type": "stream",
     "text": [
      "Candidate Prompt #1: Describe the unique approach in machine learning that involves learning from a limited number of examples.\n",
      "Candidate Prompt #2: Describe the principles and techniques involved in a unique approach to machine learning that aims to minimize the amount of training data required.\n",
      "Candidate Prompt #3: Please provide detailed explanations, definitions, and examples to help clarify the concept of few-shot learning.\n",
      "Candidate Prompt #4: Describe the unique approach of a learning method that involves acquiring knowledge from only a limited amount of data.\n",
      "Candidate Prompt #5: Describe the principles and applications of few-shot learning.\n"
     ]
    }
   ],
   "source": [
    "\n",
    "# Example Usage:\n",
    "description = \"Explain the concept of few-shot learning.\"\n",
    "\n",
    "candidates = generate_prompt_candidates(generated_test_cases, description)\n",
    "\n",
    "for i, candidate in enumerate(candidates):\n",
    "    print(f\"Candidate Prompt #{i+1}: {candidate}\")\n",
    "\n"
   ]
  },
  {
   "cell_type": "code",
   "execution_count": 104,
   "metadata": {},
   "outputs": [
    {
     "data": {
      "text/plain": [
       "['Describe the unique approach in machine learning that involves learning from a limited number of examples.',\n",
       " 'Describe the principles and techniques involved in a unique approach to machine learning that aims to minimize the amount of training data required.',\n",
       " 'Please provide detailed explanations, definitions, and examples to help clarify the concept of few-shot learning.',\n",
       " 'Describe the unique approach of a learning method that involves acquiring knowledge from only a limited amount of data.',\n",
       " 'Describe the principles and applications of few-shot learning.']"
      ]
     },
     "execution_count": 104,
     "metadata": {},
     "output_type": "execute_result"
    }
   ],
   "source": [
    "candidates"
   ]
  },
  {
   "cell_type": "markdown",
   "metadata": {},
   "source": [
    "## Get the scores for the prompts"
   ]
  },
  {
   "cell_type": "code",
   "execution_count": 108,
   "metadata": {},
   "outputs": [],
   "source": [
    "import numpy as np\n",
    "import asyncio\n",
    "from langchain.embeddings import OpenAIEmbeddings\n",
    "\n",
    "def get_score(test_case: TestCase, prompt_a: str, prompt_b: str, model: ChatOpenAI, embedding_model: OpenAIEmbeddings):\n",
    "    \"\"\"Calculates the score for a prompt comparison using human judgment or embedding similarity.\"\"\"\n",
    "    answer_a = asyncio.run(getGeneration(prompt_a, test_case, model))\n",
    "    answer_b = asyncio.run(getGeneration(prompt_b, test_case, model))\n",
    "\n",
    "    if not test_case.expected_output.strip():  # No expected output, rely on human judgment\n",
    "        print(f\"Test Case: {test_case.prompt}\")\n",
    "        print(f\"Option A: {answer_a}\")\n",
    "        print(f\"Option B: {answer_b}\")\n",
    "\n",
    "        winner = input(\"Which answer is better? (A/B/draw): \").upper()\n",
    "        while winner not in ['A', 'B', 'DRAW']:\n",
    "            winner = input(\"Invalid input. Please enter A, B, or draw: \").upper()\n",
    "\n",
    "        return 1 if winner == 'A' else 0 if winner == 'B' else 0.5\n",
    "    else:  # Use embeddings to calculate similarity\n",
    "        embedding_a = embedding_model.embed_query(answer_a)\n",
    "        embedding_b = embedding_model.embed_query(answer_b)\n",
    "        embedding_expected = embedding_model.embed_query(test_case.expected_output)\n",
    "\n",
    "        score_a = cosine_similarity(embedding_a, embedding_expected)\n",
    "        score_b = cosine_similarity(embedding_b, embedding_expected)\n",
    "\n",
    "        # Handle ties and near-ties\n",
    "        if abs(score_a - score_b) < 0.1:  # Adjust threshold as needed\n",
    "            return 0.5  # Draw\n",
    "\n",
    "        return 1 if score_a > score_b else 0  # Return 1 if A wins, 0 if B wins\n",
    "    \n",
    "# Cosine similarity\n",
    "def cosine_similarity(a, b):\n",
    "    return np.dot(a, b) / (np.linalg.norm(a) * np.linalg.norm(b))\n"
   ]
  },
  {
   "cell_type": "markdown",
   "metadata": {},
   "source": [
    "##### Load documents"
   ]
  },
  {
   "cell_type": "code",
   "execution_count": 119,
   "metadata": {},
   "outputs": [],
   "source": [
    "import bs4\n",
    "from langchain_community.document_loaders import WebBaseLoader\n",
    "\n",
    "\n",
    "# Load Documents\n",
    "loader = WebBaseLoader(\n",
    "    web_paths=(\"https://lilianweng.github.io/posts/2023-03-15-prompt-engineering/\",),\n",
    "    bs_kwargs=dict(\n",
    "        parse_only=bs4.SoupStrainer(\n",
    "            class_=(\"post-content\", \"post-title\", \"post-header\")\n",
    "        )\n",
    "    ),\n",
    ")\n",
    "docs = loader.load()\n"
   ]
  },
  {
   "cell_type": "markdown",
   "metadata": {},
   "source": [
    "##### Split into chunks and save them to the vectorstore"
   ]
  },
  {
   "cell_type": "code",
   "execution_count": 145,
   "metadata": {},
   "outputs": [],
   "source": [
    "from langchain.text_splitter import RecursiveCharacterTextSplitter\n",
    "\n",
    "# Split\n",
    "text_splitter = RecursiveCharacterTextSplitter(chunk_size=250, chunk_overlap=200)\n",
    "from langchain_community.vectorstores import Chroma\n",
    "splits = text_splitter.split_documents(docs)\n",
    "\n",
    "embedding = OpenAIEmbeddings()\n",
    "\n",
    "# Embed\n",
    "vectorstore = Chroma.from_documents(documents=splits,\n",
    "                                    embedding=embedding)\n",
    "\n",
    "retriever = vectorstore.as_retriever(search_kwargs={\"k\": 5})"
   ]
  },
  {
   "cell_type": "markdown",
   "metadata": {},
   "source": [
    "## Generate answers for a prompt candidate given a scenario"
   ]
  },
  {
   "cell_type": "code",
   "execution_count": 172,
   "metadata": {},
   "outputs": [],
   "source": [
    "import asyncio\n",
    "from langchain.chat_models import ChatOpenAI\n",
    "from langchain.schema import HumanMessage, SystemMessage, Document\n",
    "from langchain.embeddings import OpenAIEmbeddings\n",
    "from langchain_core.output_parsers import StrOutputParser\n",
    "from langchain_core.runnables import RunnablePassthrough\n",
    "\n",
    "from langchain.prompts.chat import ChatPromptTemplate\n",
    "from langchain_community.vectorstores import Chroma\n",
    "\n",
    "\n",
    "import numpy as np\n",
    "\n",
    "def retrieve_context(query, retriever):\n",
    "    \"\"\"Retrieves relevant context for a given query from your knowledge base or documents.\"\"\"\n",
    "    docs = retriever.invoke(query)\n",
    "    return docs\n",
    "\n",
    "def getGeneration(prompt_candidate: str, testCase: TestCase, model: ChatOpenAI, retriever):\n",
    "    \"\"\"Generates a response using the provided prompt and test case.\"\"\"\n",
    "\n",
    "    prompt_template = ChatPromptTemplate.from_template(\n",
    "    \"\"\"\n",
    "        Use the following context to answer the question.\n",
    "        If you don't know the answer, just say that you don't know, don't try to make up an answer.\n",
    "        Context: {context}\n",
    "        Question: {prompt_candidate}\n",
    "        Scenario: {scenario}\n",
    "        Answer:\"\"\"\n",
    "    )\n",
    "\n",
    "    # print(testCase.scenario)\n",
    "    context = retrieve_context(testCase.scenario, retriever) # get the context documents \n",
    "\n",
    "    # Create RAG chain for current prompt\n",
    "    # rag_chain = create_rag_chain_factory(prompt, vectorstore)\n",
    "    chain = prompt_template | model | StrOutputParser()\n",
    "    # Generate answer from RAG chain\n",
    "    answer = chain.invoke({\"context\": context, \"prompt_candidate\": prompt_candidate, \"scenario\": testCase.scenario})\n",
    "    return answer\n"
   ]
  },
  {
   "cell_type": "code",
   "execution_count": 173,
   "metadata": {},
   "outputs": [
    {
     "data": {
      "text/plain": [
       "'A student is researching on machine learning and comes across the term few-shot learning for the first time.'"
      ]
     },
     "execution_count": 173,
     "metadata": {},
     "output_type": "execute_result"
    }
   ],
   "source": [
    "candidates[0]\n",
    "generated_test_cases[0].scenario"
   ]
  },
  {
   "cell_type": "code",
   "execution_count": 174,
   "metadata": {},
   "outputs": [],
   "source": [
    "# Test getGeneration function\n",
    "llm = ChatOpenAI(model_name=\"gpt-3.5-turbo\", temperature=0)\n",
    "\n",
    "answer = getGeneration(candidates[0], generated_test_cases[0], llm, retriever)"
   ]
  },
  {
   "cell_type": "code",
   "execution_count": 177,
   "metadata": {},
   "outputs": [],
   "source": [
    "answer_a = answer"
   ]
  },
  {
   "cell_type": "code",
   "execution_count": 190,
   "metadata": {},
   "outputs": [
    {
     "data": {
      "text/plain": [
       "'Few-shot learning is a unique approach in machine learning where the model is trained on a limited number of examples or demonstrations, each consisting of both input and desired output on the target task. By providing the model with good examples, it can better understand human intention and criteria for the desired answers. This approach often leads to better performance compared to zero-shot learning, where the model has no prior examples to learn from. However, few-shot learning may require more token consumption and could hit the context length limit when dealing with long input and output text.'"
      ]
     },
     "execution_count": 190,
     "metadata": {},
     "output_type": "execute_result"
    }
   ],
   "source": [
    "answer_a"
   ]
  },
  {
   "cell_type": "markdown",
   "metadata": {},
   "source": [
    "##### Example: get answers for two prompt candidates in a given scenario"
   ]
  },
  {
   "cell_type": "code",
   "execution_count": 196,
   "metadata": {},
   "outputs": [
    {
     "data": {
      "text/plain": [
       "'Describe the principles and applications of few-shot learning.'"
      ]
     },
     "execution_count": 196,
     "metadata": {},
     "output_type": "execute_result"
    }
   ],
   "source": [
    "candidates[4]"
   ]
  },
  {
   "cell_type": "code",
   "execution_count": 197,
   "metadata": {},
   "outputs": [],
   "source": [
    "answer_b = getGeneration(candidates[4], generated_test_cases[0], llm, retriever)"
   ]
  },
  {
   "cell_type": "code",
   "execution_count": 198,
   "metadata": {},
   "outputs": [
    {
     "data": {
      "text/plain": [
       "'Few-shot learning is a machine learning approach where a model is trained on a small number of examples or demonstrations, each consisting of both input and desired output, for a target task. By providing the model with good examples, it can better understand human intention and criteria for the desired answers. This approach often leads to better performance compared to zero-shot learning, where the model has no prior examples to learn from. However, few-shot learning may require more token consumption and could hit context length limits when dealing with long input and output text. Overall, few-shot learning is a valuable technique for quickly adapting a model to new tasks with limited training data.'"
      ]
     },
     "execution_count": 198,
     "metadata": {},
     "output_type": "execute_result"
    }
   ],
   "source": [
    "answer_b"
   ]
  },
  {
   "cell_type": "markdown",
   "metadata": {},
   "source": [
    "#### Get embedding"
   ]
  },
  {
   "cell_type": "code",
   "execution_count": 184,
   "metadata": {},
   "outputs": [],
   "source": [
    "# Embedding model example is OpenAIEmbeddings\n",
    "def get_embedding(text, embedding_model):\n",
    "    \"\"\"Gets the embedding for a given text.\"\"\"\n",
    "    return embedding_model.embed_query(text)"
   ]
  },
  {
   "cell_type": "markdown",
   "metadata": {},
   "source": [
    "###### Example to get embeddings A and B for prompt candidate's answers a and b"
   ]
  },
  {
   "cell_type": "code",
   "execution_count": 200,
   "metadata": {},
   "outputs": [
    {
     "name": "stdout",
     "output_type": "stream",
     "text": [
      "[-0.03248518729585634, -0.0017379312905591272, 0.03910838096686745, -0.0021387397005408863, 0.0033510206517055065, 0.003686122623743799, 0.01265503103034554, 0.0036598402348309287, -0.0474662225506764, -0.028385115998996926, 0.031328756595754556, 0.02185391092201151, -0.035770502208110316, -0.01847660741573184, 0.0008069553356239955, 0.023601697933789977, 0.02812229117854564, -0.0021617368490473095, 0.019606756192582047, -0.019343931372130762, -0.02901589705819614, 0.01055242967276751, -0.028253704520093865, -0.01209652712273333, 0.009993926696477884, -0.014323970409724107, 0.018910270325253883, -0.021577945139934433, -0.005545610603309227, -0.016465995583502084, 0.010749548753767265, 0.003114477987336446, -0.004826126656152057, -0.008568099763789335, -0.006872877529836606, -0.01095980879639281, 0.009113461778453173, -0.0013551921684741197, 0.010894102125618699, -0.020736904969432254, 0.012142522351068758, 0.04284049975026926, -0.01013190958751642, -0.0022898640188665047, 0.02014554865775557, 0.005604746327609153, 0.01852917312488016, -0.014691925717149454, -0.02056606874300666, 0.0239827951341637, 0.014100569405472772, 0.015703803045399808, -0.033378795038152005, 0.010861249721554224, -0.008804642660989041, -0.004123069376688417, -0.005407627246609398, 0.006097543564447249, 0.024744987672265975, -0.009330293233214194, -0.005039672404845341, 0.028148573101797223, -0.013384371164383341, 0.0023588556972164187, 0.011308051730056893, -0.008127868236099562, -0.036664109950405976, 0.025428332577968348, 0.009290869417014243, -0.002976494863467263, -0.011669436556669346, 0.01583521452430287, -0.004014654114969197, -0.011853414676043311, 0.03532370206225281, -0.018726291274557338, -0.0013338376401709204, 0.009120032259266067, -0.006702041303411013, 0.005493045825483486, 0.002260296389547187, -0.02314175496366152, -0.024179913283840872, 0.046099532739271656, 0.014245122777324204, -0.004307047030401091, 0.01182713182146915, 0.009087179855201593, -0.01201768042165601, 0.013390941645196237, 0.012990133002383832, -0.011406611736218061, 0.017188765236726994, 0.009330293233214194, -0.01621631172467659, 0.003252461344036274, -0.0028861486568141493, 0.011735143227443458, 0.012536759581745686, -0.01806922829210654, -0.008134438716912456, 0.03025117539069783, -0.024863260052188408, -0.00837098068278958, -0.014363394225924057, 0.009520840902078472, 0.0017855683241905194, 0.013147828267183635, 0.021209988901186503, -0.0028155143582610114, -0.00872579502858914, 0.041815482391715696, -0.006518063649698339, -0.0344826581664603, 0.004063934118049781, 0.01651856129265041, -0.016255736472199123, -0.030119762049149606, -0.007516799085000321, -0.025441475402239302, 0.00746423430717458, -0.0016401931765761843, 0.014652501900949504, -0.01674196136557916, 0.0037715409697872413, -0.0005761620165892022, -0.02273437584003622, -0.03703206432650875, -0.004063934118049781, -0.0024705564321727312, 0.026374504166767173, 0.04042250693176904, -0.004734138062126365, 0.0063143740878856885, -0.01977759241900764, 0.0005416662356219064, -0.007654782441700149, -0.003147331089892857, -0.026361363205141382, -0.025270637313168545, 0.014087428443846983, 0.005033101458371154, -0.0010151621029955106, 0.004566587076107219, 0.0014931754087586253, 0.019449060927782244, 0.011078080244992664, 0.01446852471289812, 0.0009593117937250156, 0.018621161718905856, 0.015243859143948768, -0.020316384884181166, -0.005693449681228397, 0.03103964985205169, 0.054141980068190675, 0.0014430743284070747, 0.0241404903989635, 0.0013650481225241074, -0.011597159405082338, 0.006426075055672647, 0.015480401109825893, 0.010513005856567559, -0.005667167292315527, -0.008830925515563203, 0.02590141837236776, 0.009777095241716863, 0.01887084557773135, -0.025533463996264993, 0.01315439874799653, -0.007280256653461906, -1.4681248212891252e-05, 0.057716403586792676, -0.008489252131389433, 0.018673727428054177, -0.01692594041627571, -0.009350004675652878, 0.017964098736455058, -0.005769012073221852, -0.008738935990214929, -0.024797553381414296, -0.0012697740552613229, 0.029094744690596044, 0.001902197036171826, 0.006688899876123932, -0.01976445145738185, 0.00493125667746483, 0.015125587695348915, -0.010158192442090583, -0.010276462959367854, 0.005627743476115576, -0.009448563750491464, 0.01013190958751642, -0.014139993221672724, -0.00018972691173544935, -0.6513858486098731, -0.013390941645196237, -0.019817017166530174, -0.004750564729819893, -0.0036828373833373514, 0.007155414724049158, -0.0170967766427013, -0.018305771189306246, -0.000701414601052756, 0.01569066208377402, -0.015992909789102675, -0.006251953123179315, -0.00937628753022704, -0.01013190958751642, -0.019790733380633432, -0.023299450228461322, 0.0046979994863328624, -0.024679281001491863, -0.014573654268549603, -0.002335858548709996, -0.0332210997733522, 0.012865291072971083, -0.008653517877002132, 0.012661601511158433, -0.012254222387533134, -0.004494309924520212, -0.00549961630629638, 0.0005379702237493304, 0.019856440051407544, 0.0008771789209186662, -0.012135950938933281, 0.009474846605065626, 0.017438449095552488, -0.013036127299396677, 0.04412834379191927, -0.0029173591391673365, -0.009658824724439592, 0.01937021329538234, -0.0007773875316816937, 0.0375839958906629, -0.029594112408247036, -0.008403834018176636, 0.0044713127760137895, -0.01446852471289812, -0.004806414748052082, -0.01705735189517877, 0.0058807125753475185, 0.023917088463389587, -0.009126603671401544, -0.019514767598556356, 0.0021929473314004962, 0.0043530413274139364, 0.0021420249409473337, -0.01177456704364341, 0.007963602490486863, 0.004435174200220286, 0.03466663907980201, -0.007378816193961783, 0.017385883386404167, -0.01448166567452391, -0.011676007037482242, 0.010598423969780356, -0.027281251008043465, -0.01115035739657967, -0.013929733179047178, 0.029410135220195654, 0.004198631768681871, 0.010112197213755156, -0.0008944268405061448, -0.05429967533299048, 0.010079344809690681, 0.039739162026066664, 0.004550160408413691, -0.025612311628664897, 0.0044910246841137645, 0.0430770407848238, 0.0038536738425935906, -0.012379064316945881, -0.008173862533112407, -0.0007716381863474266, 0.0124382005069071, 3.264781141079606e-05, -0.007989884413738442, -0.017333319539901006, 0.0053747743768836325, -0.007851901522699904, -0.0020319670590248904, 0.016071757421502575, -0.012983562521570936, -0.0081015853815254, 0.014100569405472772, 0.0166105498866761, -0.03190697380845061, -0.053327221820940074, -0.018279489266054667, 0.02642706801327033, -0.015519824926025844, 0.013114974931796579, 0.02948898098995039, -0.03792566834351408, -0.023943370386641166, 0.00277773339509493, 0.007851901522699904, 0.02927872187864743, 0.021183706977934924, -0.0017001502109777226, 0.014442241858323959, -0.011754854669882143, 0.012727308181932545, -0.031486451860554356, 0.010723265899193105, 0.016689397519076003, -0.006163249769560071, 0.024009077057415278, -0.0015580603037698348, -0.029541546699098715, 0.005289356263670836, 0.015703803045399808, 0.008942625552027579, -0.01923880181647928, 0.02152537943078611, -0.01337122927143497, 0.011038656428792712, -0.010861249721554224, 0.0032573892046459454, -0.004379324181988098, -0.013745755059673213, 0.007779624371112897, -0.0031867549060928075, 0.0007186625206402345, -0.005361632949596552, -0.02626937461111569, 0.024311326625389096, -0.00938942849185283, 0.013956015102298758, -0.005545610603309227, 0.009231733227053025, -0.004001512687682116, 0.027438946272843268, -0.002976494863467263, -0.015861498310199614, -0.019094247513305265, 0.017254471907501106, -0.018240064518532134, -0.02048722111060676, -0.006343942182866298, 0.0014266477771288694, -0.002830298405751316, 0.003962089337143456, -0.010742978272954371, -0.0038076793127500993, -0.013929733179047178, 0.00670532654381746, 0.032564036790901404, -0.016847092783875806, -8.659883379535592e-05, -0.022905212066461813, -0.03206466907325041, -0.01714934048920446, -0.049332280079732144, 0.00961940090823964, 0.04081674695641371, -6.852960410626551e-05, 0.00948141708587852, -0.016045475498250996, -0.02110485934553502, 0.013206963525822272, 0.03587563362640696, -0.0344826581664603, -0.04118470133251648, -0.003456150673018279, -0.04076417938462023, 0.007391957155587573, 0.03356277222620339, -0.004612581373120065, 0.01438967708049822, -0.034430094319957145, 0.02274751680166201, -0.010066202916742309, -0.027806900648946035, -0.030987086005548527, -0.005088951942264634, 0.010118768625890631, 0.016755104189850115, 0.005552181084122121, 0.015243859143948768, 0.04094816029796194, -0.008502394024337804, -0.0359544793961617, 0.03064541169005218, 0.03994942113736963, 0.013022986337770888, -0.023220602596061422, 0.005361632949596552, -0.003649984280780941, 0.0174253081339267, 0.033089686431803975, -0.0015145299370618245, -0.01933079041050497, 0.020342666807432744, 0.021433390836760418, 0.008660088357815027, 0.004445030387100919, -0.01533584773797446, -0.015151869618600496, -0.0403436611620143, 0.008049020603699658, -0.024009077057415278, 0.0162031707630508, -0.006268379790872843, 0.004412177051713863, -0.025296921099065287, -0.00506595479375821, -0.02498153056946568, 0.01025675151692917, 0.02244526723368819, 0.013042697780209573, 0.006035122599740875, -0.03464035343126011, 0.0049575395320389905, 0.012536759581745686, 0.0036138457049874374, 0.014626219977697924, -0.009336863714027088, 0.014665643793897875, 0.016492277506753666, 0.006721753211510988, -0.0063472274232727445, 0.004737423302532813, -0.03747886819765658, 0.014665643793897875, 0.020934023119109427, 0.011932261377120631, 0.021985324263559734, 0.00988879620950382, 0.02109171838390923, 0.005798579702541169, -0.017477871980429858, 0.04967395253258333, -0.0228395053956877, -0.009533982795026843, 0.010263321997742063, 0.014705067610097827, -0.022852646357313492, 0.03776797307871428, -0.005098808129145266, 0.030408870655497636, 0.006403077907166224, -0.019751310495756062, 0.010046491474303624, -0.007674494349800125, 0.011084650725805558, -0.004569872316513667, 0.00023839062664960246, 0.002463985718529191, -0.009041185558188747, -0.012346210981558825, -0.004734138062126365, 0.023391438822487013, 0.02147281558428295, -0.01976445145738185, 0.00922516274624013, 0.014560513306923812, -0.014783914311175147, 0.016952222339527288, -0.028332552152493768, 0.019593615230956256, -0.016452854621876296, -0.0240616427665636, -0.009678536166878277, -0.01288500344673235, -0.0008344698643122678, -0.017320176715630055, -0.005575178698289835, 0.036637824301864075, 0.0010324100807906505, 0.019856440051407544, 0.042603958715714714, 0.027806900648946035, 0.024784412419788508, -0.0516714234031873, -0.021577945139934433, 0.02975180767304684, 0.014757632387923566, -0.007779624371112897, -0.03030373923720099, -0.0348506162678534, 0.005249932447470885, -0.01800352348397759, 0.00788475485808696, -0.004221628917188294, 0.0017789977269623018, -0.023128614002035728, 0.010440728704980553, 0.0011465747460517987, -0.008495822612202329, 0.03563908886656209, 0.011222633616844096, 0.0017346460501526796, -0.00680060084391089, 0.009041185558188747, -0.004586298984207195, -0.01288500344673235, -0.022471551019584934, 0.024442738104292157, 0.006728323692323884, -0.000859931059538849, -0.010749548753767265, -0.022616103460113786, 0.00425448225257535, -0.007431380971787524, -0.022681810130887898, 0.025914559333993552, 0.007043714221923491, 0.030146043972401188, 0.003600704510531002, -0.0021847339975537322, 0.021328261281108936, 0.02320746163443563, 0.003975230298769245, 4.576340177219606e-05, -0.01297699204075804, -0.01621631172467659, 0.010151621029955106, 0.06087030515749843, 0.031775560466902386, -0.019974710568684814, 0.012536759581745686, -0.02896333134904782, -0.016544843215901987, -0.024587292407466172, 0.0035481394998746157, 0.019422779004530665, -0.0021075292181876996, -0.035481393601762286, 0.01633458224195386, 0.0074576638263616855, -0.012333070019933036, 0.014599937123123763, 0.009159456075466019, 0.0035448542594681684, -0.014783914311175147, -0.003167042997992832, -0.020842034525083736, 0.016387147951102184, 0.0065706288931853705, 0.036191024156006564, -0.014691925717149454, -0.0085089645051507, -0.012589324359571427, 0.02109171838390923, 0.024902682937065778, -0.0025181935822194464, -0.026676751872095828, -0.0032787437329491447, 0.006396506960692039, -0.005660596811502632, 0.007503658123374531, -0.02579628881671628, 0.03695321483146368, 0.006879448476310792, 0.017766980586777885, 0.011064939283366873, -0.00719483854024911, 0.01622945268630238, 0.014586796161497974, -0.005568607751815649, 0.024403315219414787, -0.02896333134904782, -0.002984708197314027, 0.003587563316074567, 0.022944634951339183, -0.008324986385776735, -0.0349820258841113, 0.01806922829210654, 0.023509709339764286, -0.018673727428054177, -0.0013330163300693085, -0.014218840854072625, -0.006304518366666347, 0.0071094204270363125, -0.009284298004878766, -0.014560513306923812, -0.010066202916742309, -0.021275695571960615, -0.04097444222121352, 0.00012494460772736465, 0.006465498871872598, 0.008298704462525154, -0.027018426187592176, -0.016544843215901987, 0.013049268261022467, -0.034324962901660504, -0.0016484065104229483, -0.023785676984486526, -0.02190647663115983, -0.05808435796289545, -0.018765716022079867, 0.00700429040572354, 0.022169301451611115, 0.0006673294751362662, -0.005039672404845341, -0.025126084872639693, -0.002054964207531313, -0.009921649544890877, 0.004829412362219796, -0.027964595913745838, -0.02980437151955, 0.010237040074490484, 0.004832697602626243, -0.01441595993507238, -0.012149092831881652, -0.017714414877629564, 0.01713619952757867, -0.011413182217030955, -0.0015670949477182108, -0.0016106254308415437, 0.005795294462134722, 0.008732365509402033, 0.009330293233214194, 0.010368452484716127, 0.008430116872750798, 0.01755671961282976, -0.009704819021452437, 0.01250390624635863, 0.0022898640188665047, -0.013864026508273066, -0.005088951942264634, -0.0011777852284049857, -0.0015679162578198227, 0.014192557999498463, 0.008443257834376588, 0.026597906102341088, 0.0032031815737863355, 0.0236542636429383, -0.00948141708587852, 0.046677746226677384, 0.008193573975551092, 0.02404850180493781, 0.008108155862338295, 0.011189781212779621, 0.01671567944232758, 0.025270637313168545, -0.018108653039629073, -0.014048004627647031, -0.020750045931058045, 0.00876521884478909, -0.005256502928283779, -0.018095512078003282, 0.0039062388532499766, 0.0036926933373873394, -0.016860233745501597, -0.033168532201558715, 0.009067467481440326, -0.005535754882089884, 0.025441475402239302, -0.004241340825288269, 0.00016570303829051955, -0.038635298897758366, -0.010388163927154812, -0.018594879795654273, 0.008732365509402033, -0.026545340393192767, -0.020092982948607247, 0.016952222339527288, 0.0005309889132626456, 0.005522613454802803, -0.015230717251000397, 0.019146811359808426, -0.029436417143447233, -0.029121026613847623, 0.00986251335492966, 0.005272929595977307, 0.01201768042165601, 0.0035514247402810635, 0.02362798171968672, -0.03103964985205169, -0.02935756951104733, 0.008049020603699658, -0.01621631172467659, -7.443290142883881e-05, 0.011715430853682192, 0.022944634951339183, 0.024902682937065778, 0.04833354464443016, -0.02315489592528731, 0.016084898383128366, 0.0004258588628460425, -0.018608020757280064, -0.0006237990502205945, 0.0017280753365091395, -0.006478639833498388, -0.014179417037872673, -0.005841288759147568, 0.015743225930277178, -0.027070990034095337, 0.028201138810945544, -0.008187003494738197, 0.026873871884418164, 0.02704470811084376, 0.005525898695209251, -0.013469789277596138, -0.020421514439832648, -0.02059235066625824, -0.007516799085000321, 0.02883191987014476, -0.008673230250763398, 0.01438967708049822, -0.00854838832135065, 0.007556222901200272, 0.011833702302282045, 0.007838760561074114, -0.004648719948913568, 0.016150605053902478, 0.010099056252129365, 0.008607523579989286, -0.023601697933789977, -0.0017921390378340598, 0.012694454846545489, -0.050672687967885315, 0.002307933306763256, -0.0436026941510167, 0.02245840819531398, 0.022195583374862694, 0.007930749155099807, -0.004182205100988343, 0.041605219555122405, 0.004014654114969197, -0.026860730922792373, -0.004658575670132911, -0.030934520296400207, -0.020828893563457945, -9.34774586914663e-05, -0.015914062156702772, -0.010749548753767265, -0.016939081377901496, 0.004307047030401091, -0.00670532654381746, -0.00926458656244008, 0.01441595993507238, -0.003245890630392734, 0.01025675151692917, -0.02541519161634256, -0.016952222339527288, 0.021709356618837494, 0.014271405631898366, 0.03369418556775161, 0.007536510993100297, 0.022616103460113786, 0.0075627938476744575, 0.033378795038152005, -0.010926955461005755, -0.0124382005069071, 0.0040507926907627, 0.0053747743768836325, 0.029042178981447724, 0.00895576744497595, -0.004652005189320016, -0.01651856129265041, 0.006912301346036558, 0.006097543564447249, -0.030146043972401188, -0.04591555555122027, -0.00098559435726087, 0.012076815680294646, -0.002922287232607653, -0.035481393601762286, -0.011045226909605606, -0.004514021832620188, 0.006386651239472696, -0.0017609285554808728, 0.004724281875245732, 0.01834519593682878, 0.003883241704743554, -0.023023482583739083, 0.019843299089781753, 0.0005264716494961189, 0.011511741291869541, -0.027701771093294553, 0.005732873497428348, -0.0036269871322745176, -0.012891573927545245, -0.008121296823964085, 0.019646179077459417, 0.0007786194968341115, 0.03818849502661053, -0.012142522351068758, 0.014599937123123763, 0.02725496722214672, 0.014862761943575048, -0.007865042484325695, 0.004579728037733009, -0.003988371726056326, 0.0289896132722994, -0.014652501900949504, -0.019869581013033332, -0.0005851966023299168, -0.005854430186434649, -0.005644170143809104, -0.016360866027850605, -0.004629008040813593, -0.023220602596061422, -0.00701743136734933, 0.013837744585021487, 0.02236641960128829, -0.005634313956928471, -0.0007794408651433847, 0.009652253312304114, 0.018082371116377494, -0.025441475402239302, 0.020789468815935415, -0.009547123756652632, 0.026177384154444837, -0.020434655401458435, -0.003817535266800087, -0.021144284093057554, -0.007313109988848962, -0.00048745851745080456, -0.0052203643524902765, -0.01075611923458016, 0.012471053842294156, 0.029830655305446742, -0.031933255731702186, -0.01578265067779971, -0.01846346645410605, 0.009100320816827382, -0.015243859143948768, -0.007904466300525645, -0.0005157943853445193, 0.0017280753365091395, 0.03146016993730278, -0.030040914416749706, -0.007930749155099807, -0.020500362072232547, 0.005079096221045291, 0.007122561388662102, 0.0020730332625974197, 0.00917259796841439, -0.00046446131073672026, -0.009770524760903967, 0.005013389550271179, -0.008042449191564183, 0.010710124937567315, 0.013588060726195991, -0.00512180527765169, -0.01856859600975753, 0.011340905065443949, -0.02069748022190972, -0.0030602703564768362, -0.0031407606090799616, 0.005831433037928225, -0.014705067610097827, -0.032012101501456926, -0.005588319659915625, -0.003902953380012884, 0.0012615607214145588, 0.0008771789209186662, -0.005013389550271179, -0.0077861953175870835, 0.011340905065443949, -0.004950968585564805, -0.009244875120001397, -0.002697243142491804, -0.02231385575478513, 0.016571125139153566, 0.024758128633891763, 0.001839776071465452, 0.0074510928798875, -0.006495066501191916, 0.001450466352152227, -0.01116349835820546, -0.00034167268568183277, -0.04086931080291687, -0.010749548753767265, -0.0237331112753382, 0.03314225027830713, 0.010559000153580406, -0.008640376915376342, -0.00938942849185283, -0.009704819021452437, -0.05285413602654066, 0.026913294769295534, -0.006978007551149379, -0.00043037618482023046, -0.008187003494738197, 0.03545511167851071, -0.030040914416749706, 0.012267364280481505, -0.0019481914495999945, 0.003810964785987192, -0.019646179077459417, -0.009625971389052536, -0.01296385014780967, 0.013160969228809424, 0.016899656630378963, 0.0028450822204109747, -0.02163050898643759, -0.01400858081144708, 0.010545859191954615, -0.00837098068278958, 0.006886018957123687, 0.015309564883400299, -0.006123825953360119, -0.0022783654446132933, 0.0035908485564810143, 0.009277727524065872, 0.02571744118431638, 1.3693087669016475e-05, 0.014429100896698169, -0.013929733179047178, -0.019909005760555865, 0.0031325472752331976, -0.03019860968154951, -0.027885748281345935, -0.006350512663679192, -0.012346210981558825, 0.0035645661675681437, 0.003185112285889584, -0.02320746163443563, 0.008252710165512309, -0.0017691417729123141, -0.008535246428402279, 0.015138728656974706, 0.015007316246749062, 0.008666659769950503, 0.03151273378380594, -0.014113710367098561, 0.013719473136421634, -0.0006270844070423646, -0.004205202249494766, -0.013351517828996285, 0.010375022965529022, 0.002179806136944061, -0.011222633616844096, -0.018148075924506443, -0.003433153524511856, 0.009074037962253222, -0.015243859143948768, 0.008633806434563447, -0.01875257506045408, 0.008896631255014734, -0.0030257746337172017, 0.035586525020058934, -0.013824602692073116, -0.004116498895875521, 0.014862761943575048, 0.009251445600814291, -0.0038273912208500746, -0.020066701025355668, -0.0038306764612565224, 0.026505915645670234, -0.034324962901660504, 0.022576680575236416, -0.005371489136477186, -0.009054326519814537, -0.04118470133251648, -0.020329525845806953, 0.02368054556618988, -0.029541546699098715, 0.01533584773797446, 0.1974342480119349, -0.032642882560656145, -0.0009625970923391245, -0.0066593322468046145, 0.004267623214201139, 0.007385386674774679, 0.030093480125898027, -0.0039292360017564, -0.0013962586048772944, -0.002922287232607653, 0.014626219977697924, 0.008443257834376588, -0.011005803093405656, -0.0035514247402810635, -0.0022077313788908008, -0.011262057433044046, -0.005627743476115576, -0.028174856887693965, 0.01250390624635863, 0.02320746163443563, 0.002211016619297248, 0.0010784044942188191, 0.01835833689845457, -0.01751729672795239, 0.04168406905016747, -0.0004808878911187563, -0.0018512746457186634, 0.004586298984207195, 0.016991645224404658, 0.010913814499379964, -0.01754357865120397, -0.008108155862338295, 0.006606767003317583, 0.008528675947589385, -0.011301481249243997, 0.003171971091433149, 0.0157169440070256, -0.0019301221617032426, 0.021972183301933942, 0.03151273378380594, 0.0175041557663266, -0.009244875120001397, 0.014757632387923566, -0.01889712750098293, 0.007359104285861808, 0.020237537251781262, -0.008462970208137854, -0.01753043768957818, 0.016282018395450702, 0.0017987096350622774, -0.009731100944704016, 0.007372245247487598, 0.004770276637919869, 0.025756864069193745, 0.003603989983768095, 0.010598423969780356, -0.018647443642157435, 0.021433390836760418, 0.015519824926025844, -0.00028253704869339835, -0.038924403778816064, 0.004891833326926169, -0.006846595140923736, 0.01930450662460823, -0.0019153382306282612, 0.008837495996376097, 0.003462721386661819, -0.01852917312488016, 0.007943890116725597, 0.017740696800881143, -0.012201657609707393, -0.0075627938476744575, -0.02496838960783989, -0.013640625504021732, -0.008403834018176636, -0.03251147294439825, 0.04305075886157222, 0.02327316644256458, 0.008311845424150945, 0.01337122927143497, -0.02531006206069108, -0.0117877080052692, -0.024928964860317357, -0.007582505755774433, -0.015572390635174167, -0.03590191554965854, 0.030881954587251882, -0.036112174660961505, -0.01967246286335616, 0.008660088357815027, -0.008679800731576294, -0.020027276277833135, -0.016833951822250014, -0.005769012073221852, 0.007930749155099807, -0.0023375011689132194, 0.018266348304428876, 0.018647443642157435, -0.002449201903869532, -0.02416677232221508, -0.026624188025592667, 0.03511343922565952, 0.02181448803713414, 0.03608589273770992, 0.028858201793396338, 0.005903709723853942, -0.03427239905515734, 0.016387147951102184, -0.005627743476115576, 0.01079554305078011, -0.0011753211816848273, -0.029988350570246545, 0.007963602490486863, -0.006859736568210817, -0.013338375936047914, 0.006633049857891744, 0.016820808997979064, -0.011386899362456794, 0.02361483889541577, 0.00070100394600195, -0.011308051730056893, -0.00881778362261483, 0.0011038656894454004, 0.013285811158222173, -0.00010153674596247442, -0.029567828622350294, -0.008982049368227529, 0.013890309362847228, -0.026597906102341088, 0.0021338116071005697, 0.01763556724522966, -0.03408842186710596, 0.00027884106592465294, 0.018542314086505952, 0.002432775236176004, -0.010880961163992908, 0.01795095777482927, 0.0031210487009799863, -0.0010956523555986362, -0.0007170198422293495, -0.01537527155417441, 0.006265094550466395, -0.0039653745775499035, 0.007963602490486863, 0.008699512174014977, -0.01028303437150333, 0.01361434264944757, 0.0030668410701203764, -0.00274323743950465, -0.002265224250156858, -0.0007864221174224082, 0.0023670690310631827, -0.004468027535607342, -0.013745755059673213, 0.01445538281994975, -0.0032228934818863113, 0.014521089490723862, -0.006577199373998265, -0.008666659769950503, -0.026151102231193258, -0.03138132416754804, -0.002705456476338568, 0.004517307073026635, -0.002974852243264039, -0.015992909789102675, -0.004543589927600796, -0.1651593310032525, 0.006879448476310792, 0.018332054975202988, -0.027754336802442874, 0.023995936095789486, -0.0003942377254420496, 0.014783914311175147, 0.007851901522699904, -0.021683074695585915, -0.01070355445675442, 0.008541817840537756, -0.017228188121604364, 0.0044154627577816016, -0.022156160489985328, -0.02017183058100715, 0.01296385014780967, -0.005509472027515723, 0.01616374601552827, 0.04173663289667063, 0.028805636084248017, 0.03997570678591154, -0.04525849256876947, 0.01116349835820546, 0.01274701962437123, -0.0020500361140909965, -0.005502901546702828, -0.004960824772445438, 0.03866158082100994, -0.007753341982200027, -0.030435152578749215, 0.002378567605316394, -0.024902682937065778, -0.01792467585157769, 0.005157943387783902, -0.0006496709004979817, 0.015966627865851093, 0.028726788451848114, 0.0005884819591516869, -0.028385115998996926, 0.020408373478206857, 0.018700009351305755, 0.038057081685062305, -0.0054864748790093, -0.001569558994438369, -0.013075551115596629, -0.01893655224850546, 0.02014554865775557, -0.014153134183298513, -0.0035054304432682176, -0.0013190537090959388, 0.02055292591873571, -0.016282018395450702, -0.0006948440038245384, -0.0006578841761370844, 0.005355062468783658, -0.013929733179047178, 0.009251445600814291, 0.010329028668516177, -0.005650740624621999, -0.010138480068329316, -0.001658262464472936, -0.0170967766427013, 0.0008533604041029701, -0.016400288912727972, -0.0033362368370458474, -0.009350004675652878, -0.013108404450983685, 0.018397759783331937, -0.004540304687194349, -0.000612711131018189, 0.0069911489784364594, -0.014573654268549603, -0.023706829352086622, 0.0013946159846740707, -0.0022750802042068455, 0.02759664153764307, 0.016728820403953373, 0.004267623214201139, 0.015585531596799956, 0.004096786987775546, 0.00289271937045769, 0.009796807615478128, 0.004901689048145512, 0.01973816953413027, -0.00373211715358729, 0.013285811158222173, 0.006794030363097996, 0.0076482119608872546, -0.01488904479814921, -0.001379010743497477, 0.025664875475168054, -0.014271405631898366, -0.032117232919753574, 0.0009625970923391245, -0.0008320058757997708, 0.006879448476310792, -0.01028303437150333, -0.02967296004064694, 0.009777095241716863, -0.012957279666996776, -0.011084650725805558, 0.03440381239670556, -0.007917607262151434, 0.010979520238831494, 0.014915327652723371, 0.015086163879148965, -0.003787967404650124, -0.008476111169763644, 0.03511343922565952, -0.024403315219414787, -0.0021699501828940735, -0.019501626636930565, 0.00028520636473129826, 0.0070962789997492315, -0.007280256653461906, 0.014323970409724107, 0.02496838960783989, -0.0030109905862268976, 0.01532270584502609, -0.01488904479814921, 0.03866158082100994, -0.02022439442751031, -0.00283851173959808, 0.00461915185393296, -0.013509213093796088, -0.02368054556618988, -0.10986091278437939, -0.02754407582849475, 0.009671965686065381, 0.00277773339509493, -0.011235775509792467, 0.022497832942836513, -0.0042971913091817485, 0.03103964985205169, -0.03421983520865418, 0.019843299089781753, -0.0010537646090938498, 0.0012311715491629836, -0.008095014900712506, -0.011643154633417767, -0.011465746994856696, -0.014113710367098561, 0.011301481249243997, 0.00791103678133854, -0.01692594041627571, 0.033904444679054575, -0.006074546415940826, -0.018095512078003282, -0.005706591108515477, -0.01856859600975753, -0.009829660950865186, 0.015138728656974706, -0.011741713708256354, 0.01315439874799653, 0.015059881024574803, -9.399079205688906e-05, 0.018200641633654764, -0.034167271362151024, -0.0011186495041050591, -0.01852917312488016, 0.026965860478443855, 0.012149092831881652, -0.019422779004530665, -0.025572886881142363, 0.02679502425201826, -0.02071062118353551, -0.014126852260046932, -0.006846595140923736, -0.024521585736692057, -0.0015276711315182598, 0.0018677011969968687, -0.012812726295145342, 0.0008085980140348807, 0.03650641468560618, 0.02642706801327033, -0.01754357865120397, -0.03298455501350733, -0.002324359974456784, -0.06444472867610043, 0.006291376939379266, 0.03298455501350733, 0.020723764007806466, 0.002189662090994049, -0.033378795038152005, -0.006899160384410768, -0.0018233495201872467, -0.0057755825540347465, -0.015940345942599514, -0.019974710568684814, 0.018621161718905856, 0.015703803045399808, 0.0007564436584293004, -0.047387373055631336, -0.0085089645051507, -0.0025477612115387643, -0.015217576289374608, -0.001956404667031436, 0.034430094319957145, -0.0025822571671290442, 0.02191961759278562, -0.021564804178308642, -0.0036828373833373514, -0.019830158128155962, -0.025231214428291175, 0.0008706083236904486, -0.011064939283366873, -0.001464428856710274, -0.00134451490432252, 0.0028730074623577145, -0.02642706801327033, 0.0070765670916492565, -0.0028647941285109505, 0.008232997791751042, 0.017701273916003773, -0.015046740062949013, -0.024232478992989193, 0.012582753878758532, 0.005979272115847397, -0.005079096221045291, 0.001008591505767293, -0.005332065320277234, -0.008863777919627678, -0.017215047159978573, -0.0015087806499352189, 0.03461407150800853, 0.032800577825455944, -0.0118665556376691, -0.02048722111060676, -0.03038258686960089, -0.008830925515563203, -0.01117663931983125, -0.0013551921684741197, -0.004537018981126611, 0.01297699204075804, 0.00959311805366548, -0.00852210546677649, -0.014297688486472527, 0.012418488133145833, -0.012556471955506953, 0.003909524093656424, -0.025533463996264993, 0.0011022229528268538, -0.016781386113101694, -0.02772805301654613, 0.017898392065680946, -0.007299968561561882, 0.0298832191519499, 0.0010775830677018845, 0.009915079064077981, 0.0006771854291862539, 0.02754407582849475, 0.013864026508273066, -0.0011482173662550224, -0.00484912380465848, -0.016032334536625205, 0.03831990836815876, -0.003245890630392734, -0.008554958802163545, 0.02140710891350884, -0.03314225027830713, 0.0012377421463912013, 0.021157425054683345, -0.007477375734461661, 0.0037091200050808674, 0.03030373923720099, 0.022694951092513686, 0.01590092119507698, 0.02060549162788403, -0.025257496351542754, -0.027386380563694943, -0.010578712527341673, 0.008607523579989286, -0.035586525020058934, 0.0009675250693641183, -0.019961569607059023, -0.016768245151475902, 0.00827899208876389, 0.011308051730056893, 0.009731100944704016, -0.0023769249851131706, 0.011551165108069493, -0.005256502928283779, -0.004642149002439383, 0.006439216017298436, 0.01334494734818339, 0.0016048760272996153, -0.010506435375754665, -0.0030553422630365196, 0.02759664153764307, 0.008003025375364231, 0.011557735588882389, 0.006547631744678947, -0.023470286454886916, -0.013864026508273066, -0.012451341468532889, 0.03306340450855239, 0.008272421607950994, -0.015243859143948768, -0.023286309266835534, 0.005246647207064438, -0.012497335765545734, 0.0037222611995373026, 0.02416677232221508, -0.0006155857745814918, -0.014862761943575048, 0.004694714245926415, -0.03624358800250973, 0.032222364338050216, 0.009074037962253222, 0.013561777871621829, 0.010591853488967462, 0.02679502425201826, 0.027333814854546622, 0.009980784803529512, 0.0005227756376235429, -0.0030701263105268237, -0.004606010892307171, -0.0027563788667917307, 0.007240832837261955, 0.003324738262792636, 0.003508715683674665, 0.033983290448809315, 0.005440480581996454, 0.0044187479981880485, 0.010434158224167657, -0.0035744221216181316, 0.018726291274557338, 0.004898403807739064, 0.016689397519076003, -0.008870348400440571, 0.008081873007764135, 0.009330293233214194, -0.014954751468923323, 0.006978007551149379, -0.01633458224195386, -0.009093750336014488, -0.005414198193083584, 0.034324962901660504, 0.020329525845806953, 0.005105378609958162, -0.0032787437329491447, -0.002312861400203573, -0.02754407582849475, 0.032012101501456926, 0.01745159005717828, -0.014586796161497974, -0.025073519163491372, 0.014337112302672478, 0.010979520238831494, -0.01667625655745021, 0.05550867360488575, -0.025651734513542267, 0.04841239413947523, 0.021078577422283442, 0.01177456704364341, -0.0438917990320744, 0.022892071104836022, 0.008226427310938148, -0.016689397519076003, -0.0029879934377204744, 0.005190796723170958, -0.003065198217086507, -0.0013141257320709449, -0.022497832942836513, 0.00023284665249648437, 0.014271405631898366, 0.0006890947166979327, 0.05138231852212959, 0.0253626277698394, 0.002312861400203573, -0.0056080315680156, -0.010407876300916078, 0.011078080244992664, 0.009501129459639787, 0.022235008122385228, -0.010112197213755156, -0.015112445802400544, 0.00418549034139479, 0.007378816193961783, -0.0014323970642554753, -0.01792467585157769, -0.0074576638263616855, -0.019081106551679477, -0.026098536522044934, 0.02682130617526984, 0.004665146616607097, 0.00038027513357251054, 0.010933525941818649, -0.0220247471484371, 0.021026011713135118, 0.011478888887805067, 0.002703813623304699, 0.0038898121855564485, 0.013088692077222418, 0.0016516917508293957, -0.005502901546702828, -0.011137215503631299, 0.015191293434800445, 0.016465995583502084, -0.020000994354581556, -0.02097344786663196, 0.002334215928506772, 0.0017592858188623264, 0.009455135162626941, -0.005535754882089884, -0.0028565807946641865, 0.007733630074100052, 0.010710124937567315, 0.04436488482647381, -0.031013367928800106, -0.02624309082521895, -0.010723265899193105, 0.007345962858574727, -0.008318415904963839, -0.015532966818974215, -0.007444522399074605]\n",
      "[-0.032487623876938675, 0.0007885861095032903, 0.035362635334007186, -0.003218052258169611, 0.002843973967654409, 0.008076167785592161, 0.01395687202269857, 0.0015853399181074905, -0.05007746517665725, -0.029298976499685575, 0.032017168134016616, 0.026319420356770592, -0.035833091076929245, -0.01658358635842201, 0.001796881927837174, 0.02268645201107317, 0.027809197496905493, -0.00048393297030751344, 0.01653131308417619, -0.022255199361190303, -0.027547832988321554, 0.011931295684189155, -0.02451600357116075, -0.006847753757057315, 0.008736113216332738, -0.009644355768418388, 0.02049098753126483, -0.01994212187697404, -0.0043745907674470974, -0.018164843591132282, 0.012022773914119347, 0.00030792021883614077, -0.0018654901346235229, -0.009905720277002329, -0.003786520390302586, -0.014780170504134757, 0.013826189768406601, -0.0022624377497906254, 0.0101278798299019, -0.019314846311314512, 0.009258842233500618, 0.041243341433758775, -0.007612245270628245, -0.00039143438917015755, 0.019040413484169117, 0.0020223090260384044, 0.013270789954835082, -0.020085873381150053, -0.021052921504117077, 0.025025664269767173, 0.01590403938116184, 0.020020531788342774, -0.033585355185520256, 0.009716230589183807, -0.011637260379201576, -0.006132267972430551, -0.004557545830323596, 0.005397179709961603, 0.025561461605496508, -0.009957992619925563, -0.006341359672429962, 0.029560341008269514, -0.014427328696943215, 6.559639684671925e-05, 0.01249976381632213, -0.007056845457056726, -0.03136375593123418, 0.024908051265359245, 0.00771025719417787, -0.003106972248889178, -0.011323623527694402, 0.020687012309686666, -0.0001581460261034558, -0.007109118265641255, 0.036199003996650006, -0.018008023768394815, -0.0007183443628967594, 0.009036682680601047, -0.005403713869242331, 0.009128159979208648, 0.0035512920531802637, -0.022516563869774246, -0.028462609699687932, 0.048326321665293236, 0.01022589128779023, -0.003946606128527185, 0.006262950226722521, 0.009957992619925563, -0.009984129257048474, 0.012127319531288405, 0.010892371809134124, -0.012290672581984014, 0.013852326405529513, 0.008141508447076852, -0.015694946284178547, 0.007096049947079799, -0.0018654901346235229, 0.015198353904133578, 0.00786054146065073, -0.020634739035440844, -0.007579574474224605, 0.02922056658831684, -0.024790436398306144, -0.006194342019936172, -0.017681317667003593, 0.006220478657059084, 0.0020843830735440255, 0.014584147588358097, 0.01957621268254363, -0.0064753090063622955, -0.009396058647073316, 0.045817223127945485, -0.006886958247080389, -0.03431717729967143, 0.00373424734888741, 0.01633529016839953, -0.015119944924087431, -0.03042284444539007, -0.010408846816328024, -0.026450101679739973, 0.009892651958440872, 0.004831978657468992, 0.015276763815502314, -0.020817693632656047, 0.004956127218141528, -0.002058246669251761, -0.018491547829878326, -0.034552407033777634, -0.00834406645345683, -0.00016192355783379574, 0.021026784866994164, 0.036512639916834594, -0.004256976831716584, 0.00654065013350828, -0.019105755076976396, -0.0007122186467787388, -0.00528936701315218, -0.002612012943003098, -0.027966017319642964, -0.027992153956765877, 0.01762904439275777, 0.004645756514952129, -0.0013460279642653603, 0.003848594437808207, -0.001207994664367248, 0.01684495086700595, 0.010108277352059717, 0.01719779360552008, -0.0015052970489951912, 0.014897784439865272, 0.016178472208307235, -0.01496312603267255, -0.006756275992788419, 0.029351249773931398, 0.048875187319584026, 0.00597544908101567, 0.025692144791111066, 0.0023081763990944267, -0.009311115507746442, 0.004537943818142707, 0.01738074820273529, 0.008265656542088095, -0.005429850506365242, -0.008657704236286593, 0.02029496461548817, 0.011709136131289584, 0.014231304849843966, -0.023588158541232914, 0.012277604263422557, -0.006795480948472786, -0.0019340983414098717, 0.05817977053069492, -0.0037897872371123026, 0.016701201225475113, -0.015812561151231648, -0.01155885139915543, 0.014858580415503492, -0.0033144304090684065, -0.006017921116340401, -0.02378418331965475, -0.000608081181734079, 0.026894422648184296, 0.002473162989610218, 0.004567347069244688, -0.0196807573683901, 0.003155977977833343, 0.011304021049852217, -0.008494351185590982, -0.013316528138477588, 0.002732893958373976, -0.007899746416335096, 0.007553438302762988, -0.016374495124083895, -0.0026691863710481727, -0.6494388676956214, -0.011500043965628879, -0.017681317667003593, -0.0013648135557821294, -0.006605991260654265, 0.007024174660653086, -0.02009894169971151, -0.019079618439853483, 0.0008404507077557592, 0.01457107926979664, -0.016766542818282396, -0.007494631334897731, -0.008023894511346339, -0.008566226006356401, -0.022712586785550905, -0.024529071889722205, 0.0057238858113528215, -0.02532623373403548, -0.010637541459830913, -1.9704443113706118e-05, -0.03685241619943245, 0.011892091659827375, -0.009134694138489377, 0.01447960103986645, -0.014623351612719876, -0.004760103371042279, -0.007782132480604583, 0.0009041582950815621, 0.021993834852606364, 0.002665919291407809, -0.014884716121303815, 0.007233266360652497, 0.019314846311314512, -0.010415380975608752, 0.04516381092516305, -0.002729627111564259, -0.009807707887791409, 0.016792677592760128, 0.0008437177291884614, 0.03698309565975665, -0.03125921310803289, -0.010800893579203934, 0.003482683846393915, -0.011715670290570312, -0.005491924553870864, -0.01324465331771217, 0.006017921116340401, 0.02045178257558046, -0.008448612070625888, -0.019837577191127567, 0.0010446418465022856, 0.0019112289003426477, 0.003232753883720602, -0.012721924300544292, 0.0052926340927925445, 0.006112665494588367, 0.03470922313122475, -0.0029321846522829416, 0.02016428142987361, -0.012970220490566774, -0.012819935758432622, 0.011532714762032518, -0.02646316999830143, -0.009690093952060896, -0.013669370876991719, 0.028619427659780226, 0.004443198974233446, 0.0131139710634202, 0.0026414164269357265, -0.053736572022122765, 0.008651170077005865, 0.038080826968338234, 0.006458973608160476, -0.024306912336822632, 0.0036068321742358037, 0.04249789256507783, 0.002732893958373976, -0.009905720277002329, -0.008036962829907793, -0.0015681878664109033, 0.01158498803627834, 0.0016743672562307904, -0.011153736317718065, -0.016596654676983468, 0.005161951838500575, -0.004995331708164601, -0.00395967444708864, 0.013839258086968056, -0.013865394724090969, -0.004776438769244099, 0.013617097602745896, 0.01633529016839953, -0.032487623876938675, -0.052508157527926626, -0.01586483442547747, 0.02882852075676352, -0.013525620304138293, 0.011565385558436158, 0.03157284902821748, -0.034108084202688134, -0.02425463906257681, 0.004796041247086283, 0.008141508447076852, 0.0312330746082648, 0.01743302147698111, -0.0016792678756913364, 0.01594324247420103, -0.007978155396381243, 0.009219638209138839, -0.03301035289410655, 0.011539248921313246, 0.016322221849838073, -0.0036068321742358037, 0.021993834852606364, -0.0006174739774924635, -0.028044425368366523, 0.001235764724895018, 0.015172217267010667, 0.0161000622969385, -0.02262111041826589, 0.021706333706899512, -0.015080739968403065, 0.006004852797778945, -0.008814522196378885, 0.0058709034638466115, -0.007886678097773641, -0.013760848175599322, 0.0061878078606554445, -0.003018761564260645, -0.0023098099389146087, -0.007573040780605172, -0.026972830696907854, 0.021366559286946838, -0.007906280575615824, 0.01158498803627834, -0.0027802663803286063, 0.008775318172017106, -0.0009172265554353562, 0.02532623373403548, -0.0031298415735410783, -0.014388123741258849, -0.018530752785562692, 0.02077848867697168, -0.023379067306894798, -0.013773916494160777, -0.005420049267444151, 0.0034173427192479297, -0.0036231673396069767, 0.006717071502765346, -0.007501165494178459, -0.010056005009136481, -0.016021652385569764, 0.0033814050760345733, 0.03525808878551554, -0.013355733094161956, -0.003240921582821512, -0.026606921502477444, -0.03149443911684874, -0.013760848175599322, -0.04905814377944441, 0.011532714762032518, 0.04090356515116092, 0.0015641040168604483, 0.006945765214945646, -0.01515914894844921, -0.019589279138459908, 0.014453464402743539, 0.03617286735952709, -0.03988424375394808, -0.0456342666680851, -0.001143470307131354, -0.04613085904813007, 0.005465787916747952, 0.03685241619943245, -0.005740221209554641, 0.016126198934061413, -0.03374217500825773, 0.023509750492509356, -0.010781291101361749, -0.028645564296903136, -0.02945579445977787, -0.006697469024923162, 0.009598616653453292, 0.01830859323266312, 0.005668345923127928, 0.01726313519832736, 0.04025015667366884, -0.006507979802765935, -0.03324558262821276, 0.026763739462569738, 0.04255016583932365, 0.01029123288059751, -0.018870527205515367, 0.0023147105583751545, -0.005099877790994954, 0.012316809219106925, 0.03491831622820805, -0.0011834917998951654, -0.02022962302268089, 0.02060860239831793, 0.023013156249819214, 0.010193221422709179, 0.0036100992538761678, -0.01428357812408979, -0.016609722995544925, -0.03664332310244915, 0.010872769331291941, -0.02587509938832627, 0.016400631761206808, -0.006171472462453624, 0.0049495930588608, -0.030945573462557947, -0.007527301665640076, -0.02506486922545154, 0.00496919507104169, 0.018360866506908945, 0.010167084785586268, 0.010114811511340445, -0.03112852992241833, 0.006854287916338043, 0.012950618012724591, 0.0038224578006852954, 0.019340982948437422, -0.013734712469798998, 0.014897784439865272, 0.018204046684171474, 0.0039204694914042725, -0.005148883519939119, 0.004649023594592493, -0.03693082238551083, 0.014401192059820303, 0.021536447428245765, 0.01496312603267255, 0.022451222276966967, 0.005214224647085104, 0.017864274126863977, 0.00399561185747135, -0.01626994857559225, 0.049946781991042695, -0.021928493259799085, -0.007599176952066789, 0.0073900852520673785, 0.012963686331286048, -0.022973951294134844, 0.03724446203098577, -0.0019308312617695078, 0.030004661976713837, 0.007612245270628245, -0.016465973354014087, 0.010631007300550185, -0.007664518079212774, 0.012297206741264742, -0.005867636384206247, 0.0021513577405101922, -0.0005794944095038797, -0.016413700079768265, -0.011192941273402432, -0.0041099591792227936, 0.023091566161187946, 0.02573134974679543, -0.01924950658115241, 0.012656582707737011, 0.015511991686963341, -0.015015398375595785, 0.015851766106916017, -0.027939880682520055, 0.023744978363970385, -0.015760287876985826, -0.025535324968373595, -0.011709136131289584, -0.012414820676995255, -0.0008886397832051569, -0.01872677756398453, -0.005563799840297576, 0.03614673072240419, 0.0004582048927626326, 0.019171096669783675, 0.038289920065321524, 0.029847842153976366, 0.021680197069776603, -0.053579752199385294, -0.017027907326866334, 0.026502374953985795, 0.011356293392775453, -0.0034794167667535508, -0.027469424939597996, -0.037375145216600326, 0.00469149516425593, -0.019523939408297806, 0.005596470636701216, -0.0037473156674488655, 0.0025711746803291956, -0.017642112711319227, 0.01152618060275179, 0.0005823531041891981, -0.011500043965628879, 0.040171746762300106, 0.01113413383987588, 0.00274432873711525, -0.007213664348471607, 0.003036730502282647, 0.0006623960315091591, -0.010180153104147724, -0.023627363496917284, 0.026737602825446825, 0.0019014277778368793, -0.0005913375149925372, -0.009565945857049653, -0.022843269971165463, 0.005815363109960424, -0.004207970637111124, -0.025639871516865243, 0.0252608921412282, 0.006488377324923751, 0.0257705547024798, 0.004926723501378252, -0.005308969490994364, 0.024816573035429057, 0.022568837144020068, 0.00377345207174113, -0.0008045130645424028, -0.010565665707742906, -0.016309153531276616, 0.005913375033510048, 0.06325024460492659, 0.03361149182264317, -0.014584147588358097, 0.013460278711331014, -0.03044898108251298, -0.018230183321294384, -0.02694669405978494, 0.006900026565641844, 0.01918416498834513, -0.0039433390488868205, -0.031938758222647884, 0.01461028329415842, 0.009964526779206291, -0.011402032507740549, 0.00997106093848702, 0.007958553849861648, 0.004162231987807323, -0.01195089816203134, 0.002734527498194158, -0.023352930669771888, 0.014322782148451568, 0.004008680176032805, 0.03531036205976137, -0.017289271835450273, -0.01032390367700115, -0.009984129257048474, 0.02188928830411472, 0.02587509938832627, -0.003227853264260056, -0.02530009709691257, -0.0037995884760333946, 0.007520767506359349, -0.003538223967449455, 0.006939231521326212, -0.02506486922545154, 0.03363762845976608, 0.0017756460265901319, 0.018256319958417297, 0.013029027924093326, -0.004103425019942066, 0.014505737676989362, 0.014309713829890113, -0.00970316227062235, 0.027443288302475086, -0.022869406608288376, -0.003106972248889178, 0.0024061883226440513, 0.018138706954009372, -0.008742647375613467, -0.03551945515674466, 0.012349479084187976, 0.023261452439841696, -0.01964155241270573, -0.0022542700506897155, -0.011323623527694402, -0.007017640501372359, 0.010441517612731663, -0.010199755581989907, -0.009552877538488198, -0.00854008936923349, -0.020530192486949195, -0.040014926939562635, -0.00025707664117894736, 0.0048352457371093555, 0.008644635917725137, -0.02684214937393847, -0.018883595524076823, 0.011565385558436158, -0.033036489531229465, -0.0018083165901631242, -0.026737602825446825, -0.02856715624817958, -0.05457293695947523, -0.022372814228243408, 0.0033095297896078607, 0.024973390995521347, -0.0020043400880164026, -0.0035578262124609916, -0.021170536371170178, 0.0037309802692470457, -0.00970316227062235, 0.003940071969246456, -0.02665919291407809, -0.03465695358226928, 0.011160270476998793, 0.005344906901377074, -0.01493698939554964, -0.017576772981157125, -0.021431900879754117, 0.018190978365610018, -0.008592362643479312, 0.0013713475986475339, -0.0019945388490953107, 0.008389804637099336, 0.009115091660647192, 0.006730139355665507, 0.012911413057040223, 0.00508027531315277, 0.021667128751215146, -0.007331278284202122, 0.012225330989176735, 0.003229486804080238, -0.011944364002750611, -0.0064524394488797475, -0.0027590305954968875, -0.0007657167266437279, 0.013734712469798998, 0.009487536877003508, 0.026894422648184296, 0.0004990430972288732, 0.015773356195547282, -0.008330998134895374, 0.045529720119593456, 0.004502005942098704, 0.027417151665352173, 0.007742927524920215, 0.013878463042652424, 0.020987581773954975, 0.02694669405978494, -0.016126198934061413, -0.009964526779206291, -0.022490427232651333, 0.010702882121315604, -0.005093343631714226, -0.0206478073540023, 0.0036100992538761678, 0.0004757653294142653, -0.018073365361202093, -0.03470922313122475, 0.010840098534888301, -0.008690374101367644, 0.02571828142823398, -0.004943058899580072, -0.0008772050626715449, -0.042341072742340356, -0.009670491474218711, -0.014492669358427907, 0.0072986074877984825, -0.03029216312242069, -0.022019971489729277, 0.01762904439275777, 0.001484061147748149, 0.005586669397780124, -0.015289831202741182, 0.018256319958417297, -0.03152057575397165, -0.028096698642612345, 0.009624753290576205, 0.004590216626727236, 0.01395687202269857, 0.0020125077871173125, 0.023797251638216207, -0.030788755502465657, -0.029063748628224546, 0.006860822075618772, -0.02060860239831793, 0.0011753241007942555, 0.012963686331286048, 0.02386259136837831, 0.027103513882522412, 0.04618313232237589, -0.021248946282538914, 0.010343506154843333, 0.0020337435719490313, -0.016060857341254134, -0.001876924796949473, 0.0023833187651615033, -0.007925883053458009, -0.014113690914113452, -0.008742647375613467, 0.01927564321827532, -0.0248035047168676, 0.02587509938832627, -0.008638101758444408, 0.02642396504261706, 0.025169415773943184, 0.007984689555661971, -0.012316809219106925, -0.019419392859806157, -0.021052921504117077, -0.00866423839556732, 0.030997846736803773, -0.006795480948472786, 0.010474188409135303, -0.008906000426309076, 0.006589655862452445, 0.014296646442651245, 0.007605711111347517, -0.001630261913916524, 0.01583869778835456, 0.013022493764812598, 0.007154856914945057, -0.027704652811059025, -0.0015224491006917784, 0.014074485958429086, -0.0496070094337352, 0.0023571823608692388, -0.045529720119593456, 0.020072805062588597, 0.022712586785550905, 0.008716510738490555, -0.008912534585589804, 0.04207970637111124, 0.002180761224442821, -0.02513021081825882, -0.006191074940295808, -0.028802384119640607, -0.0220722447639751, 0.0013198914435577722, -0.013166244337666024, -0.012833004076994076, -0.021013716548432707, 0.00801736035206561, -0.00831139565705319, -0.006194342019936172, 0.015237558859817946, -0.005090076552073862, 0.013342664775600501, -0.022059176445413643, -0.013904598748452747, 0.022477358914089876, 0.020216554704119434, 0.03363762845976608, 0.004557545830323596, 0.023967137916869958, 0.005465787916747952, 0.03290581007090526, -0.014440397015504671, -0.012937549694163135, 0.0009605150696318697, 0.008036962829907793, 0.028462609699687932, 0.009618219131295477, -0.0022559035905098976, -0.018452344736839134, 0.006155137529913098, 0.00228040645498198, -0.031023983373926683, -0.047777456011002445, 0.005570333999578304, 0.013342664775600501, -0.004067487143898063, -0.03575468489085087, -0.01165686285704376, -0.009618219131295477, 0.0057532890624548035, -0.0002815795638586917, 0.0037375144285277735, 0.02022962302268089, 0.0018344531108707123, -0.023980206235431414, 0.026188737171156034, 0.006723605662046074, 0.01048072256841603, -0.03031829789689842, 0.00470783056245775, 0.002233034265857997, -0.014453464402743539, -0.009219638209138839, 0.018674504289738707, 0.003776719151381494, 0.035048999413822605, -0.011696067812728127, 0.015146081561210344, 0.026437033361178516, 0.01704097564542779, -0.00457714830816578, 0.003044898201383557, -0.006893492406361117, 0.02830579173959564, -0.012989822968408959, -0.02226826767975176, -0.0049299905810186164, -0.004113226258863158, -0.005812096495981354, -0.01863529933405434, -0.0015338837630177289, -0.023300657395526062, -0.00782787066424709, 0.01474096554845039, 0.025169415773943184, -0.009696628111341624, -0.0009662324007948449, 0.008683839942086916, 0.017746659259810872, -0.026972830696907854, 0.021444969198315574, -0.006374030468833601, 0.023980206235431414, -0.019197233306906585, -0.006880424087799661, -0.019889848602728216, -0.0075861086335053335, -0.0007616329353009347, -0.007854007301370002, -0.012708855981982835, 0.011356293392775453, 0.03204330477113953, -0.03167739557670912, -0.01204237639196153, -0.015394377751232828, 0.007925883053458009, -0.011944364002750611, -0.006677866547080978, -0.0010960980015920472, 0.004812376645288103, 0.032383081053737384, -0.027155787156768234, -0.00696536769278783, -0.020007463469781318, 0.0016776343358711544, 0.008010826192784882, 0.00012200419768853437, 0.007501165494178459, 0.002909315094800394, -0.005844766826723699, 0.003779986231021858, -0.005531129043893936, 0.012774196643467526, 0.012872209032678444, -0.008402872955660792, -0.01700177068974342, 0.01220572851133455, -0.026894422648184296, -0.0036787074606625166, -0.0025189016389140194, 0.0035545591328206274, -0.015825629469793105, -0.0359637742625438, -0.004034816813155717, -0.006073461004565294, 0.005308969490994364, -0.001397484119355122, -0.0036689062217414247, -0.007141789062044895, 0.011728738609131767, -0.007592642792786062, -0.010611404822708, -0.004867916533512996, -0.018034160405517724, 0.018569957741247062, 0.024071684465361603, 0.0020533460497912147, 0.008657704236286593, -0.008154576765638308, 0.0007963454236491547, -0.01298328880912823, -0.0023277788769366105, -0.04145243080545171, -0.010748621236280698, -0.023849523049816853, 0.028018290593888787, 0.010088674874217532, -0.010049470849855755, -0.007801734492785472, -0.01090544012769558, -0.05457293695947523, 0.02409781923983934, -0.0059427787502733245, 5.620360836429238e-05, -0.008455146229906615, 0.03943992464814893, -0.027547832988321554, 0.013329596457039045, -0.003724446109966318, 0.005204423408164012, -0.022033039808290734, -0.00957901417561111, -0.011892091659827375, 0.010415380975608752, 0.015315967839864093, 0.0009613318395419607, -0.022059176445413643, -0.012068512097761852, 0.01204237639196153, -0.008036962829907793, 0.004805842486007374, 0.013617097602745896, -0.0017870808053314056, -0.001482427607927967, 0.003538223967449455, 0.009853447002756505, 0.020504055849826286, -0.0033944733945960293, 0.015694946284178547, -0.014767102185573302, -0.021784743618268248, 0.006223745736699447, -0.031076256648172505, -0.030814892139588566, -0.0077298592063587595, -0.011970500639873522, 0.0052436283638483796, 0.002674086990508719, -0.018818253931269544, 0.008298327338491734, -0.0011532715460524459, -0.0084747487077488, 0.016191540526868692, 0.010526460752058538, 0.010441517612731663, 0.02885465739388643, -0.015812561151231648, 0.011127599680595152, -0.0010683279410642773, -0.0007947118838289727, -0.01447960103986645, 0.010990383267022454, -0.0004998598671389642, -0.011088394724910786, -0.013734712469798998, -0.0045706141488850525, 0.011787545111335729, -0.014440397015504671, 0.009533275060646013, -0.01795575049414899, 0.010167084785586268, 0.0005435567662905232, 0.032931946708028174, -0.01677960927419867, -0.002643049966755908, 0.012643514389175556, 0.008213384199164859, -0.0042308401945936715, -0.020268827978365257, -0.004733967199580661, 0.02948193109690078, -0.03327171926533567, 0.02077848867697168, -0.007265937157056136, -0.005779425699577715, -0.04126947807088169, -0.0179818871312719, 0.028018290593888787, -0.029612614282515336, 0.011794079270616457, 0.19832349118644915, -0.03384672155674937, 0.0008000208300369023, -0.0026087458633627337, 0.002794968238710244, 0.003159245057473707, 0.035728548253727954, -0.005099877790994954, -0.0003708110944595145, -0.001986371382825048, 0.01671426954403657, 0.005916642113150412, -0.009324183826307897, -9.871364601620817e-06, -0.0015869734579276723, -0.0063805641624530346, -0.006455706528520112, -0.027992153956765877, 0.01457107926979664, 0.025012595951205717, 0.0001384415829897497, 0.0031396428124621702, 0.01613926725262287, -0.013316528138477588, 0.04184448036229539, -0.00027749574341206764, -0.0074619605384940915, 0.006347893831710689, 0.02051712416838774, 0.011963966480592794, -0.01927564321827532, -0.004848314055670812, 0.013630165921307351, 0.009141228297770105, -0.010591802344865817, 0.0052926340927925445, 0.021209741326854548, -0.0020549795896113968, 0.025051800906890083, 0.0325398971511845, 0.018426208099716224, -0.009376456169231133, 0.008618499280602225, -0.020726215402725855, 0.010114811511340445, 0.02032110125261108, -0.008507419504152439, -0.015851766106916017, 0.012003171436277162, 9.6735545942122e-05, -0.007024174660653086, 0.005981983240296397, 0.0030056934785298367, 0.026084190622664385, 0.0026267145685540884, 0.011434703304144188, -0.017772795896933785, 0.024267707381138263, 0.017093247057028436, -0.0030677675260354577, -0.036591049828203326, 0.0038779979217408353, -0.004668626072434677, 0.01986371382825048, -0.00161556017195021, 0.006507979802765935, 0.004136095350684411, -0.021993834852606364, 0.011813681748458642, 0.018360866506908945, -0.012486695497760674, -0.004018481414953897, -0.02158871883984641, -0.010297767039878237, -0.012068512097761852, -0.030344434534021334, 0.04043310940823887, 0.024581345163968028, 0.007442358060651908, 0.01347334702989247, -0.024751231442621778, -0.011349759233494724, -0.027704652811059025, -0.00707644793489891, -0.014950057714111094, -0.0373228719423545, 0.025979645936817918, -0.03625127727089583, -0.02016428142987361, 0.007984689555661971, -0.004051152211357537, -0.017054042101344067, -0.016740406181159483, -0.0062008761792169, 0.004034816813155717, -0.002973022914956844, 0.017707454304126506, 0.021575650521284954, -0.0026365158074751803, -0.023718841726847472, -0.028488746336810845, 0.030579662405482363, 0.02158871883984641, 0.0344739971224089, 0.02856715624817958, 0.008906000426309076, -0.032304671142368645, 0.021484174153999943, -0.007396619411348107, 0.01133015768697513, -0.0016212775613208468, -0.034813769679716396, 0.007553438302762988, -0.0066190595792157214, -0.012950618012724591, 0.006749741833507691, 0.014584147588358097, -0.013355733094161956, 0.02041257948254127, 0.00014017720449677762, -0.009141228297770105, -0.005612805569241742, -0.0004786239949957529, 0.013336130616319773, 0.001064244207929146, -0.029298976499685575, -0.009062819317723958, 0.013127039381981656, -0.024346117292506998, 0.0013256088329284092, 0.02093530849970915, -0.03486604295396222, -0.00023747427975208716, 0.021013716548432707, -0.003085736231226812, -0.010363107701362928, 0.018021092086956268, 0.009748901385587446, 0.0008902733230253389, 0.0009368289168622164, -0.015642673009932724, 0.0075142333470786206, -0.0023800516855211396, 0.012231865148457463, 0.011199475432683159, -0.009200035731296656, 0.01623074361990788, 0.004652290674232857, -0.0078082686520662, -0.0030841026914066303, 0.0010446418465022856, 0.0023816852253413217, -0.0004810743047260259, -0.01811257031688646, 0.014806307141257668, -0.006648463295978997, 0.01697563405262051, -0.005305702411354, -0.004910388103176433, -0.02786147077115132, -0.03204330477113953, -0.004910388103176433, 0.003711378024235509, 0.0011230511757944028, -0.012088114575604037, -0.005191355089602556, -0.16382335370162698, 0.00925230807421989, 0.01987678028416676, -0.028018290593888787, 0.025626803198303787, 0.0011532715460524459, 0.016374495124083895, 0.006570053850271556, -0.016283016894153703, -0.012003171436277162, 0.007357414921325033, -0.016792677592760128, 0.004675160231715405, -0.023771115001093298, -0.019602347457021364, 0.014009145296944393, -0.006730139355665507, 0.01548585504984043, 0.03792401087089112, 0.03125921310803289, 0.037897874233768204, -0.03998879030243972, 0.01084663269416903, 0.012525900453445041, -0.0014497570443549746, -0.0023751512988912406, -0.007024174660653086, 0.04150470407969754, -0.011310555209132945, -0.030945573462557947, -0.0036983097056740534, -0.024685889849814496, -0.017550636344034212, 0.005883971316746773, -0.002228133646397451, 0.01308130026701656, 0.02937738641105431, 0.0016294451440064333, -0.029821705516853453, 0.02266031537395026, 0.017681317667003593, 0.03847287652518191, -0.006690934865642434, -0.0015150981715009596, -0.014884716121303815, -0.017994955449833358, 0.019301779855398233, -0.017067110419905523, -0.006945765214945646, -4.206337388329251e-05, 0.020987581773954975, -0.015851766106916017, -0.003956407367448276, 0.0015600201673099932, 0.007180993552067968, -0.012094648734884765, 0.011839818385581553, 0.010546063229900721, -0.006347893831710689, -0.009925322754844512, 0.00034099919646800965, -0.01785120580830252, 0.0007971621353515839, -0.018713709245423073, -0.005001865867445329, -0.011513112284190333, -0.014492669358427907, 0.01697563405262051, -0.007795200333504744, -0.002300008932824164, 0.010121345670621172, -0.01684495086700595, -0.027181923793891144, 0.00364276981744916, -0.0018785583367696551, 0.024751231442621778, 0.01758984129971858, 0.004430130655671991, 0.020138146655395876, 0.003343833893001035, 0.007396619411348107, 0.009768503863429631, 0.0038779979217408353, 0.01951087108973635, -0.0018295524914101664, 0.012800333280590437, 0.005406980948882694, 0.006001585718138581, -0.01994212187697404, 0.0033274987276298625, 0.026972830696907854, -0.011970500639873522, -0.0338989948309952, 0.002291841233723254, 0.0005149700522679857, 0.00470783056245775, -0.008448612070625888, -0.0289592020797329, 0.008566226006356401, -0.0063282913538685055, -0.007814803277008222, 0.03405581465373267, -0.006409967879216311, 0.010546063229900721, 0.011408566667021275, 0.013551756941261206, -0.003855128597088935, -0.006269484386003249, 0.030893300188312125, -0.023457477218263533, -0.004671893152075041, -0.020530192486949195, 0.0021382894219487366, 0.0066190595792157214, -0.0069065607249225724, 0.01815177527257083, 0.023627363496917284, -0.005867636384206247, 0.012480161338479945, -0.01572108292130146, 0.04176607045092665, -0.021327354331262472, -0.00603752312852129, 0.004423596496391262, -0.013590961896945572, -0.02482964135399051, -0.1108186112442361, -0.02262111041826589, 0.008350600612737557, 0.0029599545963953883, -0.010925041674215175, 0.021327354331262472, -0.0021513577405101922, 0.02856715624817958, -0.027809197496905493, 0.02279099669691964, -0.0012676185185579196, -0.0017642113642641814, -0.009722764748464535, -0.013551756941261206, -0.01360402928418444, -0.012088114575604037, 0.01142816914486346, 0.010336971995562605, -0.014009145296944393, 0.0338989948309952, -0.008494351185590982, -0.016413700079768265, -0.007788666174224016, -0.0169494974154976, -0.009219638209138839, 0.01951087108973635, -0.012525900453445041, 0.014453464402743539, 0.016596654676983468, 0.006289086863845433, 0.01909268675841494, -0.03259217042543032, 0.0004279846098160822, -0.018739845882545986, 0.028933065442609988, 0.015877902744038927, -0.018060297042640637, -0.02336599898833334, 0.02460748180109094, -0.020948376818270605, -0.015394377751232828, -0.0043517212099645495, -0.02532623373403548, -0.0030628669065749115, 0.0027720986812276964, -0.010683279643473419, 0.0008780218325816358, 0.035441045245375925, 0.02353588526698709, -0.021026784866994164, -0.035650138342359215, -0.005034536663848969, -0.06528888739935229, 0.005544197362455393, 0.028933065442609988, 0.015773356195547282, 0.0017135719790845108, -0.03361149182264317, -0.006481843165643024, -0.0014709928291866932, -0.00405768590497697, -0.010363107701362928, -0.021209741326854548, 0.022542700506897155, 0.01314664185982384, -0.0031233074142603505, -0.045608130030962195, -0.007056845457056726, 0.0017413419231969574, -0.015917107699723296, -0.003701576785314417, 0.03920469491404273, -0.005815363109960424, 0.023222249346802507, -0.02200690317116782, -0.002610379403182916, -0.016113130615499956, -0.02596657761825646, 0.001327242372748591, -0.014179031575598144, -0.0031543444380131612, -0.00098991861177216, -0.0005149700522679857, -0.025744418065356888, 0.007723325047078031, -0.0032637909074734123, 0.00912162581992792, 0.016505176447053276, -0.012813401599151893, -0.02418929746976953, 0.011892091659827375, 0.006259683147082157, -0.007180993552067968, -0.003580695537112892, -0.006900026565641844, -0.009944924301364108, -0.017772795896933785, -2.341817015178849e-05, 0.03191262158552497, 0.03656491319108042, -0.013166244337666024, -0.022764860059796728, -0.03259217042543032, -0.011140667999156608, -0.009690093952060896, -0.0009188600952555381, -0.005116212723535479, 0.010493790886977487, 0.010513392433497082, -0.012035842232680801, -0.010663677165631236, 0.0119182273656277, -0.013943803704137114, 0.0007199779027169414, -0.022960884838218565, 0.0006170655925374181, -0.016505176447053276, -0.025796689476957534, 0.023457477218263533, -0.007520767506359349, 0.03269671697392197, 0.0011818582600749835, 0.00954634337920747, -0.00049495930588608, 0.03018761657392904, 0.015054603331280152, 0.002236301345498361, 0.0010315735279408298, -0.013342664775600501, 0.0367478696509408, -0.005207690487804376, -0.009494071036284236, 0.017903477219903166, -0.03335012917670441, 0.0021235877963977456, 0.024045547828238693, -0.0073182099656406655, 0.0036950426260336892, 0.02720805856836888, 0.019236438262590954, 0.011343226005536585, 0.02093530849970915, -0.02364043181547874, -0.02541771196396567, -0.009951458460644835, 0.008056565307749978, -0.040067200213808454, -0.0005451903061107052, -0.013983008659821482, -0.015890971062600383, 0.008278724860649551, 0.010631007300550185, 0.012846072395555533, 0.0006824067778910647, 0.008520487822713895, -0.0006623960315091591, -0.007749461684200943, 0.007455426379213363, 0.015054603331280152, -0.002919116333721486, -0.009043216839881773, -0.0041066920995824294, 0.025587598242619417, 0.011473908259828554, 0.011212542819922027, 0.007899746416335096, -0.025443848601088583, -0.013708575832676087, -0.008801454809140017, 0.030553527631004627, 0.012349479084187976, -0.016322221849838073, -0.023392135625456254, 0.007180993552067968, -0.010885837649853396, 0.003940071969246456, 0.022516563869774246, -0.0006611708766440226, -0.021627923795530777, 0.0025613734414081037, -0.03272285361104488, 0.033585355185520256, 0.010840098534888301, 0.012806867439871165, 0.01285914071411699, 0.02720805856836888, 0.02919442995119393, 0.013035561152051466, -0.0015649207867705392, -0.005295901172432909, -0.00519462216924292, -8.034920876028736e-05, 0.004096890860661338, 0.0058709034638466115, 0.007912814734896552, 0.037218325393862856, 0.008317929816333917, 0.004495471782817975, 0.011937829843469883, 0.002917482793901304, 0.021497242472561396, 0.0028015021651603246, 0.017642112711319227, -0.007448892219932636, 0.006971901852068557, 0.007377016933505923, -0.015185285585572124, 0.0035578262124609916, -0.017459158114104024, -0.005322037343894526, -0.007448892219932636, 0.032017168134016616, 0.01739381652129674, 0.0032654244472935944, -0.003946606128527185, -0.0025777088396099234, -0.02788760740827423, 0.028358063151196287, 0.01204237639196153, -0.018360866506908945, -0.02584896275120336, 0.012512832134883587, 0.011356293392775453, -0.01662279131410638, 0.06016614005087479, -0.02515634745538173, 0.04997291862816561, 0.021092126459801443, 0.01155885139915543, -0.04239334601658618, 0.017250066879765907, 0.010572199867023633, -0.018086433679763547, -0.0024045547828238692, 0.0011965600020412976, 0.0005002682520940096, -0.002373517759071059, -0.02731260511686053, -0.0028750109914072197, 0.010428449294170208, -0.003044898201383557, 0.050103601813780166, 0.029298976499685575, 0.0006256416183857117, -0.008879863789186164, -0.004384392006368189, 0.014061417639867629, 0.010506858274216354, 0.02285633828972692, -0.012277604263422557, -0.02093530849970915, 0.0027181923328229852, 0.011251747775606395, -0.0026495841260366364, -0.019484734452613436, -0.014244373168405423, -0.02145803751687703, -0.024947254358398438, 0.024502935252599292, 0.005348173981017438, -0.0026087458633627337, 0.008899466267028349, -0.025927372662572095, 0.02045178257558046, 0.013140107700543111, 0.00248296422853131, 0.0032621573676532302, 0.013996076978382939, 0.001149187696501991, -0.00801736035206561, -0.011565385558436158, 0.017106315375589893, 0.01830859323266312, -0.01951087108973635, -0.021118263096924356, -0.00024074134484053567, -0.0016972366972980147, 0.011382430029898364, -0.00407402130317879, -0.0017642113642641814, 0.010787825260642477, 0.009226172368419567, 0.04231493610521744, -0.029011475353978723, -0.03018761657392904, -0.012676185185579196, 0.0091869674127352, -0.009683559792780167, -0.015812561151231648, -0.008775318172017106]\n"
     ]
    }
   ],
   "source": [
    "# Usage example to get embedding of the answer of the first prompt candidate\n",
    "embedding_a = get_embedding(answer_a, embedding_model=embedding)\n",
    "embedding_b = get_embedding(answer_b, embedding_model=embedding)\n",
    "\n",
    "print(embedding_a)\n",
    "print(embedding_b)"
   ]
  },
  {
   "cell_type": "markdown",
   "metadata": {},
   "source": [
    "#### Using cosine similarity"
   ]
  },
  {
   "cell_type": "code",
   "execution_count": 187,
   "metadata": {},
   "outputs": [],
   "source": [
    "def cosine_similarity(a: np.ndarray, b: np.ndarray):\n",
    "    \"\"\"Calculates the cosine similarity between two vectors.\"\"\"\n",
    "    return np.dot(a, b) / (np.linalg.norm(a) * np.linalg.norm(b))"
   ]
  },
  {
   "cell_type": "markdown",
   "metadata": {},
   "source": [
    "###### Get the cosine similarity between embedding a and b"
   ]
  },
  {
   "cell_type": "code",
   "execution_count": 201,
   "metadata": {},
   "outputs": [
    {
     "name": "stdout",
     "output_type": "stream",
     "text": [
      "0.9954143429715805\n"
     ]
    }
   ],
   "source": [
    "similarity = cosine_similarity(embedding_a, embedding_b)\n",
    "print(similarity)"
   ]
  },
  {
   "cell_type": "markdown",
   "metadata": {},
   "source": [
    "## Get the scores and the winner between two prompts"
   ]
  },
  {
   "cell_type": "code",
   "execution_count": 203,
   "metadata": {},
   "outputs": [],
   "source": [
    "def get_score(test_case, prompt_a, prompt_b, model, embedding_model, retreiver):\n",
    "    \"\"\"Calculates the score for a prompt comparison using either human judgment or embedding similarity.\"\"\"\n",
    "    answer_a = asyncio.run(getGeneration(prompt_a, test_case, model, retreiver))\n",
    "    answer_b = asyncio.run(getGeneration(prompt_b, test_case, model, retreiver))\n",
    "\n",
    "    if not test_case.expected_output.strip():  # No expected output, rely on human judgment\n",
    "        print(f\"Test Case: {test_case.scenario}\")\n",
    "        print(f\"Option A: {answer_a}\")\n",
    "        print(f\"Option B: {answer_b}\")\n",
    "\n",
    "        winner = input(\"Which answer is better? (A/B/draw): \").upper()\n",
    "        while winner not in ['A', 'B', 'DRAW']:\n",
    "            winner = input(\"Invalid input. Please enter A, B, or draw: \").upper()\n",
    "\n",
    "        return 1 if winner == 'A' else 0 if winner == 'B' else 0.5\n",
    "\n",
    "    else:  # Use embeddings to calculate similarity\n",
    "        embedding_a = get_embedding(answer_a, embedding_model)\n",
    "        embedding_b = get_embedding(answer_b, embedding_model)\n",
    "        embedding_expected = get_embedding(test_case.expected_output, embedding_model)\n",
    "\n",
    "        score_a = cosine_similarity(embedding_a, embedding_expected)\n",
    "        score_b = cosine_similarity(embedding_b, embedding_expected)\n",
    "\n",
    "        # Handle ties and near-ties\n",
    "        if abs(score_a - score_b) < 0.1:  # Adjust threshold as needed\n",
    "            return 0.5  # Draw\n",
    "\n",
    "        return 1 if score_a > score_b else 0  # Return 1 if A wins, 0 if B wins\n"
   ]
  },
  {
   "cell_type": "code",
   "execution_count": 207,
   "metadata": {},
   "outputs": [
    {
     "ename": "TypeError",
     "evalue": "An asyncio.Future, a coroutine or an awaitable is required",
     "output_type": "error",
     "traceback": [
      "\u001b[0;31m---------------------------------------------------------------------------\u001b[0m",
      "\u001b[0;31mTypeError\u001b[0m                                 Traceback (most recent call last)",
      "Cell \u001b[0;32mIn[207], line 12\u001b[0m\n\u001b[1;32m      9\u001b[0m prompt_b \u001b[38;5;241m=\u001b[39m candidates[\u001b[38;5;241m4\u001b[39m]  \u001b[38;5;66;03m# Choose the second prompt candidate\u001b[39;00m\n\u001b[1;32m     11\u001b[0m \u001b[38;5;66;03m#Get scores\u001b[39;00m\n\u001b[0;32m---> 12\u001b[0m score \u001b[38;5;241m=\u001b[39m \u001b[43mget_score\u001b[49m\u001b[43m(\u001b[49m\u001b[43mgenerated_test_cases\u001b[49m\u001b[43m[\u001b[49m\u001b[38;5;241;43m0\u001b[39;49m\u001b[43m]\u001b[49m\u001b[43m,\u001b[49m\u001b[43m \u001b[49m\u001b[43mprompt_a\u001b[49m\u001b[43m,\u001b[49m\u001b[43m \u001b[49m\u001b[43mprompt_b\u001b[49m\u001b[43m,\u001b[49m\u001b[43m \u001b[49m\u001b[43mmodel\u001b[49m\u001b[43m,\u001b[49m\u001b[43m \u001b[49m\u001b[43membedding_model\u001b[49m\u001b[43m,\u001b[49m\u001b[43m \u001b[49m\u001b[43mretriever\u001b[49m\u001b[43m)\u001b[49m\n\u001b[1;32m     14\u001b[0m \u001b[38;5;28mprint\u001b[39m(\u001b[38;5;124m\"\u001b[39m\u001b[38;5;124mScores:\u001b[39m\u001b[38;5;124m\"\u001b[39m, score)\n",
      "Cell \u001b[0;32mIn[203], line 3\u001b[0m, in \u001b[0;36mget_score\u001b[0;34m(test_case, prompt_a, prompt_b, model, embedding_model, retreiver)\u001b[0m\n\u001b[1;32m      1\u001b[0m \u001b[38;5;28;01mdef\u001b[39;00m \u001b[38;5;21mget_score\u001b[39m(test_case, prompt_a, prompt_b, model, embedding_model, retreiver):\n\u001b[1;32m      2\u001b[0m \u001b[38;5;250m    \u001b[39m\u001b[38;5;124;03m\"\"\"Calculates the score for a prompt comparison using either human judgment or embedding similarity.\"\"\"\u001b[39;00m\n\u001b[0;32m----> 3\u001b[0m     answer_a \u001b[38;5;241m=\u001b[39m \u001b[43masyncio\u001b[49m\u001b[38;5;241;43m.\u001b[39;49m\u001b[43mrun\u001b[49m\u001b[43m(\u001b[49m\u001b[43mgetGeneration\u001b[49m\u001b[43m(\u001b[49m\u001b[43mprompt_a\u001b[49m\u001b[43m,\u001b[49m\u001b[43m \u001b[49m\u001b[43mtest_case\u001b[49m\u001b[43m,\u001b[49m\u001b[43m \u001b[49m\u001b[43mmodel\u001b[49m\u001b[43m,\u001b[49m\u001b[43m \u001b[49m\u001b[43mretreiver\u001b[49m\u001b[43m)\u001b[49m\u001b[43m)\u001b[49m\n\u001b[1;32m      4\u001b[0m     answer_b \u001b[38;5;241m=\u001b[39m asyncio\u001b[38;5;241m.\u001b[39mrun(getGeneration(prompt_b, test_case, model, retreiver))\n\u001b[1;32m      6\u001b[0m     \u001b[38;5;28;01mif\u001b[39;00m \u001b[38;5;129;01mnot\u001b[39;00m test_case\u001b[38;5;241m.\u001b[39mexpected_output\u001b[38;5;241m.\u001b[39mstrip():  \u001b[38;5;66;03m# No expected output, rely on human judgment\u001b[39;00m\n",
      "File \u001b[0;32m~/code/10Academy-training/week7/Prompt-Tuning-Enterprise-RAG/.venv/lib/python3.9/site-packages/nest_asyncio.py:28\u001b[0m, in \u001b[0;36m_patch_asyncio.<locals>.run\u001b[0;34m(main, debug)\u001b[0m\n\u001b[1;32m     26\u001b[0m loop \u001b[38;5;241m=\u001b[39m asyncio\u001b[38;5;241m.\u001b[39mget_event_loop()\n\u001b[1;32m     27\u001b[0m loop\u001b[38;5;241m.\u001b[39mset_debug(debug)\n\u001b[0;32m---> 28\u001b[0m task \u001b[38;5;241m=\u001b[39m \u001b[43masyncio\u001b[49m\u001b[38;5;241;43m.\u001b[39;49m\u001b[43mensure_future\u001b[49m\u001b[43m(\u001b[49m\u001b[43mmain\u001b[49m\u001b[43m)\u001b[49m\n\u001b[1;32m     29\u001b[0m \u001b[38;5;28;01mtry\u001b[39;00m:\n\u001b[1;32m     30\u001b[0m     \u001b[38;5;28;01mreturn\u001b[39;00m loop\u001b[38;5;241m.\u001b[39mrun_until_complete(task)\n",
      "File \u001b[0;32m/usr/lib/python3.9/asyncio/tasks.py:677\u001b[0m, in \u001b[0;36mensure_future\u001b[0;34m(coro_or_future, loop)\u001b[0m\n\u001b[1;32m    675\u001b[0m     \u001b[38;5;28;01mreturn\u001b[39;00m ensure_future(_wrap_awaitable(coro_or_future), loop\u001b[38;5;241m=\u001b[39mloop)\n\u001b[1;32m    676\u001b[0m \u001b[38;5;28;01melse\u001b[39;00m:\n\u001b[0;32m--> 677\u001b[0m     \u001b[38;5;28;01mraise\u001b[39;00m \u001b[38;5;167;01mTypeError\u001b[39;00m(\u001b[38;5;124m'\u001b[39m\u001b[38;5;124mAn asyncio.Future, a coroutine or an awaitable is \u001b[39m\u001b[38;5;124m'\u001b[39m\n\u001b[1;32m    678\u001b[0m                     \u001b[38;5;124m'\u001b[39m\u001b[38;5;124mrequired\u001b[39m\u001b[38;5;124m'\u001b[39m)\n",
      "\u001b[0;31mTypeError\u001b[0m: An asyncio.Future, a coroutine or an awaitable is required"
     ]
    }
   ],
   "source": [
    "# Initialize Langchain models\n",
    "model = ChatOpenAI(model_name=\"gpt-3.5-turbo\", temperature=0)\n",
    "embedding_model = OpenAIEmbeddings()\n",
    "\n",
    "\n",
    "# Sample Usage to Test get_score()\n",
    "test_case = test_cases[0]  # Choose the first test case\n",
    "prompt_a = candidates[0]  # Choose the first prompt candidate\n",
    "prompt_b = candidates[4]  # Choose the second prompt candidate\n",
    "\n",
    "#Get scores\n",
    "score = get_score(generated_test_cases[0], prompt_a, prompt_b, model, embedding_model, retriever)\n",
    "\n",
    "print(\"Scores:\", score)\n"
   ]
  },
  {
   "cell_type": "code",
   "execution_count": null,
   "metadata": {},
   "outputs": [],
   "source": []
  }
 ],
 "metadata": {
  "kernelspec": {
   "display_name": ".venv",
   "language": "python",
   "name": "python3"
  },
  "language_info": {
   "codemirror_mode": {
    "name": "ipython",
    "version": 3
   },
   "file_extension": ".py",
   "mimetype": "text/x-python",
   "name": "python",
   "nbconvert_exporter": "python",
   "pygments_lexer": "ipython3",
   "version": "3.9.19"
  }
 },
 "nbformat": 4,
 "nbformat_minor": 2
}
